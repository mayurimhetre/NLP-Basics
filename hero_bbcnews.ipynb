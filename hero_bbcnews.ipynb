{
  "nbformat": 4,
  "nbformat_minor": 0,
  "metadata": {
    "colab": {
      "name": "hero_bbcnews.ipynb",
      "provenance": [],
      "collapsed_sections": []
    },
    "kernelspec": {
      "name": "python3",
      "display_name": "Python 3"
    },
    "language_info": {
      "name": "python"
    },
    "accelerator": "GPU"
  },
  "cells": [
    {
      "cell_type": "code",
      "metadata": {
        "colab": {
          "base_uri": "https://localhost:8080/"
        },
        "id": "LyezO8fcNGjr",
        "outputId": "1615560d-9739-46f8-e523-c6ffc32d3f5c"
      },
      "source": [
        "!pip install texthero"
      ],
      "execution_count": 7,
      "outputs": [
        {
          "output_type": "stream",
          "text": [
            "Collecting texthero\n",
            "  Downloading https://files.pythonhosted.org/packages/1f/5a/a9d33b799fe53011de79d140ad6d86c440a2da1ae8a7b24e851ee2f8bde8/texthero-1.0.9-py3-none-any.whl\n",
            "Requirement already satisfied: pandas>=1.0.2 in /usr/local/lib/python3.7/dist-packages (from texthero) (1.1.5)\n",
            "Requirement already satisfied: matplotlib>=3.1.0 in /usr/local/lib/python3.7/dist-packages (from texthero) (3.2.2)\n",
            "Requirement already satisfied: gensim>=3.6.0 in /usr/local/lib/python3.7/dist-packages (from texthero) (3.6.0)\n",
            "Requirement already satisfied: spacy>=2.2.2 in /usr/local/lib/python3.7/dist-packages (from texthero) (2.2.4)\n",
            "Requirement already satisfied: tqdm>=4.3 in /usr/local/lib/python3.7/dist-packages (from texthero) (4.41.1)\n",
            "Requirement already satisfied: numpy>=1.17 in /usr/local/lib/python3.7/dist-packages (from texthero) (1.19.5)\n",
            "Requirement already satisfied: plotly>=4.2.0 in /usr/local/lib/python3.7/dist-packages (from texthero) (4.4.1)\n",
            "Collecting nltk>=3.3\n",
            "\u001b[?25l  Downloading https://files.pythonhosted.org/packages/5e/37/9532ddd4b1bbb619333d5708aaad9bf1742f051a664c3c6fa6632a105fd8/nltk-3.6.2-py3-none-any.whl (1.5MB)\n",
            "\u001b[K     |████████████████████████████████| 1.5MB 33.5MB/s \n",
            "\u001b[?25hCollecting unidecode>=1.1.1\n",
            "\u001b[?25l  Downloading https://files.pythonhosted.org/packages/9e/25/723487ca2a52ebcee88a34d7d1f5a4b80b793f179ee0f62d5371938dfa01/Unidecode-1.2.0-py2.py3-none-any.whl (241kB)\n",
            "\u001b[K     |████████████████████████████████| 245kB 35.2MB/s \n",
            "\u001b[?25hRequirement already satisfied: scikit-learn>=0.22 in /usr/local/lib/python3.7/dist-packages (from texthero) (0.22.2.post1)\n",
            "Requirement already satisfied: wordcloud>=1.5.0 in /usr/local/lib/python3.7/dist-packages (from texthero) (1.5.0)\n",
            "Requirement already satisfied: python-dateutil>=2.7.3 in /usr/local/lib/python3.7/dist-packages (from pandas>=1.0.2->texthero) (2.8.1)\n",
            "Requirement already satisfied: pytz>=2017.2 in /usr/local/lib/python3.7/dist-packages (from pandas>=1.0.2->texthero) (2018.9)\n",
            "Requirement already satisfied: cycler>=0.10 in /usr/local/lib/python3.7/dist-packages (from matplotlib>=3.1.0->texthero) (0.10.0)\n",
            "Requirement already satisfied: kiwisolver>=1.0.1 in /usr/local/lib/python3.7/dist-packages (from matplotlib>=3.1.0->texthero) (1.3.1)\n",
            "Requirement already satisfied: pyparsing!=2.0.4,!=2.1.2,!=2.1.6,>=2.0.1 in /usr/local/lib/python3.7/dist-packages (from matplotlib>=3.1.0->texthero) (2.4.7)\n",
            "Requirement already satisfied: scipy>=0.18.1 in /usr/local/lib/python3.7/dist-packages (from gensim>=3.6.0->texthero) (1.4.1)\n",
            "Requirement already satisfied: six>=1.5.0 in /usr/local/lib/python3.7/dist-packages (from gensim>=3.6.0->texthero) (1.15.0)\n",
            "Requirement already satisfied: smart-open>=1.2.1 in /usr/local/lib/python3.7/dist-packages (from gensim>=3.6.0->texthero) (5.0.0)\n",
            "Requirement already satisfied: catalogue<1.1.0,>=0.0.7 in /usr/local/lib/python3.7/dist-packages (from spacy>=2.2.2->texthero) (1.0.0)\n",
            "Requirement already satisfied: preshed<3.1.0,>=3.0.2 in /usr/local/lib/python3.7/dist-packages (from spacy>=2.2.2->texthero) (3.0.5)\n",
            "Requirement already satisfied: blis<0.5.0,>=0.4.0 in /usr/local/lib/python3.7/dist-packages (from spacy>=2.2.2->texthero) (0.4.1)\n",
            "Requirement already satisfied: thinc==7.4.0 in /usr/local/lib/python3.7/dist-packages (from spacy>=2.2.2->texthero) (7.4.0)\n",
            "Requirement already satisfied: srsly<1.1.0,>=1.0.2 in /usr/local/lib/python3.7/dist-packages (from spacy>=2.2.2->texthero) (1.0.5)\n",
            "Requirement already satisfied: wasabi<1.1.0,>=0.4.0 in /usr/local/lib/python3.7/dist-packages (from spacy>=2.2.2->texthero) (0.8.2)\n",
            "Requirement already satisfied: cymem<2.1.0,>=2.0.2 in /usr/local/lib/python3.7/dist-packages (from spacy>=2.2.2->texthero) (2.0.5)\n",
            "Requirement already satisfied: plac<1.2.0,>=0.9.6 in /usr/local/lib/python3.7/dist-packages (from spacy>=2.2.2->texthero) (1.1.3)\n",
            "Requirement already satisfied: setuptools in /usr/local/lib/python3.7/dist-packages (from spacy>=2.2.2->texthero) (57.0.0)\n",
            "Requirement already satisfied: murmurhash<1.1.0,>=0.28.0 in /usr/local/lib/python3.7/dist-packages (from spacy>=2.2.2->texthero) (1.0.5)\n",
            "Requirement already satisfied: requests<3.0.0,>=2.13.0 in /usr/local/lib/python3.7/dist-packages (from spacy>=2.2.2->texthero) (2.23.0)\n",
            "Requirement already satisfied: retrying>=1.3.3 in /usr/local/lib/python3.7/dist-packages (from plotly>=4.2.0->texthero) (1.3.3)\n",
            "Requirement already satisfied: joblib in /usr/local/lib/python3.7/dist-packages (from nltk>=3.3->texthero) (1.0.1)\n",
            "Requirement already satisfied: click in /usr/local/lib/python3.7/dist-packages (from nltk>=3.3->texthero) (7.1.2)\n",
            "Requirement already satisfied: regex in /usr/local/lib/python3.7/dist-packages (from nltk>=3.3->texthero) (2019.12.20)\n",
            "Requirement already satisfied: pillow in /usr/local/lib/python3.7/dist-packages (from wordcloud>=1.5.0->texthero) (7.1.2)\n",
            "Requirement already satisfied: importlib-metadata>=0.20; python_version < \"3.8\" in /usr/local/lib/python3.7/dist-packages (from catalogue<1.1.0,>=0.0.7->spacy>=2.2.2->texthero) (4.0.1)\n",
            "Requirement already satisfied: certifi>=2017.4.17 in /usr/local/lib/python3.7/dist-packages (from requests<3.0.0,>=2.13.0->spacy>=2.2.2->texthero) (2020.12.5)\n",
            "Requirement already satisfied: chardet<4,>=3.0.2 in /usr/local/lib/python3.7/dist-packages (from requests<3.0.0,>=2.13.0->spacy>=2.2.2->texthero) (3.0.4)\n",
            "Requirement already satisfied: idna<3,>=2.5 in /usr/local/lib/python3.7/dist-packages (from requests<3.0.0,>=2.13.0->spacy>=2.2.2->texthero) (2.10)\n",
            "Requirement already satisfied: urllib3!=1.25.0,!=1.25.1,<1.26,>=1.21.1 in /usr/local/lib/python3.7/dist-packages (from requests<3.0.0,>=2.13.0->spacy>=2.2.2->texthero) (1.24.3)\n",
            "Requirement already satisfied: typing-extensions>=3.6.4; python_version < \"3.8\" in /usr/local/lib/python3.7/dist-packages (from importlib-metadata>=0.20; python_version < \"3.8\"->catalogue<1.1.0,>=0.0.7->spacy>=2.2.2->texthero) (3.7.4.3)\n",
            "Requirement already satisfied: zipp>=0.5 in /usr/local/lib/python3.7/dist-packages (from importlib-metadata>=0.20; python_version < \"3.8\"->catalogue<1.1.0,>=0.0.7->spacy>=2.2.2->texthero) (3.4.1)\n",
            "Installing collected packages: nltk, unidecode, texthero\n",
            "  Found existing installation: nltk 3.2.5\n",
            "    Uninstalling nltk-3.2.5:\n",
            "      Successfully uninstalled nltk-3.2.5\n",
            "Successfully installed nltk-3.6.2 texthero-1.0.9 unidecode-1.2.0\n"
          ],
          "name": "stdout"
        }
      ]
    },
    {
      "cell_type": "code",
      "metadata": {
        "colab": {
          "base_uri": "https://localhost:8080/"
        },
        "id": "xgvAgTcwNbdK",
        "outputId": "71e02132-a9b2-4069-f338-2b83602f6518"
      },
      "source": [
        "from google.colab import drive\n",
        "drive.mount('/content/drive')"
      ],
      "execution_count": 2,
      "outputs": [
        {
          "output_type": "stream",
          "text": [
            "Mounted at /content/drive\n"
          ],
          "name": "stdout"
        }
      ]
    },
    {
      "cell_type": "code",
      "metadata": {
        "id": "q2W7YQQnNoqY"
      },
      "source": [
        "import pandas as pd\n",
        "df = pd.read_csv('/content/drive/MyDrive/Python_google_colab/bbcsport.csv')"
      ],
      "execution_count": 3,
      "outputs": []
    },
    {
      "cell_type": "code",
      "metadata": {
        "colab": {
          "base_uri": "https://localhost:8080/",
          "height": 204
        },
        "id": "MHBXOyHIN-0c",
        "outputId": "1d426e5c-a7c6-4a0f-ff25-9419ce63655f"
      },
      "source": [
        "df.head()"
      ],
      "execution_count": 4,
      "outputs": [
        {
          "output_type": "execute_result",
          "data": {
            "text/html": [
              "<div>\n",
              "<style scoped>\n",
              "    .dataframe tbody tr th:only-of-type {\n",
              "        vertical-align: middle;\n",
              "    }\n",
              "\n",
              "    .dataframe tbody tr th {\n",
              "        vertical-align: top;\n",
              "    }\n",
              "\n",
              "    .dataframe thead th {\n",
              "        text-align: right;\n",
              "    }\n",
              "</style>\n",
              "<table border=\"1\" class=\"dataframe\">\n",
              "  <thead>\n",
              "    <tr style=\"text-align: right;\">\n",
              "      <th></th>\n",
              "      <th>text</th>\n",
              "      <th>topic</th>\n",
              "    </tr>\n",
              "  </thead>\n",
              "  <tbody>\n",
              "    <tr>\n",
              "      <th>0</th>\n",
              "      <td>Claxton hunting first major medal\\n\\nBritish h...</td>\n",
              "      <td>athletics</td>\n",
              "    </tr>\n",
              "    <tr>\n",
              "      <th>1</th>\n",
              "      <td>O'Sullivan could run in Worlds\\n\\nSonia O'Sull...</td>\n",
              "      <td>athletics</td>\n",
              "    </tr>\n",
              "    <tr>\n",
              "      <th>2</th>\n",
              "      <td>Greene sets sights on world title\\n\\nMaurice G...</td>\n",
              "      <td>athletics</td>\n",
              "    </tr>\n",
              "    <tr>\n",
              "      <th>3</th>\n",
              "      <td>IAAF launches fight against drugs\\n\\nThe IAAF ...</td>\n",
              "      <td>athletics</td>\n",
              "    </tr>\n",
              "    <tr>\n",
              "      <th>4</th>\n",
              "      <td>Dibaba breaks 5,000m world record\\n\\nEthiopia'...</td>\n",
              "      <td>athletics</td>\n",
              "    </tr>\n",
              "  </tbody>\n",
              "</table>\n",
              "</div>"
            ],
            "text/plain": [
              "                                                text      topic\n",
              "0  Claxton hunting first major medal\\n\\nBritish h...  athletics\n",
              "1  O'Sullivan could run in Worlds\\n\\nSonia O'Sull...  athletics\n",
              "2  Greene sets sights on world title\\n\\nMaurice G...  athletics\n",
              "3  IAAF launches fight against drugs\\n\\nThe IAAF ...  athletics\n",
              "4  Dibaba breaks 5,000m world record\\n\\nEthiopia'...  athletics"
            ]
          },
          "metadata": {
            "tags": []
          },
          "execution_count": 4
        }
      ]
    },
    {
      "cell_type": "code",
      "metadata": {
        "colab": {
          "base_uri": "https://localhost:8080/"
        },
        "id": "XYG0CV5MOAaL",
        "outputId": "c52a9500-32d3-4653-cf52-2d76e28461d9"
      },
      "source": [
        "df['topic'].value_counts()"
      ],
      "execution_count": 5,
      "outputs": [
        {
          "output_type": "execute_result",
          "data": {
            "text/plain": [
              "football     265\n",
              "rugby        147\n",
              "cricket      124\n",
              "athletics    101\n",
              "tennis       100\n",
              "Name: topic, dtype: int64"
            ]
          },
          "metadata": {
            "tags": []
          },
          "execution_count": 5
        }
      ]
    },
    {
      "cell_type": "code",
      "metadata": {
        "colab": {
          "base_uri": "https://localhost:8080/"
        },
        "id": "ut73z2pLODzm",
        "outputId": "f3339af6-ad5c-4938-eac3-33d805478a72"
      },
      "source": [
        "df.shape"
      ],
      "execution_count": 6,
      "outputs": [
        {
          "output_type": "execute_result",
          "data": {
            "text/plain": [
              "(737, 2)"
            ]
          },
          "metadata": {
            "tags": []
          },
          "execution_count": 6
        }
      ]
    },
    {
      "cell_type": "code",
      "metadata": {
        "colab": {
          "base_uri": "https://localhost:8080/",
          "height": 296
        },
        "id": "1ImsAZx5OFLU",
        "outputId": "35928c45-5f54-42bd-e5c5-4832accfb86b"
      },
      "source": [
        "import seaborn as sns\n",
        "sns.histplot(df['topic'])"
      ],
      "execution_count": 10,
      "outputs": [
        {
          "output_type": "execute_result",
          "data": {
            "text/plain": [
              "<matplotlib.axes._subplots.AxesSubplot at 0x7f8bb1802810>"
            ]
          },
          "metadata": {
            "tags": []
          },
          "execution_count": 10
        },
        {
          "output_type": "display_data",
          "data": {
            "image/png": "[encoded data removed]",
            "text/plain": [
              "<Figure size 432x288 with 1 Axes>"
            ]
          },
          "metadata": {
            "tags": [],
            "needs_background": "light"
          }
        }
      ]
    },
    {
      "cell_type": "code",
      "metadata": {
        "colab": {
          "base_uri": "https://localhost:8080/"
        },
        "id": "fr4O7HC6OSbl",
        "outputId": "66445db5-af38-4c72-a95d-7c9d32994620"
      },
      "source": [
        "import texthero as hero\n",
        "df['clean_data'] = hero.clean(df['text'])"
      ],
      "execution_count": 11,
      "outputs": [
        {
          "output_type": "stream",
          "text": [
            "[nltk_data] Downloading package stopwords to /root/nltk_data...\n",
            "[nltk_data]   Unzipping corpora/stopwords.zip.\n"
          ],
          "name": "stderr"
        }
      ]
    },
    {
      "cell_type": "code",
      "metadata": {
        "colab": {
          "base_uri": "https://localhost:8080/",
          "height": 204
        },
        "id": "K4z1w74bOida",
        "outputId": "c4b954b0-ac43-4162-8206-a2c53c30f798"
      },
      "source": [
        "df.head()"
      ],
      "execution_count": 12,
      "outputs": [
        {
          "output_type": "execute_result",
          "data": {
            "text/html": [
              "<div>\n",
              "<style scoped>\n",
              "    .dataframe tbody tr th:only-of-type {\n",
              "        vertical-align: middle;\n",
              "    }\n",
              "\n",
              "    .dataframe tbody tr th {\n",
              "        vertical-align: top;\n",
              "    }\n",
              "\n",
              "    .dataframe thead th {\n",
              "        text-align: right;\n",
              "    }\n",
              "</style>\n",
              "<table border=\"1\" class=\"dataframe\">\n",
              "  <thead>\n",
              "    <tr style=\"text-align: right;\">\n",
              "      <th></th>\n",
              "      <th>text</th>\n",
              "      <th>topic</th>\n",
              "      <th>clean_data</th>\n",
              "    </tr>\n",
              "  </thead>\n",
              "  <tbody>\n",
              "    <tr>\n",
              "      <th>0</th>\n",
              "      <td>Claxton hunting first major medal\\n\\nBritish h...</td>\n",
              "      <td>athletics</td>\n",
              "      <td>claxton hunting first major medal british hurd...</td>\n",
              "    </tr>\n",
              "    <tr>\n",
              "      <th>1</th>\n",
              "      <td>O'Sullivan could run in Worlds\\n\\nSonia O'Sull...</td>\n",
              "      <td>athletics</td>\n",
              "      <td>sullivan could run worlds sonia sullivan indic...</td>\n",
              "    </tr>\n",
              "    <tr>\n",
              "      <th>2</th>\n",
              "      <td>Greene sets sights on world title\\n\\nMaurice G...</td>\n",
              "      <td>athletics</td>\n",
              "      <td>greene sets sights world title maurice greene ...</td>\n",
              "    </tr>\n",
              "    <tr>\n",
              "      <th>3</th>\n",
              "      <td>IAAF launches fight against drugs\\n\\nThe IAAF ...</td>\n",
              "      <td>athletics</td>\n",
              "      <td>iaaf launches fight drugs iaaf athletics world...</td>\n",
              "    </tr>\n",
              "    <tr>\n",
              "      <th>4</th>\n",
              "      <td>Dibaba breaks 5,000m world record\\n\\nEthiopia'...</td>\n",
              "      <td>athletics</td>\n",
              "      <td>dibaba breaks 000m world record ethiopia tirun...</td>\n",
              "    </tr>\n",
              "  </tbody>\n",
              "</table>\n",
              "</div>"
            ],
            "text/plain": [
              "                                                text  ...                                         clean_data\n",
              "0  Claxton hunting first major medal\\n\\nBritish h...  ...  claxton hunting first major medal british hurd...\n",
              "1  O'Sullivan could run in Worlds\\n\\nSonia O'Sull...  ...  sullivan could run worlds sonia sullivan indic...\n",
              "2  Greene sets sights on world title\\n\\nMaurice G...  ...  greene sets sights world title maurice greene ...\n",
              "3  IAAF launches fight against drugs\\n\\nThe IAAF ...  ...  iaaf launches fight drugs iaaf athletics world...\n",
              "4  Dibaba breaks 5,000m world record\\n\\nEthiopia'...  ...  dibaba breaks 000m world record ethiopia tirun...\n",
              "\n",
              "[5 rows x 3 columns]"
            ]
          },
          "metadata": {
            "tags": []
          },
          "execution_count": 12
        }
      ]
    },
    {
      "cell_type": "code",
      "metadata": {
        "colab": {
          "base_uri": "https://localhost:8080/",
          "height": 120
        },
        "id": "RfJmG_UmOl_y",
        "outputId": "526b4d58-e427-4ebe-b317-161b60dec2bf"
      },
      "source": [
        "df['clean_data'][0]"
      ],
      "execution_count": 13,
      "outputs": [
        {
          "output_type": "execute_result",
          "data": {
            "application/vnd.google.colaboratory.intrinsic+json": {
              "type": "string"
            },
            "text/plain": [
              "'claxton hunting first major medal british hurdler sarah claxton confident win first major medal next month european indoor championships madrid year old already smashed british record 60m hurdles twice season setting new mark seconds win aaas title quite confident said claxton take race comes long keep training much think chance medal claxton national 60m hurdles title past three years struggled translate domestic success international stage scotland born athlete owns equal fifth fastest time world year last week birmingham grand prix claxton left european medal favourite russian irina shevchenko trailing sixth spot first time claxton preparing campaign hurdles could explain leap form previous seasons year old also contested long jump since moving colchester london focused attentions claxton see new training regime pays dividends european indoors take place march'"
            ]
          },
          "metadata": {
            "tags": []
          },
          "execution_count": 13
        }
      ]
    },
    {
      "cell_type": "code",
      "metadata": {
        "colab": {
          "base_uri": "https://localhost:8080/",
          "height": 137
        },
        "id": "8KM2ATlaOsdi",
        "outputId": "a6c1be08-e1ba-46f7-d767-96af17771d1d"
      },
      "source": [
        "df['text'][0]"
      ],
      "execution_count": 14,
      "outputs": [
        {
          "output_type": "execute_result",
          "data": {
            "application/vnd.google.colaboratory.intrinsic+json": {
              "type": "string"
            },
            "text/plain": [
              "'Claxton hunting first major medal\\n\\nBritish hurdler Sarah Claxton is confident she can win her first major medal at next month\\'s European Indoor Championships in Madrid.\\n\\nThe 25-year-old has already smashed the British record over 60m hurdles twice this season, setting a new mark of 7.96 seconds to win the AAAs title. \"I am quite confident,\" said Claxton. \"But I take each race as it comes. \"As long as I keep up my training but not do too much I think there is a chance of a medal.\" Claxton has won the national 60m hurdles title for the past three years but has struggled to translate her domestic success to the international stage. Now, the Scotland-born athlete owns the equal fifth-fastest time in the world this year. And at last week\\'s Birmingham Grand Prix, Claxton left European medal favourite Russian Irina Shevchenko trailing in sixth spot.\\n\\nFor the first time, Claxton has only been preparing for a campaign over the hurdles - which could explain her leap in form. In previous seasons, the 25-year-old also contested the long jump but since moving from Colchester to London she has re-focused her attentions. Claxton will see if her new training regime pays dividends at the European Indoors which take place on 5-6 March.\\n'"
            ]
          },
          "metadata": {
            "tags": []
          },
          "execution_count": 14
        }
      ]
    },
    {
      "cell_type": "code",
      "metadata": {
        "id": "3A0PG6tBOwaK"
      },
      "source": [
        "df['pca'] = hero.pca(hero.tfidf(df['clean_data']))"
      ],
      "execution_count": 16,
      "outputs": []
    },
    {
      "cell_type": "code",
      "metadata": {
        "colab": {
          "base_uri": "https://localhost:8080/",
          "height": 204
        },
        "id": "bcIUKzPvPESZ",
        "outputId": "32adb2f9-258c-4167-fe78-5debf8a8f7ab"
      },
      "source": [
        "df.head()"
      ],
      "execution_count": 17,
      "outputs": [
        {
          "output_type": "execute_result",
          "data": {
            "text/html": [
              "<div>\n",
              "<style scoped>\n",
              "    .dataframe tbody tr th:only-of-type {\n",
              "        vertical-align: middle;\n",
              "    }\n",
              "\n",
              "    .dataframe tbody tr th {\n",
              "        vertical-align: top;\n",
              "    }\n",
              "\n",
              "    .dataframe thead th {\n",
              "        text-align: right;\n",
              "    }\n",
              "</style>\n",
              "<table border=\"1\" class=\"dataframe\">\n",
              "  <thead>\n",
              "    <tr style=\"text-align: right;\">\n",
              "      <th></th>\n",
              "      <th>text</th>\n",
              "      <th>topic</th>\n",
              "      <th>clean_data</th>\n",
              "      <th>pca</th>\n",
              "    </tr>\n",
              "  </thead>\n",
              "  <tbody>\n",
              "    <tr>\n",
              "      <th>0</th>\n",
              "      <td>Claxton hunting first major medal\\n\\nBritish h...</td>\n",
              "      <td>athletics</td>\n",
              "      <td>claxton hunting first major medal british hurd...</td>\n",
              "      <td>[-0.09098341139255824, 0.10349818483091999]</td>\n",
              "    </tr>\n",
              "    <tr>\n",
              "      <th>1</th>\n",
              "      <td>O'Sullivan could run in Worlds\\n\\nSonia O'Sull...</td>\n",
              "      <td>athletics</td>\n",
              "      <td>sullivan could run worlds sonia sullivan indic...</td>\n",
              "      <td>[-0.00040331415693195137, 0.024597213258187912]</td>\n",
              "    </tr>\n",
              "    <tr>\n",
              "      <th>2</th>\n",
              "      <td>Greene sets sights on world title\\n\\nMaurice G...</td>\n",
              "      <td>athletics</td>\n",
              "      <td>greene sets sights world title maurice greene ...</td>\n",
              "      <td>[-0.11765357712279555, 0.12871763983780504]</td>\n",
              "    </tr>\n",
              "    <tr>\n",
              "      <th>3</th>\n",
              "      <td>IAAF launches fight against drugs\\n\\nThe IAAF ...</td>\n",
              "      <td>athletics</td>\n",
              "      <td>iaaf launches fight drugs iaaf athletics world...</td>\n",
              "      <td>[-0.09137806647329501, 0.1540147100579918]</td>\n",
              "    </tr>\n",
              "    <tr>\n",
              "      <th>4</th>\n",
              "      <td>Dibaba breaks 5,000m world record\\n\\nEthiopia'...</td>\n",
              "      <td>athletics</td>\n",
              "      <td>dibaba breaks 000m world record ethiopia tirun...</td>\n",
              "      <td>[-0.09122883447935112, 0.13490398713504895]</td>\n",
              "    </tr>\n",
              "  </tbody>\n",
              "</table>\n",
              "</div>"
            ],
            "text/plain": [
              "                                                text  ...                                              pca\n",
              "0  Claxton hunting first major medal\\n\\nBritish h...  ...      [-0.09098341139255824, 0.10349818483091999]\n",
              "1  O'Sullivan could run in Worlds\\n\\nSonia O'Sull...  ...  [-0.00040331415693195137, 0.024597213258187912]\n",
              "2  Greene sets sights on world title\\n\\nMaurice G...  ...      [-0.11765357712279555, 0.12871763983780504]\n",
              "3  IAAF launches fight against drugs\\n\\nThe IAAF ...  ...       [-0.09137806647329501, 0.1540147100579918]\n",
              "4  Dibaba breaks 5,000m world record\\n\\nEthiopia'...  ...      [-0.09122883447935112, 0.13490398713504895]\n",
              "\n",
              "[5 rows x 4 columns]"
            ]
          },
          "metadata": {
            "tags": []
          },
          "execution_count": 17
        }
      ]
    },
    {
      "cell_type": "code",
      "metadata": {
        "colab": {
          "base_uri": "https://localhost:8080/",
          "height": 542
        },
        "id": "nKa9MpzrPOw0",
        "outputId": "d8a65f29-5392-465c-b883-a5da1e675746"
      },
      "source": [
        "hero.scatterplot(df,'pca',color = 'topic')   ################## 5 categories in topic column"
      ],
      "execution_count": 22,
      "outputs": [
        {
          "output_type": "display_data",
          "data": {
            "text/html": [
              "<html>\n",
              "<head><meta charset=\"utf-8\" /></head>\n",
              "<body>\n",
              "    <div>\n",
              "            <script src=\"https://cdnjs.cloudflare.com/ajax/libs/mathjax/2.7.5/MathJax.js?config=TeX-AMS-MML_SVG\"></script><script type=\"text/javascript\">if (window.MathJax) {MathJax.Hub.Config({SVG: {font: \"STIX-Web\"}});}</script>\n",
              "                <script type=\"text/javascript\">window.PlotlyConfig = {MathJaxConfig: 'local'};</script>\n",
              "        <script src=\"https://cdn.plot.ly/plotly-latest.min.js\"></script>    \n",
              "            <div id=\"944f65ef-be6e-4628-92c3-c628f13481da\" class=\"plotly-graph-div\" style=\"height:525px; width:100%;\"></div>\n",
              "            <script type=\"text/javascript\">\n",
              "                \n",
              "                    window.PLOTLYENV=window.PLOTLYENV || {};\n",
              "                    \n",
              "                if (document.getElementById(\"944f65ef-be6e-4628-92c3-c628f13481da\")) {\n",
              "                    Plotly.newPlot(\n",
              "                        '944f65ef-be6e-4628-92c3-c628f13481da',\n",
              "                        [{\"hoverlabel\": {\"namelength\": 0}, \"hovertemplate\": \"topic=athletics<br>x=%{x}<br>y=%{y}\", \"legendgroup\": \"topic=athletics\", \"marker\": {\"color\": \"#636efa\", \"symbol\": \"circle\"}, \"mode\": \"markers\", \"name\": \"topic=athletics\", \"showlegend\": true, \"type\": \"scatter\", \"x\": [-0.09098341139255824, -0.00040331415693195137, -0.11765357712279555, -0.09137806647329501, -0.09122883447935112, -0.11033321347181438, -0.029024643566661696, -0.042938325113800836, -0.12886124919411945, -0.157567877767494, -0.09579534505598561, -0.1078011136904909, -0.08959278887682146, -0.08052577218493691, -0.07798162323431491, -0.12042650265776265, -0.140825151996141, -0.10518518322893795, -0.11127019931667258, -0.1078011136904909, -0.09687907980628797, -0.10718783051381268, -0.14565879855907937, -0.0745845539392651, -0.10878981959012135, -0.08604110730576907, -0.0992718898777571, -0.11476469129503855, -0.1091751475452985, -0.07436605763716543, -0.049738492100108896, -0.13232421448832962, -0.15099246664818733, -0.13170913456521302, -0.0894305734325833, -0.05496350057380631, -0.10211434453470512, -0.1020302803989757, -0.058113472627559414, -0.07941390682159147, -0.06953664278108657, -0.09021843647098923, -0.061801575778791515, -0.05656204755927048, -0.09437135093859068, -0.08176550787860334, -0.11255052404879033, -0.12696915210079854, -0.05505076970108021, -0.12113641343847711, -0.12802004758594485, -0.09403599650428732, -0.09625703434651527, -0.14341727586671144, -0.09686980376786189, -0.10448564341462159, -0.12829652634673844, -0.13834815993703403, -0.11370064795886879, -0.10007194128884349, -0.11200788692339644, -0.061779281237348674, -0.12162698825772857, -0.06475896039525625, -0.11012103737295043, -0.16008938447722695, -0.11230010986646267, -0.03026811818669594, -0.17664508613514235, -0.10724078963267926, -0.10580495543532996, -0.05926551991415214, -0.10760303619943566, -0.10498862245548389, -0.10482441288769496, -0.06405440795485186, -0.014846662896920194, -0.0809406604707062, -0.1353147675593586, -0.13039224591944945, -0.14636055677318177, -0.1278181660370338, -0.06356070436346865, -0.09403599650428732, -0.07469199539728792, -0.0801743525357201, -0.0835731313971882, -0.05505076970108021, -0.13196273358255514, -0.0923638004590258, -0.07014159705581272, -0.07764426479963991, -0.02263885991295728, -0.08832339099512156, -0.15271934341182378, -0.11289266565830326, -0.04431793005619947, -0.10719080197165622, -0.1379716986719811, -0.06310335795017175, -0.05845775433216346], \"xaxis\": \"x\", \"y\": [0.10349818483091999, 0.024597213258187912, 0.12871763983780504, 0.1540147100579918, 0.13490398713504895, 0.15758344882434902, 0.07028390584423409, 0.03469892367788972, 0.1706690500606286, 0.24037397764431048, 0.11489257705936093, 0.10880214375628304, 0.11672973459119856, 0.04873794059501948, 0.13013985251048096, 0.3314872091637377, 0.3340025376872572, 0.17686015948995779, 0.1346737163266605, 0.10880214375628304, 0.1571250036232456, 0.131029664472609, 0.33459314454615696, 0.11082541352234063, 0.15264760167325578, 0.18020787308885694, 0.15869072739109952, 0.13625686264444495, 0.16120001600549283, 0.10375018396767473, 0.07710478440312087, 0.20823449994638876, 0.3368006433992611, 0.15871404276939105, 0.16935434526142407, 0.1293374927213844, 0.13619064214855237, 0.08914511726551858, 0.12310000961766704, 0.08347804455576847, 0.09694395896543591, 0.1251021772192336, 0.12053625500009443, 0.07959678771116177, 0.16009001908255058, 0.11333927047060272, 0.25884074094660336, 0.3035107235799214, 0.13489571141948808, 0.32246041742235093, 0.3440072187568803, 0.15305807692202378, 0.11269653916227447, 0.31469611194406294, 0.1383688106204695, 0.13368623996297976, 0.15065131588335834, 0.16398423938402304, 0.08927060892835409, 0.13696356522597258, 0.15005188759432297, 0.08591069935231171, 0.1561340949200858, 0.10142113560055266, 0.13121228996684076, 0.2946421500865826, 0.15633083604006934, 0.0815434016875699, 0.24973862055386192, 0.08383715574572038, 0.11830465793432429, 0.06546706178995908, 0.08474837620302535, 0.12823746649649245, 0.1854153025846357, 0.10149294531474622, 0.05013264679706245, 0.11152672041983816, 0.3271615909448231, 0.2780771945470966, 0.34301539153163674, 0.3381518610943655, 0.10749226482232971, 0.15305807692202378, 0.10386215187536108, 0.09758340089250807, 0.1199332230214723, 0.13489571141948808, 0.30843163110324456, 0.09778214546483621, 0.13439361473743663, 0.10352633068105287, 0.013261261221921913, 0.11312930549023535, 0.22095557108059052, 0.1243872671301916, 0.05656522394195121, 0.15217981340671988, 0.17971828229313402, 0.0177290845117853, 0.11544947370572634], \"yaxis\": \"y\"}, {\"hoverlabel\": {\"namelength\": 0}, \"hovertemplate\": \"topic=cricket<br>x=%{x}<br>y=%{y}\", \"legendgroup\": \"topic=cricket\", \"marker\": {\"color\": \"#EF553B\", \"symbol\": \"circle\"}, \"mode\": \"markers\", \"name\": \"topic=cricket\", \"showlegend\": true, \"type\": \"scatter\", \"x\": [0.25335200508738165, 0.21407414881053377, 0.226010559050543, 0.21743129266519798, 0.11987048240962535, 0.13974538161512243, 0.12124416350517865, 0.10650752933958091, 0.149548184225695, 0.10173470727415998, 0.12024312749325547, 0.05254961159591904, 0.3132613801991504, 0.06336948591642082, 0.20986728442327365, 0.03218241124130532, 0.06178300676958346, 0.14890038681621612, 0.2255639994886553, 0.1759604791531325, 0.06178300676958346, 0.1890932510568414, 0.13954777710494665, 0.16207628334362992, 0.07291712452571454, 0.21484599390156947, 0.2300800556209442, 0.2114598535625827, 0.1397231222586372, 0.10529936025605892, 0.25211615855374775, 0.16207628334362992, 0.07291712452571454, 0.1921943696245588, 0.09289987910341364, 0.11202378533617284, 0.08187605225650302, 0.16445700995520685, 0.11116081642858705, 0.18275789111463206, 0.12955528204297623, 0.2457193605406107, 0.2506930597673503, 0.21434738526624367, 0.2627550221290147, 0.16640100169686292, 0.061501795396674504, 0.19774492746070582, 0.13321855695402474, 0.18827788286539354, 0.031086654838840933, 0.26564763817079967, 0.26616034765972235, 0.2301139574582428, 0.12812838807719434, 0.22397325948337618, 0.11958574416185841, 0.05640226955822173, 0.20609438305029237, 0.1675233534610862, 0.16739877852134039, 0.2296793783704417, 0.2978412224792115, 0.20875324643745558, 0.1575525753735643, 0.12867892696928399, 0.19266942205935048, 0.37099427887150915, 0.1308612791397894, 0.25730334098116464, 0.34169900816913984, 0.1554615575697944, 0.3048797754194082, 0.2491393963369662, 0.35123524726893235, 0.1960151344191081, 0.16893321400449404, 0.06193487842993622, 0.18965129223120158, 0.24678330128465187, 0.17383227927440265, 0.2753276634361537, 0.32687572007724136, 0.3273146657399076, 0.10500676938360964, 0.2662734207048366, 0.27960981872403984, 0.28290201152451594, 0.2768772167105667, 0.13891797105836617, -0.026171283374095022, 0.08985794037651958, 0.20736659663605006, 0.03123345197431238, 0.14535489428984386, 0.17706226419455925, 0.11112523001309267, 0.17790727852855473, 0.10032571178943954, 0.16853766284366958, 0.08762062929892266, 0.017466056694400336, 0.08977322615308797, 0.09378908302795941, 0.06742211943878573, 0.047190306254439644, 0.20533277189230908, 0.039001083341000484, 0.28613120659173585, 0.2041571429353873, 0.11376814951478723, -0.03346322208752799, 0.16643688220422512, 0.12973225160795654, 0.10125807678889734, 0.02837985716834322, 0.20878087275508453, 0.11373626383179228, 0.23116285231365719, 0.10384657899001025, 0.13505477096754404, 0.08435368543132918, 0.11021918642717639, 0.11957802917285251], \"xaxis\": \"x\", \"y\": [0.11929310963112995, 0.05727653068583116, 0.09699158449466545, 0.17738633048718844, 0.00898062638684404, 0.028664966562363333, 0.10682152192120059, 0.07328932859835578, 0.14622094550455567, 0.05950749935196548, 0.10343388611715788, -0.00615523406068056, 0.0716357481822722, 0.02840478325555086, 0.07538081637763074, 0.0019189757556336965, 0.06368322938371662, 0.04715444498738011, 0.0645511231871073, 0.031800047429804704, 0.06368322938371662, 0.17124922272344867, 0.10984662097797301, 0.14000594554826673, 0.11227801256855852, 0.1730580995229523, 0.09101306093246501, 0.13320893163966793, 0.10957175181738242, 0.03171925368383643, 0.074390091360359, 0.14000594554826673, 0.11227801256855852, 0.1760962138540271, 0.0761415786875265, 0.0433539408339909, 0.09403638355563955, 0.09454722021507393, 0.0609747412927372, 0.041131066208268334, 0.12272485693902253, 0.0309339687999621, 0.05996219962192101, 0.1627159011066964, 0.17576624492487675, 0.09045743234041577, 0.07753985845089094, 0.03498621062578968, 0.06961840928953732, 0.050453965453846075, 0.008193958743039447, 0.11444304840298168, 0.11551959789856674, 0.15638435430138292, 0.11045559888965828, 0.11110276421181565, 0.10180107652728689, 0.08038754088341511, 0.1126147512246151, 0.16226047871314517, 0.16175720178066919, 0.16580312419746931, 0.01738863148629028, 0.05463153433326703, 0.1550220633639964, 0.07703742677658133, 0.02692604850979332, 0.06913131081485581, 0.02830987149911352, 0.20657171703165697, 0.01640447028559341, 0.09787195206982317, 0.07117486598511005, 0.20328202792904565, 0.06698242389153213, -0.0002986444770460629, 0.13898596048765058, 0.059382403395356796, 0.038808758166172755, 0.0603971663815367, 0.12931240337788424, 0.1789164990287487, 0.06351147303124678, 0.06619852635646696, 0.09609879630461146, 0.2144890526921854, 0.20466628167645207, 0.20625773742587641, 0.01889203811418856, 0.11356709308426124, 0.06440496628864585, 0.05051709276523367, 0.060373334875582954, 0.06981557640124784, 0.015727454437584578, 0.02872543014934222, -0.01942750650306665, 0.12788986822626353, 0.05394135799658649, 0.13636928449313596, 0.07632065568124155, 0.06479023756948912, 0.06600468804847556, 0.12278228153839015, 0.0641787127193571, 0.057042805900306054, 0.031471673791825354, 0.011876461086368553, 0.022187613442466777, 0.12190177846160406, 0.10748284155881838, 0.0627868569893481, 0.11680281604106196, 0.12306700601598819, 0.0741201728850577, -0.004375548880931824, 0.027296536204849856, 0.049425956657051705, 0.02148498629216886, 0.0742009975175694, 0.102772128395319, -0.0023394813944868265, -0.042086776127663, 0.08186280389953365], \"yaxis\": \"y\"}, {\"hoverlabel\": {\"namelength\": 0}, \"hovertemplate\": \"topic=football<br>x=%{x}<br>y=%{y}\", \"legendgroup\": \"topic=football\", \"marker\": {\"color\": \"#00cc96\", \"symbol\": \"circle\"}, \"mode\": \"markers\", \"name\": \"topic=football\", \"showlegend\": true, \"type\": \"scatter\", \"x\": [-0.04700458289708847, -0.11367237041600241, -0.08359300991695433, -0.09697405457798262, 0.07291963649788658, -0.03377786647295471, -0.07625056931443085, -0.19867752082564596, -0.0999632717438017, -0.12652311473436403, -0.006101968513992441, -0.016394489764306536, -0.011309385991121789, -0.0020139814455596614, -0.005057464054667498, -0.05482940829812452, -0.12300079972402593, -0.17141977556455196, -0.004554268614148409, -0.041287082615135265, -0.03805808307351439, -0.04719553661828786, -0.05176241347328406, -0.13839782302768508, -0.0240452660370724, -0.010990720923513914, -0.17154207969728658, -0.10751499878155561, 0.005026402792169059, -0.06762588143656309, -0.13746341475914564, -0.06463018381876653, -0.017106853896601708, 0.016363775752162867, 0.006798490657884582, -0.05997900984210802, -0.043204058687418764, 0.002991858523715773, 0.014919990882973381, 0.021613786765258096, -0.03135687046259323, -0.05997026699615114, -0.07752332860489286, -0.06617377334454089, -0.06355773432838872, -0.10977293489128569, -0.14866502179306376, -0.04871559245566999, -0.056506367863639766, -0.0871008469594119, -0.024292165195610237, -0.02700822524026339, -0.04031887463982592, -0.05405287042853012, -0.04763694502103482, -0.0475729938127906, -0.055162486846372184, -0.1067697832022265, -0.060731026110363025, -0.12697848072670614, -0.08865840765870785, -0.07408412434067328, -0.1132099149152171, -0.0967844687477863, -0.18476791629491246, -0.05509583511226158, -0.08297967544605074, -0.05006197993667824, -0.07077461056867301, -0.05946360456038255, -0.08766326223296969, -0.06607740073405259, -0.10974558200355776, -0.13237212231656698, -0.20199951133814645, -0.08623029324683376, -0.03329874072866528, -0.07562054287492438, -0.008607346982458889, -0.1270567306035378, -0.07640350766447247, -0.07536645920477203, -0.18264598062133386, -0.0868108700804549, -0.05187835243020088, -0.07307717780798713, -0.13023613290545327, -0.13023613290545327, -0.1492236746072712, -0.11790264213688141, -0.03604831330566948, -0.08001964997764757, -0.07831665838565313, -0.10682009544325706, -0.07590766447835365, 0.02208246073744664, -0.03846394098011988, -0.09021371465057369, -0.10613362088782002, -0.05028225338401247, -0.0761980521230415, -0.1181788914581816, -0.0996501464691091, -0.11976742505196608, -0.14078699294989014, -0.06874994444137668, -0.12777713788280354, -0.0512725283976006, -0.07089144086379555, -0.04927359536223928, -0.05971313051030224, -0.11697160734579835, -0.0454600879611163, -0.05472479361063231, -0.16288416577571993, -0.04034717115759535, -0.11234902832653115, -0.0320055298410785, -0.025491029091295914, -4.2126235541640035e-05, -0.014126544688912853, -0.0324447229055217, -0.02191750430759534, -0.1748970375106723, 0.017091819902996894, -0.06179081721030494, -0.05158792476189706, -0.04638481148499254, -0.09494600641794984, -0.020845440511708363, 0.00512728387747946, -0.03897167818946951, -0.11320608597251795, -0.11353548226718667, -0.060530948080037145, -0.05465121699632883, -0.1322669301860021, -0.03262698884918916, -0.05766750526672752, -0.06950997193534925, -0.13119500260788297, -0.10575219607636821, -0.11629969509361597, -0.09563535786849693, -0.13096125126954145, -0.018040501101176866, -0.06384887202700001, -0.1009347694301015, -0.19370405145138983, -0.06331149584397008, -0.05284436401314795, -0.11581255421012217, -0.05108558579733292, -0.09778941607593282, -0.07209568862015549, -0.057001596033134386, -0.07896917449031095, -0.14656007436921575, -0.0445977674315583, -0.11383165211134356, -0.14656007436921575, -0.0671409568538468, -0.06851825390273092, -0.06851825390273092, -0.09297848799781197, -0.06954332958214426, -0.060293359449755383, -0.05179538760583302, -0.036217127314317935, -0.06026499386838285, -0.08727296979359796, -0.13345415189066212, -0.07251340224340579, -0.040588920178470475, -0.040084325122519714, -0.06035253321272608, -0.07180350930991818, -0.15666006848820482, -0.07466181354122074, -0.17000909036502843, -0.09026884436900758, -0.05527406302881337, -0.04016045072361217, -0.06151819633318534, -0.08176659858878871, -0.12822047516513982, -0.08678715722323505, -0.09589449954611526, -0.07993184050805119, -0.1610142982434953, -0.15673857796749874, -0.11924573233540958, -0.07913506643971817, -0.07279110385523756, -0.05917490918218638, 0.005120456013646141, -0.036941475351873004, -0.10095935306523532, -0.07656790025260718, -0.0676820840041753, -0.053611544838334295, -0.19566811028069514, -0.05516790967679166, -0.0654027901545406, -0.07699650278958997, -0.04275858680940103, -0.2000746472408594, -0.052027261263744504, -0.1445476165411343, -0.08359300991695433, -0.06635594341481424, -0.07783464143968657, -0.03544274043004017, -0.04747659323278126, -0.12166920516599711, -0.07016195992200319, -0.030237228371588955, -0.05998487460200936, -0.022858445835785963, 0.002542213979697891, -0.1338246526373929, -0.005670010039767813, -0.10055273614782802, -0.032600616691193116, -0.04231348931392212, -0.09717163412061117, -0.03240314662914599, -0.08211057191019977, -0.18141309264823344, -0.12570739258723873, -0.06025768218411281, -0.08695937205887407, -0.09182467661221969, -0.06039075957816573, -0.0487890091831089, -0.02463306951738469, -0.08936304221303676, -0.06692196162967295, -0.18558058468175245, -0.11396137908795477, -0.12251695042687472, -0.06410642441167134, -0.17238923333809972, -0.080539946187144, -0.1298653702219821, -0.07551633835448979, -0.025410882760736005, -0.04546862812989607, -0.05798951321764489, -0.14908206363932616, -0.07938009559890503, -0.12644780949212764, -0.07878137486927733, -0.04089936124845809, -0.03993184620832632, -0.054929452713927136, -0.1015250121510251, -0.009507817074634316, -0.0516889408261996, -0.08306046129588124, -0.021670399695986796, -0.09846831302589266, -0.06488980720959012, -0.03568759907158551, -0.0027793596406315213], \"xaxis\": \"x\", \"y\": [-0.08540726670154626, -0.11591276580535352, -0.06960017351032736, -0.06775485063073157, -0.062008202390792314, -0.00896953016461202, -0.09479923376204671, -0.21837654439309637, -0.12065213836859902, -0.16692602268953416, -0.05597739511816616, -0.04571869851579936, -0.04282648089213366, -0.026796992468694634, -0.017868325815891418, -0.05860455632708011, -0.20005403699321062, -0.17025062335476474, -0.04517647166651874, -0.043591108324737296, -0.10386395656880543, -0.033336280637221605, -0.015423849247860567, -0.12681206398542874, -0.12837158411732255, -0.0794016072493043, -0.1699764833752225, -0.1219322146097394, -0.07099221626603423, -0.03274623291945623, -0.1424361797547843, -0.07835747171984755, -0.014453767531225454, -0.042614059430957134, -0.049201095299721345, -0.008929123628849959, 0.01496434685864737, -0.020293950977257478, -0.11209488498588299, -0.009866711365288158, -0.020272195073949187, 0.03677995210341227, -0.07419599558975101, -0.05753132617216245, -0.08301539287995334, -0.10154809371009368, -0.17338300557760147, -0.14239182592465963, -0.03373211451675489, -0.08086766752139865, -0.051268958924266916, -0.018483069144832324, -0.03137410966676292, -0.007360411015902253, 0.006428292061646911, -0.08551686464008891, -0.11033023250147514, -0.11052974854762475, -0.013251839774294982, -0.08860437633298116, -0.11292755952930206, -0.07733086736134308, -0.1133107362112174, -0.06931970654686238, -0.24203944016215997, -0.11238029910690132, -0.05734167453764331, -0.05844997731567629, -0.07253555275489476, -0.028169430456078594, -0.0737994175014954, -0.03488653903314406, -0.09114387030381788, -0.08572010716961517, -0.18345964839411597, -0.005646787730763773, -0.0050343862441484, -0.06819533072368908, 0.013759460399224103, -0.08212667531396768, -0.019001837640838237, -0.07458838862320714, -0.16550255518725998, -0.06476273681920888, -0.06263273919087788, -0.1042751766719841, -0.14204890974170814, -0.14204890974170814, -0.15651239015057175, -0.12299636033539618, -0.038992516720283664, -0.06122530898649128, -0.04713418801621222, -0.08007386534589525, -0.059837483766720774, 0.03802953712043764, -0.0058190963985236994, -0.0959228749778396, -0.05581979110663884, -0.013033956094880313, -0.06911688447460682, -0.10461802151608389, -0.0700446781487057, -0.0969721623470202, -0.0012108916197058324, -0.08891707436884656, -0.05060637150741446, -0.020727148561491233, -0.016851342599756545, 0.004677277940495222, -0.06749037923512347, -0.0864618327488485, -0.02536776498809856, -0.07592861327340686, -0.17288918545323934, -0.005377036865886462, -0.06901465467784658, -0.04678528162699646, -0.007827842879378722, 0.010271089931821738, 0.0018091750404862909, -0.07620872404194261, -0.08117504291865539, -0.20049191393471144, -0.006412258759270403, -0.029740302874609416, -0.04160866904119247, -0.06707311018482841, -0.1353976042971449, 0.011218536631738756, 0.0004050244489890853, -0.05568923063473624, -0.1223501615567487, -0.14456184395189875, -0.06876609015042091, -0.026161854484950203, -0.1493113254182561, -0.055682493370997205, -0.0338336512075483, -0.004049733829047883, -0.1497016106526519, -0.1591127241158503, -0.09446773477877586, -0.11967748776175643, -0.13236709430217544, -0.053210548187438096, 0.0431760403042195, -0.08880149335659335, -0.19754753900123323, -0.05034539163428944, -0.03709548831129936, -0.1368122584538514, -0.06673691001458604, -0.11074446252868704, -0.03533698040633695, -0.06437078328006043, -0.039721761137597296, -0.1671954151173996, 0.0018491356970354398, -0.0916269826437825, -0.1671954151173996, -0.05474265589839507, -0.014001911020119322, -0.014001911020119322, -0.09677739174161865, -0.06462446642124257, -0.03242461206021723, -0.0010949055354072966, -0.05166977065693568, -0.03333530912583311, -0.028878642906937084, -0.10595470224855437, -0.09195425113778416, -0.08655768590428822, -0.06573882054476483, -0.07165273863231594, 0.01825215449461715, -0.09407758092376549, -0.04752369365948891, -0.19738325848889196, -0.06673623890456899, -0.03050685649897816, -0.020297243771253685, -0.09032587380939024, -0.06354833428786057, -0.13749038097330507, -0.12903343784792315, -0.1112401657575178, -0.11820899172741242, -0.13227770406335285, -0.19446730300188278, -0.16886745831010724, -0.09019659973159593, -0.09269610469085776, -0.033687808164171495, -0.03758005499297686, 0.005516678800170217, -0.14896395846101315, -0.17768997164724692, -0.14985170949217785, -0.061968620241643825, -0.24854722489201594, -0.07303769985724524, -0.06563246650293662, -0.11658958790016244, -0.02679735797329645, -0.2185263537511901, -0.042860406153705, -0.1726876145646611, -0.06960017351032736, -0.1260961805871603, -0.12784836736409977, -0.029443398168559166, -0.055512923122358455, -0.13712930209052399, -0.09119466847838237, -0.010668575761687893, -0.061685348082374684, -0.010106219921063704, 0.009004246904108492, -0.186438596854466, -0.052903657630594514, -0.0632107274594684, -0.00024384735835407655, -0.008266876070611237, -0.11854443247890012, -0.01255357085131959, -0.05798583245193647, -0.1885749375034986, -0.10211516097460693, 0.05197243197726392, -0.05728898169853453, -0.06462518581295909, -0.038475071820899924, -0.014899338297988923, -0.08381857817065773, -0.09263777488777059, -0.08449933007731929, -0.16931569318484446, -0.13194484947967916, -0.10839719370714528, -0.024157586265673985, -0.20418410003763027, -0.03511363266726941, -0.11536952895548329, -0.06469784442264101, -0.06986658272778837, 0.023609435466572043, -0.09660750858284001, -0.1529809306102248, -0.09423707158902901, -0.12226548895888466, -0.09529578281120295, -0.05329770134413985, -0.010712578015091612, 0.023178141260992626, -0.006710590848306379, 0.031014704181530385, -0.043438136093570896, -0.11078210143662906, -0.022826085072551825, -0.10870265853830492, -0.028311355786937574, -0.02220001175425345, -0.0210061845496319], \"yaxis\": \"y\"}, {\"hoverlabel\": {\"namelength\": 0}, \"hovertemplate\": \"topic=rugby<br>x=%{x}<br>y=%{y}\", \"legendgroup\": \"topic=rugby\", \"marker\": {\"color\": \"#ab63fa\", \"symbol\": \"circle\"}, \"mode\": \"markers\", \"name\": \"topic=rugby\", \"showlegend\": true, \"type\": \"scatter\", \"x\": [0.13161076574683586, 0.19140870301537927, 0.13730899721332143, 0.05711939152653701, 0.06657733461602429, 0.15155639900303516, 0.13500532592991735, 0.12867923159041814, 0.10029357622902138, 0.040030242411941266, 0.009765515785263251, 0.06053273651720585, 0.08262848181596037, 0.030422675097128832, 0.038149101050522334, 0.15793432627446893, 0.19683624193394772, 0.08499928250120319, 0.15877254338718436, 0.15238382372260748, 0.1623534389739863, 0.0914036751705434, 0.06234151919603184, 0.09358273670325122, 0.14883730442395804, 0.0272524972000684, 0.13531408555284852, 0.18674673086144872, 0.22273834132378267, 0.10964573948246936, 0.15592650253162124, 0.21120515202003082, 0.061909739861966136, -0.008930359884763891, 0.04046274702899127, -0.007435990716259471, 0.21156521758724972, 0.03480517982556279, 0.18230116337335214, 0.27881305369251774, 0.025280217888410703, 0.03647409840539833, 0.13903019928887303, 0.044226592228316, 0.12283699158191465, 0.12151604723074341, 0.13730707429823555, 0.23964683381261556, 0.10403626218414093, 0.13265033857477282, 0.1832273990463026, 0.09507534729913532, 0.12658584391603986, 0.11118435486765815, 0.13420634671067527, 0.2687744440154933, 0.12771948776176426, 0.07006826012545526, 0.20742531271308312, 0.10947931270720004, 0.10403626218414093, 0.14122910811217926, 0.06406230640698443, 0.10098398490737168, 0.10404147175359095, 0.1516798333211284, 0.047030383132796644, 0.21197506857805212, 0.10301525968392654, 0.04507389389089107, 0.03879711249407057, 0.11943012153807744, 0.14641332866092635, 0.06722179099739264, 0.08648286696013786, 0.05880729989074263, 0.05736199041254703, -0.02488930273926599, 0.0533435772290479, 0.0041392191283623585, 0.09020643960910613, -0.002119327524571838, 0.025084469157835288, 0.05787567818195492, 0.17306344184218983, 0.09536211514031728, 0.11917081371249151, 0.17200013458936758, -0.016528586354124235, 0.20467319509234538, 0.02121509270865724, 0.1189313594031197, 0.05130686686414639, 0.17622269447599484, 0.10916369853952208, 0.05774403475328059, 0.06595821759378424, 0.09407179397658136, 0.06380608177230068, 0.16282688586070546, 0.015135696647324694, 0.13230314264841186, 0.044730421339145295, 0.13197258804964404, 0.1299693632018602, 0.11265432525756194, 0.0356489470852642, 0.04513501044161437, 0.08242204027374532, 0.022462813721103803, 0.0021406535306914107, -0.05516575360327342, -0.053983624830293654, 0.028855268985823142, 0.027170406300748524, -0.04069168590463496, 0.18438578792873167, 0.06391246201492638, 0.0523809412807868, -0.002199462443791149, 0.13034002997885913, 0.13861734751331536, 0.09661079741905632, -0.031265384924892066, -0.021927167710556035, -0.04806903540797908, 0.11041221222737667, 0.11753522953822963, 0.1439460301904814, 0.1806495669531405, 0.15124546083834703, 0.2626870798122266, 0.15161620979028273, 0.15168385271336654, 0.09507534729913532, 0.11913737648728964, 0.11904666325242674, 0.03638096838241969, 0.12710337424579748, 0.06978088954781743, 0.225316848109402, 0.14067398878453347, 0.22342786552222568, 0.12420174250433615, 0.137043528860371, 0.08040565826600009, 0.04600791962019439], \"xaxis\": \"x\", \"y\": [-0.18031347491636973, -0.2052934980881953, -0.16536197180406406, -0.04925263359603198, -0.10295971378638911, -0.20113025645816884, -0.1768767368987586, -0.1454264751699994, -0.12922252380629193, -0.042378634731133166, -0.05572887404844763, -0.03400251144938317, -0.10261078269179695, -0.08574670912224848, -0.0399022634120423, -0.15975175020367116, -0.16154750029888335, -0.10690725105438957, -0.11315647786807993, -0.15779876159006798, -0.14662581032077712, -0.09940818003409174, -0.04834007377621135, -0.0804458746569825, -0.15817474361385905, -0.09775854227911308, -0.09724366427667158, -0.12521504592853744, -0.11725330465723764, -0.14798148999821248, -0.11078274343225271, -0.1614604761594674, -0.1248827887922696, -0.012556993434235771, -0.06467335998425854, 0.019327766730403345, -0.1240205599813851, -0.054328800132512865, -0.08251926431294734, -0.21988653278497033, 0.00671045821036507, 0.008042281854479798, -0.17854817276630713, -0.11669586533559226, -0.07809632918408625, -0.07703876916809088, -0.149647447817562, -0.1400288423686913, -0.08427709492104248, -0.08981179077709057, -0.15542464239736303, -0.0896225420419787, -0.15017997802373698, -0.09152282281424809, -0.16723861564270906, -0.09795313156401023, -0.12898166080665496, -0.0679142158231783, -0.18714441113668673, -0.10807731267916432, -0.08427709492104248, -0.11713009466486077, -0.10160208161004071, -0.11749011434956637, -0.12687718189487024, -0.154863851358313, -0.024588058699739526, -0.16040347946708888, -0.11454631557646375, -0.01843584160485015, -0.08744209428059779, -0.09973948070833381, -0.14501644419515855, -0.11401417713905038, -0.14198513178931663, -0.09303515440247331, -0.12654933525251774, -0.026459791127376165, -0.042226679599964706, -0.025894242925473255, -0.1071871126715288, -0.05010018609036013, -0.027361196095880738, -0.057374230655939336, -0.09370386001853562, -0.01792879724671456, -0.08262250126223826, -0.0681955350677991, -0.024983194574140853, -0.1595662384394119, -0.008196607298278868, -0.07661944681420914, -0.09760935316720956, -0.09716729406424146, -0.05565777907340329, -0.021497122030095826, -0.06758810599443338, -0.03856785635543174, -0.018833250553866473, -0.14107005832931807, -0.01605871810806857, -0.09199492010128066, 0.008220581034469432, -0.09163864095178127, -0.08065579581911894, -0.06331423145449389, -0.08650777357698954, -0.09442547820761915, -0.0043285371396086895, -0.08113657684939754, -0.07237152397169908, -0.030503725142255283, -0.0315387046507019, -0.025711015792525733, -0.019604509565004206, -0.05773921780998544, -0.1883961040452787, -0.013306631651530872, -0.08353176301780003, -0.0651160849422661, -0.11690881881893864, -0.12156049701094085, -0.10945317815331533, -0.05493206537563948, -0.07848471597337975, -0.04045749238581219, -0.04794458157074736, -0.1113475618066154, 0.004452893346995356, -0.15769817371294634, -0.18857565047633768, -0.21718728895486045, -0.20089024262790628, -0.0759249318056058, -0.0896225420419787, -0.14260214733789475, -0.048667216885596734, -0.061313264342754165, -0.13351939477343563, -0.10606049057556705, -0.15929022362445702, -0.16185297834500945, -0.1171577663366712, -0.08303087138141271, -0.07413433290325194, -0.043948759350596965, -0.04330258693616287], \"yaxis\": \"y\"}, {\"hoverlabel\": {\"namelength\": 0}, \"hovertemplate\": \"topic=tennis<br>x=%{x}<br>y=%{y}\", \"legendgroup\": \"topic=tennis\", \"marker\": {\"color\": \"#FFA15A\", \"symbol\": \"circle\"}, \"mode\": \"markers\", \"name\": \"topic=tennis\", \"showlegend\": true, \"type\": \"scatter\", \"x\": [-0.042563576502881166, -0.05489102387025837, -0.055704255596601894, -0.0691373654405665, -0.037847686659822445, -0.0543959232202684, -0.059687167298127966, -0.048684203290883944, -0.055658777576293034, -0.051448695391868554, -0.027472829713697945, -0.07361947216839526, -0.037969561870678646, -0.0399574982517586, -0.046716013432374325, -0.051448695391868554, -0.06415480285722555, -0.07361947216839526, -0.04062867278239489, -0.04657559337175776, -0.06797826529591527, -0.0604572077077868, -0.055781985035062105, -0.07342246063990561, -0.04491023561204868, -0.0418427396062628, -0.02248940632136386, -0.060691482813059076, -0.05795783598930507, -0.06108426168868408, -0.041479868811008236, -0.05621312830679867, -0.06232042479641024, -0.04825949955827933, -0.03347337486678195, -0.025904334841814206, -0.06892810386159418, -0.07580934673091805, -0.05134626065981937, -0.055896083125453674, -0.05148518171759598, -0.04335569150235176, -0.06592139938625874, -0.06656573072297434, -0.048251184633050906, -0.07047326702397179, -0.05480630751959851, -0.05655003622031061, -0.07586891496533833, -0.07586891496533833, -0.058420610902536106, -0.056175061408388516, -0.04837543961041349, -0.03193454174655075, -0.04938593714225812, -0.08164937710549133, -0.06960714352937442, -0.04119199891434201, -0.04011846845206836, -0.06201268863819945, -0.06276530892148498, -0.03877338927885054, -0.04616766835427758, -0.10015786133226069, -0.05402055525670932, -0.06491135799107865, -0.05470298265204574, -0.025388370688606797, -0.0807158303663138, -0.08080346552347312, -0.05117475300747935, -0.07723797221576473, -0.05792074362331586, -0.04826853943078898, -0.1032373185795552, -0.035998377168032905, -0.02967973806807188, -0.0472216828709858, -0.08011967446179016, -0.07209958186400542, -0.04187790215486464, -0.0722281337701273, -0.06637657173022493, -0.03232378522066426, -0.05093889026525802, -0.027555800432008715, -0.060865275286426886, -0.020783515425527487, -0.062064650401882936, -0.03779041273997313, -0.0788248831038568, 0.017136880808226253, -0.03179201448764603, -0.06330832872672378, -0.04136100910141671, -0.06653119581990909, -0.04806202963875146, -0.04963872860855801, -0.04881595858250269, -0.029094738360716767], \"xaxis\": \"x\", \"y\": [0.07817231227741792, 0.10536414113872561, 0.04833258635802555, 0.0696765373980836, 0.0892405692947167, 0.08617532977773007, 0.07921296887017393, 0.09591747397790201, 0.08001135867897027, 0.11595629495314148, 0.033324791225295906, 0.05502356598736258, 0.08725537895351322, 0.0962855320289051, 0.08772455886370087, 0.11595629495314148, 0.051724816216654465, 0.05502356598736258, 0.08924722665740245, 0.10607580838255176, 0.14236825340181167, 0.05979669139177657, 0.06546043162179627, 0.11757548834563249, 0.0311688749648677, 0.09658843696619943, 0.07489189110822489, 0.11589710460571022, 0.03912324000458729, 0.10747001551569145, 0.05957107192088446, 0.07157348838200318, 0.09267083626468389, 0.07223438693374426, 0.03600020017288183, 0.041949468142922684, 0.1354602605266211, 0.11948425694742813, 0.10177583453303361, 0.048571959042337666, 0.06801142161618096, 0.06685242670936871, 0.09691780695281227, 0.01181107940430609, 0.10555875092659518, 0.059480590665743564, 0.13884599339968154, 0.07916818207123107, 0.022770145398513353, 0.022770145398513353, 0.1453651691073122, 0.03380329187211183, 0.05275711352398845, 0.04281548754961735, 0.08008329091868277, 0.1512787788515201, 0.11063739140866101, 0.07553663712363445, 0.07335473619921942, 0.0971042151527393, 0.06324513222766236, 0.01290125211098853, 0.0934561442483142, 0.14908534705178336, 0.1140344543502306, 0.08124710298491866, 0.07484384663240376, 0.036494336123183986, 0.044741433611301104, 0.04492846313875879, 0.05456943771167452, 0.11027738425090595, 0.027341729397116342, 0.08263111880097367, 0.13453286546224047, 0.044928579461033805, 0.03832009775714792, 0.07836763594435892, 0.03636688620469488, 0.04758039518959347, 0.06917713509067888, 0.06411557082489266, 0.04590403763954153, 0.02855218006154428, 0.06755573652811747, 0.10613612855657015, 0.07079035422324675, 0.06852801919637524, 0.07772225086860408, 0.07590053508037428, 0.07624080595635192, 0.04690593553139319, 0.0672040729441812, 0.07964859847108943, 0.1053094766073122, 0.10880351753293734, 0.05287497152934902, 0.06020652988569586, 0.01391472215507686, 0.07147142989070669], \"yaxis\": \"y\"}],\n",
              "                        {\"legend\": {\"tracegroupgap\": 0}, \"margin\": {\"t\": 60}, \"template\": {\"data\": {\"bar\": [{\"error_x\": {\"color\": \"#2a3f5f\"}, \"error_y\": {\"color\": \"#2a3f5f\"}, \"marker\": {\"line\": {\"color\": \"#E5ECF6\", \"width\": 0.5}}, \"type\": \"bar\"}], \"barpolar\": [{\"marker\": {\"line\": {\"color\": \"#E5ECF6\", \"width\": 0.5}}, \"type\": \"barpolar\"}], \"carpet\": [{\"aaxis\": {\"endlinecolor\": \"#2a3f5f\", \"gridcolor\": \"white\", \"linecolor\": \"white\", \"minorgridcolor\": \"white\", \"startlinecolor\": \"#2a3f5f\"}, \"baxis\": {\"endlinecolor\": \"#2a3f5f\", \"gridcolor\": \"white\", \"linecolor\": \"white\", \"minorgridcolor\": \"white\", \"startlinecolor\": \"#2a3f5f\"}, \"type\": \"carpet\"}], \"choropleth\": [{\"colorbar\": {\"outlinewidth\": 0, \"ticks\": \"\"}, \"type\": \"choropleth\"}], \"contour\": [{\"colorbar\": {\"outlinewidth\": 0, \"ticks\": \"\"}, \"colorscale\": [[0.0, \"#0d0887\"], [0.1111111111111111, \"#46039f\"], [0.2222222222222222, \"#7201a8\"], [0.3333333333333333, \"#9c179e\"], [0.4444444444444444, \"#bd3786\"], [0.5555555555555556, \"#d8576b\"], [0.6666666666666666, \"#ed7953\"], [0.7777777777777778, \"#fb9f3a\"], [0.8888888888888888, \"#fdca26\"], [1.0, \"#f0f921\"]], \"type\": \"contour\"}], \"contourcarpet\": [{\"colorbar\": {\"outlinewidth\": 0, \"ticks\": \"\"}, \"type\": \"contourcarpet\"}], \"heatmap\": [{\"colorbar\": {\"outlinewidth\": 0, \"ticks\": \"\"}, \"colorscale\": [[0.0, \"#0d0887\"], [0.1111111111111111, \"#46039f\"], [0.2222222222222222, \"#7201a8\"], [0.3333333333333333, \"#9c179e\"], [0.4444444444444444, \"#bd3786\"], [0.5555555555555556, \"#d8576b\"], [0.6666666666666666, \"#ed7953\"], [0.7777777777777778, \"#fb9f3a\"], [0.8888888888888888, \"#fdca26\"], [1.0, \"#f0f921\"]], \"type\": \"heatmap\"}], \"heatmapgl\": [{\"colorbar\": {\"outlinewidth\": 0, \"ticks\": \"\"}, \"colorscale\": [[0.0, \"#0d0887\"], [0.1111111111111111, \"#46039f\"], [0.2222222222222222, \"#7201a8\"], [0.3333333333333333, \"#9c179e\"], [0.4444444444444444, \"#bd3786\"], [0.5555555555555556, \"#d8576b\"], [0.6666666666666666, \"#ed7953\"], [0.7777777777777778, \"#fb9f3a\"], [0.8888888888888888, \"#fdca26\"], [1.0, \"#f0f921\"]], \"type\": \"heatmapgl\"}], \"histogram\": [{\"marker\": {\"colorbar\": {\"outlinewidth\": 0, \"ticks\": \"\"}}, \"type\": \"histogram\"}], \"histogram2d\": [{\"colorbar\": {\"outlinewidth\": 0, \"ticks\": \"\"}, \"colorscale\": [[0.0, \"#0d0887\"], [0.1111111111111111, \"#46039f\"], [0.2222222222222222, \"#7201a8\"], [0.3333333333333333, \"#9c179e\"], [0.4444444444444444, \"#bd3786\"], [0.5555555555555556, \"#d8576b\"], [0.6666666666666666, \"#ed7953\"], [0.7777777777777778, \"#fb9f3a\"], [0.8888888888888888, \"#fdca26\"], [1.0, \"#f0f921\"]], \"type\": \"histogram2d\"}], \"histogram2dcontour\": [{\"colorbar\": {\"outlinewidth\": 0, \"ticks\": \"\"}, \"colorscale\": [[0.0, \"#0d0887\"], [0.1111111111111111, \"#46039f\"], [0.2222222222222222, \"#7201a8\"], [0.3333333333333333, \"#9c179e\"], [0.4444444444444444, \"#bd3786\"], [0.5555555555555556, \"#d8576b\"], [0.6666666666666666, \"#ed7953\"], [0.7777777777777778, \"#fb9f3a\"], [0.8888888888888888, \"#fdca26\"], [1.0, \"#f0f921\"]], \"type\": \"histogram2dcontour\"}], \"mesh3d\": [{\"colorbar\": {\"outlinewidth\": 0, \"ticks\": \"\"}, \"type\": \"mesh3d\"}], \"parcoords\": [{\"line\": {\"colorbar\": {\"outlinewidth\": 0, \"ticks\": \"\"}}, \"type\": \"parcoords\"}], \"pie\": [{\"automargin\": true, \"type\": \"pie\"}], \"scatter\": [{\"marker\": {\"colorbar\": {\"outlinewidth\": 0, \"ticks\": \"\"}}, \"type\": \"scatter\"}], \"scatter3d\": [{\"line\": {\"colorbar\": {\"outlinewidth\": 0, \"ticks\": \"\"}}, \"marker\": {\"colorbar\": {\"outlinewidth\": 0, \"ticks\": \"\"}}, \"type\": \"scatter3d\"}], \"scattercarpet\": [{\"marker\": {\"colorbar\": {\"outlinewidth\": 0, \"ticks\": \"\"}}, \"type\": \"scattercarpet\"}], \"scattergeo\": [{\"marker\": {\"colorbar\": {\"outlinewidth\": 0, \"ticks\": \"\"}}, \"type\": \"scattergeo\"}], \"scattergl\": [{\"marker\": {\"colorbar\": {\"outlinewidth\": 0, \"ticks\": \"\"}}, \"type\": \"scattergl\"}], \"scattermapbox\": [{\"marker\": {\"colorbar\": {\"outlinewidth\": 0, \"ticks\": \"\"}}, \"type\": \"scattermapbox\"}], \"scatterpolar\": [{\"marker\": {\"colorbar\": {\"outlinewidth\": 0, \"ticks\": \"\"}}, \"type\": \"scatterpolar\"}], \"scatterpolargl\": [{\"marker\": {\"colorbar\": {\"outlinewidth\": 0, \"ticks\": \"\"}}, \"type\": \"scatterpolargl\"}], \"scatterternary\": [{\"marker\": {\"colorbar\": {\"outlinewidth\": 0, \"ticks\": \"\"}}, \"type\": \"scatterternary\"}], \"surface\": [{\"colorbar\": {\"outlinewidth\": 0, \"ticks\": \"\"}, \"colorscale\": [[0.0, \"#0d0887\"], [0.1111111111111111, \"#46039f\"], [0.2222222222222222, \"#7201a8\"], [0.3333333333333333, \"#9c179e\"], [0.4444444444444444, \"#bd3786\"], [0.5555555555555556, \"#d8576b\"], [0.6666666666666666, \"#ed7953\"], [0.7777777777777778, \"#fb9f3a\"], [0.8888888888888888, \"#fdca26\"], [1.0, \"#f0f921\"]], \"type\": \"surface\"}], \"table\": [{\"cells\": {\"fill\": {\"color\": \"#EBF0F8\"}, \"line\": {\"color\": \"white\"}}, \"header\": {\"fill\": {\"color\": \"#C8D4E3\"}, \"line\": {\"color\": \"white\"}}, \"type\": \"table\"}]}, \"layout\": {\"annotationdefaults\": {\"arrowcolor\": \"#2a3f5f\", \"arrowhead\": 0, \"arrowwidth\": 1}, \"coloraxis\": {\"colorbar\": {\"outlinewidth\": 0, \"ticks\": \"\"}}, \"colorscale\": {\"diverging\": [[0, \"#8e0152\"], [0.1, \"#c51b7d\"], [0.2, \"#de77ae\"], [0.3, \"#f1b6da\"], [0.4, \"#fde0ef\"], [0.5, \"#f7f7f7\"], [0.6, \"#e6f5d0\"], [0.7, \"#b8e186\"], [0.8, \"#7fbc41\"], [0.9, \"#4d9221\"], [1, \"#276419\"]], \"sequential\": [[0.0, \"#0d0887\"], [0.1111111111111111, \"#46039f\"], [0.2222222222222222, \"#7201a8\"], [0.3333333333333333, \"#9c179e\"], [0.4444444444444444, \"#bd3786\"], [0.5555555555555556, \"#d8576b\"], [0.6666666666666666, \"#ed7953\"], [0.7777777777777778, \"#fb9f3a\"], [0.8888888888888888, \"#fdca26\"], [1.0, \"#f0f921\"]], \"sequentialminus\": [[0.0, \"#0d0887\"], [0.1111111111111111, \"#46039f\"], [0.2222222222222222, \"#7201a8\"], [0.3333333333333333, \"#9c179e\"], [0.4444444444444444, \"#bd3786\"], [0.5555555555555556, \"#d8576b\"], [0.6666666666666666, \"#ed7953\"], [0.7777777777777778, \"#fb9f3a\"], [0.8888888888888888, \"#fdca26\"], [1.0, \"#f0f921\"]]}, \"colorway\": [\"#636efa\", \"#EF553B\", \"#00cc96\", \"#ab63fa\", \"#FFA15A\", \"#19d3f3\", \"#FF6692\", \"#B6E880\", \"#FF97FF\", \"#FECB52\"], \"font\": {\"color\": \"#2a3f5f\"}, \"geo\": {\"bgcolor\": \"white\", \"lakecolor\": \"white\", \"landcolor\": \"#E5ECF6\", \"showlakes\": true, \"showland\": true, \"subunitcolor\": \"white\"}, \"hoverlabel\": {\"align\": \"left\"}, \"hovermode\": \"closest\", \"mapbox\": {\"style\": \"light\"}, \"paper_bgcolor\": \"white\", \"plot_bgcolor\": \"#E5ECF6\", \"polar\": {\"angularaxis\": {\"gridcolor\": \"white\", \"linecolor\": \"white\", \"ticks\": \"\"}, \"bgcolor\": \"#E5ECF6\", \"radialaxis\": {\"gridcolor\": \"white\", \"linecolor\": \"white\", \"ticks\": \"\"}}, \"scene\": {\"xaxis\": {\"backgroundcolor\": \"#E5ECF6\", \"gridcolor\": \"white\", \"gridwidth\": 2, \"linecolor\": \"white\", \"showbackground\": true, \"ticks\": \"\", \"zerolinecolor\": \"white\"}, \"yaxis\": {\"backgroundcolor\": \"#E5ECF6\", \"gridcolor\": \"white\", \"gridwidth\": 2, \"linecolor\": \"white\", \"showbackground\": true, \"ticks\": \"\", \"zerolinecolor\": \"white\"}, \"zaxis\": {\"backgroundcolor\": \"#E5ECF6\", \"gridcolor\": \"white\", \"gridwidth\": 2, \"linecolor\": \"white\", \"showbackground\": true, \"ticks\": \"\", \"zerolinecolor\": \"white\"}}, \"shapedefaults\": {\"line\": {\"color\": \"#2a3f5f\"}}, \"ternary\": {\"aaxis\": {\"gridcolor\": \"white\", \"linecolor\": \"white\", \"ticks\": \"\"}, \"baxis\": {\"gridcolor\": \"white\", \"linecolor\": \"white\", \"ticks\": \"\"}, \"bgcolor\": \"#E5ECF6\", \"caxis\": {\"gridcolor\": \"white\", \"linecolor\": \"white\", \"ticks\": \"\"}}, \"title\": {\"x\": 0.05}, \"xaxis\": {\"automargin\": true, \"gridcolor\": \"white\", \"linecolor\": \"white\", \"ticks\": \"\", \"title\": {\"standoff\": 15}, \"zerolinecolor\": \"white\", \"zerolinewidth\": 2}, \"yaxis\": {\"automargin\": true, \"gridcolor\": \"white\", \"linecolor\": \"white\", \"ticks\": \"\", \"title\": {\"standoff\": 15}, \"zerolinecolor\": \"white\", \"zerolinewidth\": 2}}}, \"xaxis\": {\"anchor\": \"y\", \"domain\": [0.0, 1.0], \"title\": {\"text\": \"x\"}}, \"yaxis\": {\"anchor\": \"x\", \"domain\": [0.0, 1.0], \"title\": {\"text\": \"y\"}}},\n",
              "                        {\"responsive\": true}\n",
              "                    ).then(function(){\n",
              "                            \n",
              "var gd = document.getElementById('944f65ef-be6e-4628-92c3-c628f13481da');\n",
              "var x = new MutationObserver(function (mutations, observer) {{\n",
              "        var display = window.getComputedStyle(gd).display;\n",
              "        if (!display || display === 'none') {{\n",
              "            console.log([gd, 'removed!']);\n",
              "            Plotly.purge(gd);\n",
              "            observer.disconnect();\n",
              "        }}\n",
              "}});\n",
              "\n",
              "// Listen for the removal of the full notebook cells\n",
              "var notebookContainer = gd.closest('#notebook-container');\n",
              "if (notebookContainer) {{\n",
              "    x.observe(notebookContainer, {childList: true});\n",
              "}}\n",
              "\n",
              "// Listen for the clearing of the current output cell\n",
              "var outputEl = gd.closest('.output');\n",
              "if (outputEl) {{\n",
              "    x.observe(outputEl, {childList: true});\n",
              "}}\n",
              "\n",
              "                        })\n",
              "                };\n",
              "                \n",
              "            </script>\n",
              "        </div>\n",
              "</body>\n",
              "</html>"
            ]
          },
          "metadata": {
            "tags": []
          }
        }
      ]
    },
    {
      "cell_type": "code",
      "metadata": {
        "id": "ldLjTldmPmBc"
      },
      "source": [
        "df['kmeans_labels'] = (\n",
        "    hero.tfidf(df['clean_data'])\n",
        "    .pipe(hero.kmeans, n_clusters=5)\n",
        "    .astype(str)\n",
        ")"
      ],
      "execution_count": 24,
      "outputs": []
    },
    {
      "cell_type": "code",
      "metadata": {
        "colab": {
          "base_uri": "https://localhost:8080/",
          "height": 204
        },
        "id": "C-do1h3CPqVD",
        "outputId": "fd294948-3818-4f22-c338-6366926aab8c"
      },
      "source": [
        "df.head()"
      ],
      "execution_count": 25,
      "outputs": [
        {
          "output_type": "execute_result",
          "data": {
            "text/html": [
              "<div>\n",
              "<style scoped>\n",
              "    .dataframe tbody tr th:only-of-type {\n",
              "        vertical-align: middle;\n",
              "    }\n",
              "\n",
              "    .dataframe tbody tr th {\n",
              "        vertical-align: top;\n",
              "    }\n",
              "\n",
              "    .dataframe thead th {\n",
              "        text-align: right;\n",
              "    }\n",
              "</style>\n",
              "<table border=\"1\" class=\"dataframe\">\n",
              "  <thead>\n",
              "    <tr style=\"text-align: right;\">\n",
              "      <th></th>\n",
              "      <th>text</th>\n",
              "      <th>topic</th>\n",
              "      <th>clean_data</th>\n",
              "      <th>pca</th>\n",
              "      <th>kmeans_labels</th>\n",
              "    </tr>\n",
              "  </thead>\n",
              "  <tbody>\n",
              "    <tr>\n",
              "      <th>0</th>\n",
              "      <td>Claxton hunting first major medal\\n\\nBritish h...</td>\n",
              "      <td>athletics</td>\n",
              "      <td>claxton hunting first major medal british hurd...</td>\n",
              "      <td>[-0.09098341139255824, 0.10349818483091999]</td>\n",
              "      <td>2</td>\n",
              "    </tr>\n",
              "    <tr>\n",
              "      <th>1</th>\n",
              "      <td>O'Sullivan could run in Worlds\\n\\nSonia O'Sull...</td>\n",
              "      <td>athletics</td>\n",
              "      <td>sullivan could run worlds sonia sullivan indic...</td>\n",
              "      <td>[-0.00040331415693195137, 0.024597213258187912]</td>\n",
              "      <td>1</td>\n",
              "    </tr>\n",
              "    <tr>\n",
              "      <th>2</th>\n",
              "      <td>Greene sets sights on world title\\n\\nMaurice G...</td>\n",
              "      <td>athletics</td>\n",
              "      <td>greene sets sights world title maurice greene ...</td>\n",
              "      <td>[-0.11765357712279555, 0.12871763983780504]</td>\n",
              "      <td>2</td>\n",
              "    </tr>\n",
              "    <tr>\n",
              "      <th>3</th>\n",
              "      <td>IAAF launches fight against drugs\\n\\nThe IAAF ...</td>\n",
              "      <td>athletics</td>\n",
              "      <td>iaaf launches fight drugs iaaf athletics world...</td>\n",
              "      <td>[-0.09137806647329501, 0.1540147100579918]</td>\n",
              "      <td>2</td>\n",
              "    </tr>\n",
              "    <tr>\n",
              "      <th>4</th>\n",
              "      <td>Dibaba breaks 5,000m world record\\n\\nEthiopia'...</td>\n",
              "      <td>athletics</td>\n",
              "      <td>dibaba breaks 000m world record ethiopia tirun...</td>\n",
              "      <td>[-0.09122883447935112, 0.13490398713504895]</td>\n",
              "      <td>2</td>\n",
              "    </tr>\n",
              "  </tbody>\n",
              "</table>\n",
              "</div>"
            ],
            "text/plain": [
              "                                                text  ... kmeans_labels\n",
              "0  Claxton hunting first major medal\\n\\nBritish h...  ...             2\n",
              "1  O'Sullivan could run in Worlds\\n\\nSonia O'Sull...  ...             1\n",
              "2  Greene sets sights on world title\\n\\nMaurice G...  ...             2\n",
              "3  IAAF launches fight against drugs\\n\\nThe IAAF ...  ...             2\n",
              "4  Dibaba breaks 5,000m world record\\n\\nEthiopia'...  ...             2\n",
              "\n",
              "[5 rows x 5 columns]"
            ]
          },
          "metadata": {
            "tags": []
          },
          "execution_count": 25
        }
      ]
    },
    {
      "cell_type": "code",
      "metadata": {
        "colab": {
          "base_uri": "https://localhost:8080/",
          "height": 542
        },
        "id": "NkSGQe00Qq1H",
        "outputId": "6e498860-8921-47f1-cc49-708472c782b8"
      },
      "source": [
        "hero.scatterplot(df,'pca',color = 'kmeans_labels') "
      ],
      "execution_count": 27,
      "outputs": [
        {
          "output_type": "display_data",
          "data": {
            "text/html": [
              "<html>\n",
              "<head><meta charset=\"utf-8\" /></head>\n",
              "<body>\n",
              "    <div>\n",
              "            <script src=\"https://cdnjs.cloudflare.com/ajax/libs/mathjax/2.7.5/MathJax.js?config=TeX-AMS-MML_SVG\"></script><script type=\"text/javascript\">if (window.MathJax) {MathJax.Hub.Config({SVG: {font: \"STIX-Web\"}});}</script>\n",
              "                <script type=\"text/javascript\">window.PlotlyConfig = {MathJaxConfig: 'local'};</script>\n",
              "        <script src=\"https://cdn.plot.ly/plotly-latest.min.js\"></script>    \n",
              "            <div id=\"1193b657-f179-47eb-a65d-4a6775d65f75\" class=\"plotly-graph-div\" style=\"height:525px; width:100%;\"></div>\n",
              "            <script type=\"text/javascript\">\n",
              "                \n",
              "                    window.PLOTLYENV=window.PLOTLYENV || {};\n",
              "                    \n",
              "                if (document.getElementById(\"1193b657-f179-47eb-a65d-4a6775d65f75\")) {\n",
              "                    Plotly.newPlot(\n",
              "                        '1193b657-f179-47eb-a65d-4a6775d65f75',\n",
              "                        [{\"hoverlabel\": {\"namelength\": 0}, \"hovertemplate\": \"kmeans_labels=2<br>x=%{x}<br>y=%{y}\", \"legendgroup\": \"kmeans_labels=2\", \"marker\": {\"color\": \"#636efa\", \"symbol\": \"circle\"}, \"mode\": \"markers\", \"name\": \"kmeans_labels=2\", \"showlegend\": true, \"type\": \"scatter\", \"x\": [-0.09098341139255824, -0.11765357712279555, -0.09137806647329501, -0.09122883447935112, -0.11033321347181438, -0.029024643566661696, -0.12886124919411945, -0.157567877767494, -0.09579534505598561, -0.1078011136904909, -0.08959278887682146, -0.08052577218493691, -0.07798162323431491, -0.12042650265776265, -0.140825151996141, -0.10518518322893795, -0.11127019931667258, -0.1078011136904909, -0.09687907980628797, -0.10718783051381268, -0.14565879855907937, -0.0745845539392651, -0.10878981959012135, -0.08604110730576907, -0.0992718898777571, -0.11476469129503855, -0.1091751475452985, -0.07436605763716543, -0.049738492100108896, -0.13232421448832962, -0.15099246664818733, -0.13170913456521302, -0.0894305734325833, -0.05496350057380631, -0.10211434453470512, -0.1020302803989757, -0.058113472627559414, -0.07941390682159147, -0.06953664278108657, -0.09021843647098923, -0.061801575778791515, -0.05656204755927048, -0.09437135093859068, -0.08176550787860334, -0.11255052404879033, -0.12696915210079854, -0.05505076970108021, -0.12113641343847711, -0.12802004758594485, -0.09403599650428732, -0.09625703434651527, -0.14341727586671144, -0.09686980376786189, -0.10448564341462159, -0.12829652634673844, -0.13834815993703403, -0.11370064795886879, -0.10007194128884349, -0.11200788692339644, -0.061779281237348674, -0.12162698825772857, -0.06475896039525625, -0.11012103737295043, -0.16008938447722695, -0.11230010986646267, -0.03026811818669594, -0.17664508613514235, -0.10724078963267926, -0.10580495543532996, -0.05926551991415214, -0.10760303619943566, -0.10498862245548389, -0.10482441288769496, -0.06405440795485186, -0.014846662896920194, -0.0809406604707062, -0.1353147675593586, -0.13039224591944945, -0.14636055677318177, -0.1278181660370338, -0.06356070436346865, -0.09403599650428732, -0.07469199539728792, -0.0801743525357201, -0.0835731313971882, -0.05505076970108021, -0.13196273358255514, -0.0923638004590258, -0.07014159705581272, -0.07764426479963991, -0.08832339099512156, -0.15271934341182378, -0.11289266565830326, -0.10719080197165622, -0.1379716986719811, -0.05845775433216346], \"xaxis\": \"x\", \"y\": [0.10349818483091999, 0.12871763983780504, 0.1540147100579918, 0.13490398713504895, 0.15758344882434902, 0.07028390584423409, 0.1706690500606286, 0.24037397764431048, 0.11489257705936093, 0.10880214375628304, 0.11672973459119856, 0.04873794059501948, 0.13013985251048096, 0.3314872091637377, 0.3340025376872572, 0.17686015948995779, 0.1346737163266605, 0.10880214375628304, 0.1571250036232456, 0.131029664472609, 0.33459314454615696, 0.11082541352234063, 0.15264760167325578, 0.18020787308885694, 0.15869072739109952, 0.13625686264444495, 0.16120001600549283, 0.10375018396767473, 0.07710478440312087, 0.20823449994638876, 0.3368006433992611, 0.15871404276939105, 0.16935434526142407, 0.1293374927213844, 0.13619064214855237, 0.08914511726551858, 0.12310000961766704, 0.08347804455576847, 0.09694395896543591, 0.1251021772192336, 0.12053625500009443, 0.07959678771116177, 0.16009001908255058, 0.11333927047060272, 0.25884074094660336, 0.3035107235799214, 0.13489571141948808, 0.32246041742235093, 0.3440072187568803, 0.15305807692202378, 0.11269653916227447, 0.31469611194406294, 0.1383688106204695, 0.13368623996297976, 0.15065131588335834, 0.16398423938402304, 0.08927060892835409, 0.13696356522597258, 0.15005188759432297, 0.08591069935231171, 0.1561340949200858, 0.10142113560055266, 0.13121228996684076, 0.2946421500865826, 0.15633083604006934, 0.0815434016875699, 0.24973862055386192, 0.08383715574572038, 0.11830465793432429, 0.06546706178995908, 0.08474837620302535, 0.12823746649649245, 0.1854153025846357, 0.10149294531474622, 0.05013264679706245, 0.11152672041983816, 0.3271615909448231, 0.2780771945470966, 0.34301539153163674, 0.3381518610943655, 0.10749226482232971, 0.15305807692202378, 0.10386215187536108, 0.09758340089250807, 0.1199332230214723, 0.13489571141948808, 0.30843163110324456, 0.09778214546483621, 0.13439361473743663, 0.10352633068105287, 0.11312930549023535, 0.22095557108059052, 0.1243872671301916, 0.15217981340671988, 0.17971828229313402, 0.11544947370572634], \"yaxis\": \"y\"}, {\"hoverlabel\": {\"namelength\": 0}, \"hovertemplate\": \"kmeans_labels=1<br>x=%{x}<br>y=%{y}\", \"legendgroup\": \"kmeans_labels=1\", \"marker\": {\"color\": \"#EF553B\", \"symbol\": \"circle\"}, \"mode\": \"markers\", \"name\": \"kmeans_labels=1\", \"showlegend\": true, \"type\": \"scatter\", \"x\": [-0.00040331415693195137, -0.042938325113800836, -0.02263885991295728, -0.04431793005619947, -0.06310335795017175, 0.05254961159591904, 0.031086654838840933, -0.026171283374095022, 0.11112523001309267, -0.03346322208752799, 0.02837985716834322, 0.08435368543132918, 0.11021918642717639, 0.07291963649788658, -0.03377786647295471, -0.006101968513992441, -0.016394489764306536, -0.011309385991121789, -0.0020139814455596614, -0.005057464054667498, -0.004554268614148409, -0.041287082615135265, -0.05176241347328406, -0.0240452660370724, 0.005026402792169059, 0.016363775752162867, 0.006798490657884582, -0.05997900984210802, -0.043204058687418764, 0.002991858523715773, 0.014919990882973381, 0.021613786765258096, -0.03135687046259323, -0.05997026699615114, -0.06617377334454089, -0.02700822524026339, -0.04031887463982592, -0.04763694502103482, -0.05946360456038255, -0.08623029324683376, -0.03329874072866528, -0.008607346982458889, -0.07831665838565313, 0.02208246073744664, -0.03846394098011988, -0.0512725283976006, -0.04927359536223928, -0.0454600879611163, -0.05472479361063231, -0.04034717115759535, -0.0320055298410785, -0.025491029091295914, -4.2126235541640035e-05, -0.014126544688912853, -0.0324447229055217, -0.02191750430759534, 0.017091819902996894, -0.020845440511708363, 0.00512728387747946, -0.03897167818946951, -0.03262698884918916, -0.06384887202700001, -0.0445977674315583, -0.06851825390273092, -0.06851825390273092, -0.06954332958214426, -0.05179538760583302, -0.036217127314317935, -0.07180350930991818, -0.05527406302881337, -0.04016045072361217, 0.005120456013646141, -0.036941475351873004, -0.04275858680940103, -0.052027261263744504, -0.03544274043004017, -0.04747659323278126, -0.030237228371588955, -0.022858445835785963, 0.002542213979697891, -0.005670010039767813, -0.032600616691193116, -0.04231348931392212, -0.03240314662914599, -0.06025768218411281, -0.06039075957816573, -0.04546862812989607, -0.03993184620832632, -0.054929452713927136, -0.009507817074634316, -0.021670399695986796, -0.03568759907158551, -0.0027793596406315213, 0.13161076574683586, 0.19140870301537927, 0.13730899721332143, 0.05711939152653701, 0.06657733461602429, 0.15155639900303516, 0.13500532592991735, 0.12867923159041814, 0.10029357622902138, 0.040030242411941266, 0.009765515785263251, 0.06053273651720585, 0.08262848181596037, 0.030422675097128832, 0.038149101050522334, 0.15793432627446893, 0.19683624193394772, 0.08499928250120319, 0.15877254338718436, 0.15238382372260748, 0.1623534389739863, 0.0914036751705434, 0.06234151919603184, 0.09358273670325122, 0.14883730442395804, 0.0272524972000684, 0.13531408555284852, 0.18674673086144872, 0.22273834132378267, 0.10964573948246936, 0.15592650253162124, 0.21120515202003082, 0.061909739861966136, -0.008930359884763891, 0.04046274702899127, -0.007435990716259471, 0.21156521758724972, 0.03480517982556279, 0.18230116337335214, 0.27881305369251774, 0.025280217888410703, 0.03647409840539833, 0.13903019928887303, 0.044226592228316, 0.12283699158191465, 0.12151604723074341, 0.13730707429823555, 0.23964683381261556, 0.10403626218414093, 0.13265033857477282, 0.1832273990463026, 0.09507534729913532, 0.12658584391603986, 0.11118435486765815, 0.13420634671067527, 0.2687744440154933, 0.12771948776176426, 0.07006826012545526, 0.20742531271308312, 0.10947931270720004, 0.10403626218414093, 0.14122910811217926, 0.06406230640698443, 0.10098398490737168, 0.10404147175359095, 0.1516798333211284, 0.047030383132796644, 0.21197506857805212, 0.10301525968392654, 0.04507389389089107, 0.03879711249407057, 0.11943012153807744, 0.14641332866092635, 0.06722179099739264, 0.08648286696013786, 0.05880729989074263, 0.05736199041254703, -0.02488930273926599, 0.0533435772290479, 0.0041392191283623585, 0.09020643960910613, -0.002119327524571838, 0.025084469157835288, 0.05787567818195492, 0.17306344184218983, 0.09536211514031728, 0.11917081371249151, 0.17200013458936758, -0.016528586354124235, 0.20467319509234538, 0.02121509270865724, 0.1189313594031197, 0.05130686686414639, 0.17622269447599484, 0.10916369853952208, 0.05774403475328059, 0.06595821759378424, 0.09407179397658136, 0.06380608177230068, 0.16282688586070546, 0.015135696647324694, 0.13230314264841186, 0.044730421339145295, 0.13197258804964404, 0.1299693632018602, 0.11265432525756194, 0.0356489470852642, 0.04513501044161437, 0.08242204027374532, 0.022462813721103803, 0.0021406535306914107, -0.05516575360327342, -0.053983624830293654, 0.028855268985823142, 0.027170406300748524, -0.04069168590463496, 0.18438578792873167, 0.06391246201492638, 0.0523809412807868, -0.002199462443791149, 0.13034002997885913, 0.13861734751331536, 0.09661079741905632, -0.031265384924892066, -0.021927167710556035, -0.04806903540797908, 0.11041221222737667, 0.11753522953822963, 0.1439460301904814, 0.1806495669531405, 0.15124546083834703, 0.2626870798122266, 0.15161620979028273, 0.15168385271336654, 0.09507534729913532, 0.11913737648728964, 0.11904666325242674, 0.03638096838241969, 0.12710337424579748, 0.06978088954781743, 0.225316848109402, 0.14067398878453347, 0.22342786552222568, 0.12420174250433615, 0.137043528860371, 0.08040565826600009, 0.04600791962019439, -0.06656573072297434, -0.03877338927885054, -0.05792074362331586, 0.017136880808226253, -0.04881595858250269], \"xaxis\": \"x\", \"y\": [0.024597213258187912, 0.03469892367788972, 0.013261261221921913, 0.05656522394195121, 0.0177290845117853, -0.00615523406068056, 0.008193958743039447, 0.06440496628864585, -0.01942750650306665, 0.0627868569893481, -0.004375548880931824, -0.0023394813944868265, -0.042086776127663, -0.062008202390792314, -0.00896953016461202, -0.05597739511816616, -0.04571869851579936, -0.04282648089213366, -0.026796992468694634, -0.017868325815891418, -0.04517647166651874, -0.043591108324737296, -0.015423849247860567, -0.12837158411732255, -0.07099221626603423, -0.042614059430957134, -0.049201095299721345, -0.008929123628849959, 0.01496434685864737, -0.020293950977257478, -0.11209488498588299, -0.009866711365288158, -0.020272195073949187, 0.03677995210341227, -0.05753132617216245, -0.018483069144832324, -0.03137410966676292, 0.006428292061646911, -0.028169430456078594, -0.005646787730763773, -0.0050343862441484, 0.013759460399224103, -0.04713418801621222, 0.03802953712043764, -0.0058190963985236994, -0.020727148561491233, 0.004677277940495222, -0.02536776498809856, -0.07592861327340686, -0.005377036865886462, -0.04678528162699646, -0.007827842879378722, 0.010271089931821738, 0.0018091750404862909, -0.07620872404194261, -0.08117504291865539, -0.006412258759270403, 0.011218536631738756, 0.0004050244489890853, -0.05568923063473624, -0.055682493370997205, 0.0431760403042195, 0.0018491356970354398, -0.014001911020119322, -0.014001911020119322, -0.06462446642124257, -0.0010949055354072966, -0.05166977065693568, 0.01825215449461715, -0.03050685649897816, -0.020297243771253685, -0.03758005499297686, 0.005516678800170217, -0.02679735797329645, -0.042860406153705, -0.029443398168559166, -0.055512923122358455, -0.010668575761687893, -0.010106219921063704, 0.009004246904108492, -0.052903657630594514, -0.00024384735835407655, -0.008266876070611237, -0.01255357085131959, 0.05197243197726392, -0.038475071820899924, 0.023609435466572043, -0.010712578015091612, 0.023178141260992626, 0.031014704181530385, -0.022826085072551825, -0.02220001175425345, -0.0210061845496319, -0.18031347491636973, -0.2052934980881953, -0.16536197180406406, -0.04925263359603198, -0.10295971378638911, -0.20113025645816884, -0.1768767368987586, -0.1454264751699994, -0.12922252380629193, -0.042378634731133166, -0.05572887404844763, -0.03400251144938317, -0.10261078269179695, -0.08574670912224848, -0.0399022634120423, -0.15975175020367116, -0.16154750029888335, -0.10690725105438957, -0.11315647786807993, -0.15779876159006798, -0.14662581032077712, -0.09940818003409174, -0.04834007377621135, -0.0804458746569825, -0.15817474361385905, -0.09775854227911308, -0.09724366427667158, -0.12521504592853744, -0.11725330465723764, -0.14798148999821248, -0.11078274343225271, -0.1614604761594674, -0.1248827887922696, -0.012556993434235771, -0.06467335998425854, 0.019327766730403345, -0.1240205599813851, -0.054328800132512865, -0.08251926431294734, -0.21988653278497033, 0.00671045821036507, 0.008042281854479798, -0.17854817276630713, -0.11669586533559226, -0.07809632918408625, -0.07703876916809088, -0.149647447817562, -0.1400288423686913, -0.08427709492104248, -0.08981179077709057, -0.15542464239736303, -0.0896225420419787, -0.15017997802373698, -0.09152282281424809, -0.16723861564270906, -0.09795313156401023, -0.12898166080665496, -0.0679142158231783, -0.18714441113668673, -0.10807731267916432, -0.08427709492104248, -0.11713009466486077, -0.10160208161004071, -0.11749011434956637, -0.12687718189487024, -0.154863851358313, -0.024588058699739526, -0.16040347946708888, -0.11454631557646375, -0.01843584160485015, -0.08744209428059779, -0.09973948070833381, -0.14501644419515855, -0.11401417713905038, -0.14198513178931663, -0.09303515440247331, -0.12654933525251774, -0.026459791127376165, -0.042226679599964706, -0.025894242925473255, -0.1071871126715288, -0.05010018609036013, -0.027361196095880738, -0.057374230655939336, -0.09370386001853562, -0.01792879724671456, -0.08262250126223826, -0.0681955350677991, -0.024983194574140853, -0.1595662384394119, -0.008196607298278868, -0.07661944681420914, -0.09760935316720956, -0.09716729406424146, -0.05565777907340329, -0.021497122030095826, -0.06758810599443338, -0.03856785635543174, -0.018833250553866473, -0.14107005832931807, -0.01605871810806857, -0.09199492010128066, 0.008220581034469432, -0.09163864095178127, -0.08065579581911894, -0.06331423145449389, -0.08650777357698954, -0.09442547820761915, -0.0043285371396086895, -0.08113657684939754, -0.07237152397169908, -0.030503725142255283, -0.0315387046507019, -0.025711015792525733, -0.019604509565004206, -0.05773921780998544, -0.1883961040452787, -0.013306631651530872, -0.08353176301780003, -0.0651160849422661, -0.11690881881893864, -0.12156049701094085, -0.10945317815331533, -0.05493206537563948, -0.07848471597337975, -0.04045749238581219, -0.04794458157074736, -0.1113475618066154, 0.004452893346995356, -0.15769817371294634, -0.18857565047633768, -0.21718728895486045, -0.20089024262790628, -0.0759249318056058, -0.0896225420419787, -0.14260214733789475, -0.048667216885596734, -0.061313264342754165, -0.13351939477343563, -0.10606049057556705, -0.15929022362445702, -0.16185297834500945, -0.1171577663366712, -0.08303087138141271, -0.07413433290325194, -0.043948759350596965, -0.04330258693616287, 0.01181107940430609, 0.01290125211098853, 0.027341729397116342, 0.04690593553139319, 0.01391472215507686], \"yaxis\": \"y\"}, {\"hoverlabel\": {\"namelength\": 0}, \"hovertemplate\": \"kmeans_labels=3<br>x=%{x}<br>y=%{y}\", \"legendgroup\": \"kmeans_labels=3\", \"marker\": {\"color\": \"#00cc96\", \"symbol\": \"circle\"}, \"mode\": \"markers\", \"name\": \"kmeans_labels=3\", \"showlegend\": true, \"type\": \"scatter\", \"x\": [0.25335200508738165, 0.21407414881053377, 0.226010559050543, 0.21743129266519798, 0.11987048240962535, 0.13974538161512243, 0.12124416350517865, 0.10650752933958091, 0.149548184225695, 0.10173470727415998, 0.12024312749325547, 0.3132613801991504, 0.06336948591642082, 0.20986728442327365, 0.03218241124130532, 0.06178300676958346, 0.14890038681621612, 0.2255639994886553, 0.1759604791531325, 0.06178300676958346, 0.1890932510568414, 0.13954777710494665, 0.16207628334362992, 0.07291712452571454, 0.21484599390156947, 0.2300800556209442, 0.2114598535625827, 0.1397231222586372, 0.10529936025605892, 0.25211615855374775, 0.16207628334362992, 0.07291712452571454, 0.1921943696245588, 0.09289987910341364, 0.11202378533617284, 0.08187605225650302, 0.16445700995520685, 0.11116081642858705, 0.18275789111463206, 0.12955528204297623, 0.2457193605406107, 0.2506930597673503, 0.21434738526624367, 0.2627550221290147, 0.16640100169686292, 0.061501795396674504, 0.19774492746070582, 0.13321855695402474, 0.18827788286539354, 0.26564763817079967, 0.26616034765972235, 0.2301139574582428, 0.12812838807719434, 0.22397325948337618, 0.11958574416185841, 0.05640226955822173, 0.20609438305029237, 0.1675233534610862, 0.16739877852134039, 0.2296793783704417, 0.2978412224792115, 0.20875324643745558, 0.1575525753735643, 0.12867892696928399, 0.19266942205935048, 0.37099427887150915, 0.1308612791397894, 0.25730334098116464, 0.34169900816913984, 0.1554615575697944, 0.3048797754194082, 0.2491393963369662, 0.35123524726893235, 0.1960151344191081, 0.16893321400449404, 0.06193487842993622, 0.18965129223120158, 0.24678330128465187, 0.17383227927440265, 0.2753276634361537, 0.32687572007724136, 0.3273146657399076, 0.10500676938360964, 0.2662734207048366, 0.27960981872403984, 0.28290201152451594, 0.2768772167105667, 0.13891797105836617, 0.08985794037651958, 0.20736659663605006, 0.03123345197431238, 0.14535489428984386, 0.17706226419455925, 0.17790727852855473, 0.10032571178943954, 0.16853766284366958, 0.08762062929892266, 0.017466056694400336, 0.08977322615308797, 0.09378908302795941, 0.06742211943878573, 0.047190306254439644, 0.20533277189230908, 0.039001083341000484, 0.28613120659173585, 0.2041571429353873, 0.11376814951478723, 0.16643688220422512, 0.12973225160795654, 0.10125807678889734, 0.20878087275508453, 0.11373626383179228, 0.23116285231365719, 0.10384657899001025, 0.13505477096754404, 0.11957802917285251], \"xaxis\": \"x\", \"y\": [0.11929310963112995, 0.05727653068583116, 0.09699158449466545, 0.17738633048718844, 0.00898062638684404, 0.028664966562363333, 0.10682152192120059, 0.07328932859835578, 0.14622094550455567, 0.05950749935196548, 0.10343388611715788, 0.0716357481822722, 0.02840478325555086, 0.07538081637763074, 0.0019189757556336965, 0.06368322938371662, 0.04715444498738011, 0.0645511231871073, 0.031800047429804704, 0.06368322938371662, 0.17124922272344867, 0.10984662097797301, 0.14000594554826673, 0.11227801256855852, 0.1730580995229523, 0.09101306093246501, 0.13320893163966793, 0.10957175181738242, 0.03171925368383643, 0.074390091360359, 0.14000594554826673, 0.11227801256855852, 0.1760962138540271, 0.0761415786875265, 0.0433539408339909, 0.09403638355563955, 0.09454722021507393, 0.0609747412927372, 0.041131066208268334, 0.12272485693902253, 0.0309339687999621, 0.05996219962192101, 0.1627159011066964, 0.17576624492487675, 0.09045743234041577, 0.07753985845089094, 0.03498621062578968, 0.06961840928953732, 0.050453965453846075, 0.11444304840298168, 0.11551959789856674, 0.15638435430138292, 0.11045559888965828, 0.11110276421181565, 0.10180107652728689, 0.08038754088341511, 0.1126147512246151, 0.16226047871314517, 0.16175720178066919, 0.16580312419746931, 0.01738863148629028, 0.05463153433326703, 0.1550220633639964, 0.07703742677658133, 0.02692604850979332, 0.06913131081485581, 0.02830987149911352, 0.20657171703165697, 0.01640447028559341, 0.09787195206982317, 0.07117486598511005, 0.20328202792904565, 0.06698242389153213, -0.0002986444770460629, 0.13898596048765058, 0.059382403395356796, 0.038808758166172755, 0.0603971663815367, 0.12931240337788424, 0.1789164990287487, 0.06351147303124678, 0.06619852635646696, 0.09609879630461146, 0.2144890526921854, 0.20466628167645207, 0.20625773742587641, 0.01889203811418856, 0.11356709308426124, 0.05051709276523367, 0.060373334875582954, 0.06981557640124784, 0.015727454437584578, 0.02872543014934222, 0.12788986822626353, 0.05394135799658649, 0.13636928449313596, 0.07632065568124155, 0.06479023756948912, 0.06600468804847556, 0.12278228153839015, 0.0641787127193571, 0.057042805900306054, 0.031471673791825354, 0.011876461086368553, 0.022187613442466777, 0.12190177846160406, 0.10748284155881838, 0.11680281604106196, 0.12306700601598819, 0.0741201728850577, 0.027296536204849856, 0.049425956657051705, 0.02148498629216886, 0.0742009975175694, 0.102772128395319, 0.08186280389953365], \"yaxis\": \"y\"}, {\"hoverlabel\": {\"namelength\": 0}, \"hovertemplate\": \"kmeans_labels=4<br>x=%{x}<br>y=%{y}\", \"legendgroup\": \"kmeans_labels=4\", \"marker\": {\"color\": \"#ab63fa\", \"symbol\": \"circle\"}, \"mode\": \"markers\", \"name\": \"kmeans_labels=4\", \"showlegend\": true, \"type\": \"scatter\", \"x\": [-0.04700458289708847, -0.11367237041600241, -0.08359300991695433, -0.09697405457798262, -0.07625056931443085, -0.19867752082564596, -0.0999632717438017, -0.12652311473436403, -0.05482940829812452, -0.12300079972402593, -0.17141977556455196, -0.03805808307351439, -0.04719553661828786, -0.13839782302768508, -0.010990720923513914, -0.17154207969728658, -0.10751499878155561, -0.06762588143656309, -0.13746341475914564, -0.06463018381876653, -0.017106853896601708, -0.07752332860489286, -0.06355773432838872, -0.10977293489128569, -0.14866502179306376, -0.04871559245566999, -0.056506367863639766, -0.0871008469594119, -0.024292165195610237, -0.05405287042853012, -0.0475729938127906, -0.055162486846372184, -0.1067697832022265, -0.060731026110363025, -0.12697848072670614, -0.08865840765870785, -0.07408412434067328, -0.1132099149152171, -0.0967844687477863, -0.18476791629491246, -0.05509583511226158, -0.08297967544605074, -0.05006197993667824, -0.07077461056867301, -0.08766326223296969, -0.06607740073405259, -0.10974558200355776, -0.13237212231656698, -0.20199951133814645, -0.07562054287492438, -0.1270567306035378, -0.07640350766447247, -0.07536645920477203, -0.18264598062133386, -0.0868108700804549, -0.05187835243020088, -0.07307717780798713, -0.13023613290545327, -0.13023613290545327, -0.1492236746072712, -0.11790264213688141, -0.03604831330566948, -0.08001964997764757, -0.10682009544325706, -0.07590766447835365, -0.09021371465057369, -0.10613362088782002, -0.05028225338401247, -0.0761980521230415, -0.1181788914581816, -0.0996501464691091, -0.11976742505196608, -0.14078699294989014, -0.06874994444137668, -0.12777713788280354, -0.07089144086379555, -0.05971313051030224, -0.11697160734579835, -0.16288416577571993, -0.11234902832653115, -0.1748970375106723, -0.06179081721030494, -0.05158792476189706, -0.04638481148499254, -0.09494600641794984, -0.11320608597251795, -0.11353548226718667, -0.060530948080037145, -0.05465121699632883, -0.1322669301860021, -0.05766750526672752, -0.06950997193534925, -0.13119500260788297, -0.10575219607636821, -0.11629969509361597, -0.09563535786849693, -0.13096125126954145, -0.018040501101176866, -0.1009347694301015, -0.19370405145138983, -0.06331149584397008, -0.05284436401314795, -0.11581255421012217, -0.05108558579733292, -0.09778941607593282, -0.07209568862015549, -0.057001596033134386, -0.07896917449031095, -0.14656007436921575, -0.11383165211134356, -0.14656007436921575, -0.0671409568538468, -0.09297848799781197, -0.060293359449755383, -0.06026499386838285, -0.08727296979359796, -0.13345415189066212, -0.07251340224340579, -0.040588920178470475, -0.040084325122519714, -0.06035253321272608, -0.15666006848820482, -0.07466181354122074, -0.17000909036502843, -0.09026884436900758, -0.06151819633318534, -0.08176659858878871, -0.12822047516513982, -0.08678715722323505, -0.09589449954611526, -0.07993184050805119, -0.1610142982434953, -0.15673857796749874, -0.11924573233540958, -0.07913506643971817, -0.07279110385523756, -0.05917490918218638, -0.10095935306523532, -0.07656790025260718, -0.0676820840041753, -0.053611544838334295, -0.19566811028069514, -0.05516790967679166, -0.0654027901545406, -0.07699650278958997, -0.2000746472408594, -0.1445476165411343, -0.08359300991695433, -0.06635594341481424, -0.07783464143968657, -0.12166920516599711, -0.07016195992200319, -0.05998487460200936, -0.1338246526373929, -0.10055273614782802, -0.09717163412061117, -0.08211057191019977, -0.18141309264823344, -0.12570739258723873, -0.08695937205887407, -0.09182467661221969, -0.0487890091831089, -0.02463306951738469, -0.08936304221303676, -0.06692196162967295, -0.18558058468175245, -0.11396137908795477, -0.12251695042687472, -0.06410642441167134, -0.17238923333809972, -0.080539946187144, -0.1298653702219821, -0.07551633835448979, -0.025410882760736005, -0.05798951321764489, -0.14908206363932616, -0.07938009559890503, -0.12644780949212764, -0.07878137486927733, -0.04089936124845809, -0.1015250121510251, -0.0516889408261996, -0.08306046129588124, -0.09846831302589266, -0.06488980720959012], \"xaxis\": \"x\", \"y\": [-0.08540726670154626, -0.11591276580535352, -0.06960017351032736, -0.06775485063073157, -0.09479923376204671, -0.21837654439309637, -0.12065213836859902, -0.16692602268953416, -0.05860455632708011, -0.20005403699321062, -0.17025062335476474, -0.10386395656880543, -0.033336280637221605, -0.12681206398542874, -0.0794016072493043, -0.1699764833752225, -0.1219322146097394, -0.03274623291945623, -0.1424361797547843, -0.07835747171984755, -0.014453767531225454, -0.07419599558975101, -0.08301539287995334, -0.10154809371009368, -0.17338300557760147, -0.14239182592465963, -0.03373211451675489, -0.08086766752139865, -0.051268958924266916, -0.007360411015902253, -0.08551686464008891, -0.11033023250147514, -0.11052974854762475, -0.013251839774294982, -0.08860437633298116, -0.11292755952930206, -0.07733086736134308, -0.1133107362112174, -0.06931970654686238, -0.24203944016215997, -0.11238029910690132, -0.05734167453764331, -0.05844997731567629, -0.07253555275489476, -0.0737994175014954, -0.03488653903314406, -0.09114387030381788, -0.08572010716961517, -0.18345964839411597, -0.06819533072368908, -0.08212667531396768, -0.019001837640838237, -0.07458838862320714, -0.16550255518725998, -0.06476273681920888, -0.06263273919087788, -0.1042751766719841, -0.14204890974170814, -0.14204890974170814, -0.15651239015057175, -0.12299636033539618, -0.038992516720283664, -0.06122530898649128, -0.08007386534589525, -0.059837483766720774, -0.0959228749778396, -0.05581979110663884, -0.013033956094880313, -0.06911688447460682, -0.10461802151608389, -0.0700446781487057, -0.0969721623470202, -0.0012108916197058324, -0.08891707436884656, -0.05060637150741446, -0.016851342599756545, -0.06749037923512347, -0.0864618327488485, -0.17288918545323934, -0.06901465467784658, -0.20049191393471144, -0.029740302874609416, -0.04160866904119247, -0.06707311018482841, -0.1353976042971449, -0.1223501615567487, -0.14456184395189875, -0.06876609015042091, -0.026161854484950203, -0.1493113254182561, -0.0338336512075483, -0.004049733829047883, -0.1497016106526519, -0.1591127241158503, -0.09446773477877586, -0.11967748776175643, -0.13236709430217544, -0.053210548187438096, -0.08880149335659335, -0.19754753900123323, -0.05034539163428944, -0.03709548831129936, -0.1368122584538514, -0.06673691001458604, -0.11074446252868704, -0.03533698040633695, -0.06437078328006043, -0.039721761137597296, -0.1671954151173996, -0.0916269826437825, -0.1671954151173996, -0.05474265589839507, -0.09677739174161865, -0.03242461206021723, -0.03333530912583311, -0.028878642906937084, -0.10595470224855437, -0.09195425113778416, -0.08655768590428822, -0.06573882054476483, -0.07165273863231594, -0.09407758092376549, -0.04752369365948891, -0.19738325848889196, -0.06673623890456899, -0.09032587380939024, -0.06354833428786057, -0.13749038097330507, -0.12903343784792315, -0.1112401657575178, -0.11820899172741242, -0.13227770406335285, -0.19446730300188278, -0.16886745831010724, -0.09019659973159593, -0.09269610469085776, -0.033687808164171495, -0.14896395846101315, -0.17768997164724692, -0.14985170949217785, -0.061968620241643825, -0.24854722489201594, -0.07303769985724524, -0.06563246650293662, -0.11658958790016244, -0.2185263537511901, -0.1726876145646611, -0.06960017351032736, -0.1260961805871603, -0.12784836736409977, -0.13712930209052399, -0.09119466847838237, -0.061685348082374684, -0.186438596854466, -0.0632107274594684, -0.11854443247890012, -0.05798583245193647, -0.1885749375034986, -0.10211516097460693, -0.05728898169853453, -0.06462518581295909, -0.014899338297988923, -0.08381857817065773, -0.09263777488777059, -0.08449933007731929, -0.16931569318484446, -0.13194484947967916, -0.10839719370714528, -0.024157586265673985, -0.20418410003763027, -0.03511363266726941, -0.11536952895548329, -0.06469784442264101, -0.06986658272778837, -0.09660750858284001, -0.1529809306102248, -0.09423707158902901, -0.12226548895888466, -0.09529578281120295, -0.05329770134413985, -0.006710590848306379, -0.043438136093570896, -0.11078210143662906, -0.10870265853830492, -0.028311355786937574], \"yaxis\": \"y\"}, {\"hoverlabel\": {\"namelength\": 0}, \"hovertemplate\": \"kmeans_labels=0<br>x=%{x}<br>y=%{y}\", \"legendgroup\": \"kmeans_labels=0\", \"marker\": {\"color\": \"#FFA15A\", \"symbol\": \"circle\"}, \"mode\": \"markers\", \"name\": \"kmeans_labels=0\", \"showlegend\": true, \"type\": \"scatter\", \"x\": [-0.042563576502881166, -0.05489102387025837, -0.055704255596601894, -0.0691373654405665, -0.037847686659822445, -0.0543959232202684, -0.059687167298127966, -0.048684203290883944, -0.055658777576293034, -0.051448695391868554, -0.027472829713697945, -0.07361947216839526, -0.037969561870678646, -0.0399574982517586, -0.046716013432374325, -0.051448695391868554, -0.06415480285722555, -0.07361947216839526, -0.04062867278239489, -0.04657559337175776, -0.06797826529591527, -0.0604572077077868, -0.055781985035062105, -0.07342246063990561, -0.04491023561204868, -0.0418427396062628, -0.02248940632136386, -0.060691482813059076, -0.05795783598930507, -0.06108426168868408, -0.041479868811008236, -0.05621312830679867, -0.06232042479641024, -0.04825949955827933, -0.03347337486678195, -0.025904334841814206, -0.06892810386159418, -0.07580934673091805, -0.05134626065981937, -0.055896083125453674, -0.05148518171759598, -0.04335569150235176, -0.06592139938625874, -0.048251184633050906, -0.07047326702397179, -0.05480630751959851, -0.05655003622031061, -0.07586891496533833, -0.07586891496533833, -0.058420610902536106, -0.056175061408388516, -0.04837543961041349, -0.03193454174655075, -0.04938593714225812, -0.08164937710549133, -0.06960714352937442, -0.04119199891434201, -0.04011846845206836, -0.06201268863819945, -0.06276530892148498, -0.04616766835427758, -0.10015786133226069, -0.05402055525670932, -0.06491135799107865, -0.05470298265204574, -0.025388370688606797, -0.0807158303663138, -0.08080346552347312, -0.05117475300747935, -0.07723797221576473, -0.04826853943078898, -0.1032373185795552, -0.035998377168032905, -0.02967973806807188, -0.0472216828709858, -0.08011967446179016, -0.07209958186400542, -0.04187790215486464, -0.0722281337701273, -0.06637657173022493, -0.03232378522066426, -0.05093889026525802, -0.027555800432008715, -0.060865275286426886, -0.020783515425527487, -0.062064650401882936, -0.03779041273997313, -0.0788248831038568, -0.03179201448764603, -0.06330832872672378, -0.04136100910141671, -0.06653119581990909, -0.04806202963875146, -0.04963872860855801, -0.029094738360716767], \"xaxis\": \"x\", \"y\": [0.07817231227741792, 0.10536414113872561, 0.04833258635802555, 0.0696765373980836, 0.0892405692947167, 0.08617532977773007, 0.07921296887017393, 0.09591747397790201, 0.08001135867897027, 0.11595629495314148, 0.033324791225295906, 0.05502356598736258, 0.08725537895351322, 0.0962855320289051, 0.08772455886370087, 0.11595629495314148, 0.051724816216654465, 0.05502356598736258, 0.08924722665740245, 0.10607580838255176, 0.14236825340181167, 0.05979669139177657, 0.06546043162179627, 0.11757548834563249, 0.0311688749648677, 0.09658843696619943, 0.07489189110822489, 0.11589710460571022, 0.03912324000458729, 0.10747001551569145, 0.05957107192088446, 0.07157348838200318, 0.09267083626468389, 0.07223438693374426, 0.03600020017288183, 0.041949468142922684, 0.1354602605266211, 0.11948425694742813, 0.10177583453303361, 0.048571959042337666, 0.06801142161618096, 0.06685242670936871, 0.09691780695281227, 0.10555875092659518, 0.059480590665743564, 0.13884599339968154, 0.07916818207123107, 0.022770145398513353, 0.022770145398513353, 0.1453651691073122, 0.03380329187211183, 0.05275711352398845, 0.04281548754961735, 0.08008329091868277, 0.1512787788515201, 0.11063739140866101, 0.07553663712363445, 0.07335473619921942, 0.0971042151527393, 0.06324513222766236, 0.0934561442483142, 0.14908534705178336, 0.1140344543502306, 0.08124710298491866, 0.07484384663240376, 0.036494336123183986, 0.044741433611301104, 0.04492846313875879, 0.05456943771167452, 0.11027738425090595, 0.08263111880097367, 0.13453286546224047, 0.044928579461033805, 0.03832009775714792, 0.07836763594435892, 0.03636688620469488, 0.04758039518959347, 0.06917713509067888, 0.06411557082489266, 0.04590403763954153, 0.02855218006154428, 0.06755573652811747, 0.10613612855657015, 0.07079035422324675, 0.06852801919637524, 0.07772225086860408, 0.07590053508037428, 0.07624080595635192, 0.0672040729441812, 0.07964859847108943, 0.1053094766073122, 0.10880351753293734, 0.05287497152934902, 0.06020652988569586, 0.07147142989070669], \"yaxis\": \"y\"}],\n",
              "                        {\"legend\": {\"tracegroupgap\": 0}, \"margin\": {\"t\": 60}, \"template\": {\"data\": {\"bar\": [{\"error_x\": {\"color\": \"#2a3f5f\"}, \"error_y\": {\"color\": \"#2a3f5f\"}, \"marker\": {\"line\": {\"color\": \"#E5ECF6\", \"width\": 0.5}}, \"type\": \"bar\"}], \"barpolar\": [{\"marker\": {\"line\": {\"color\": \"#E5ECF6\", \"width\": 0.5}}, \"type\": \"barpolar\"}], \"carpet\": [{\"aaxis\": {\"endlinecolor\": \"#2a3f5f\", \"gridcolor\": \"white\", \"linecolor\": \"white\", \"minorgridcolor\": \"white\", \"startlinecolor\": \"#2a3f5f\"}, \"baxis\": {\"endlinecolor\": \"#2a3f5f\", \"gridcolor\": \"white\", \"linecolor\": \"white\", \"minorgridcolor\": \"white\", \"startlinecolor\": \"#2a3f5f\"}, \"type\": \"carpet\"}], \"choropleth\": [{\"colorbar\": {\"outlinewidth\": 0, \"ticks\": \"\"}, \"type\": \"choropleth\"}], \"contour\": [{\"colorbar\": {\"outlinewidth\": 0, \"ticks\": \"\"}, \"colorscale\": [[0.0, \"#0d0887\"], [0.1111111111111111, \"#46039f\"], [0.2222222222222222, \"#7201a8\"], [0.3333333333333333, \"#9c179e\"], [0.4444444444444444, \"#bd3786\"], [0.5555555555555556, \"#d8576b\"], [0.6666666666666666, \"#ed7953\"], [0.7777777777777778, \"#fb9f3a\"], [0.8888888888888888, \"#fdca26\"], [1.0, \"#f0f921\"]], \"type\": \"contour\"}], \"contourcarpet\": [{\"colorbar\": {\"outlinewidth\": 0, \"ticks\": \"\"}, \"type\": \"contourcarpet\"}], \"heatmap\": [{\"colorbar\": {\"outlinewidth\": 0, \"ticks\": \"\"}, \"colorscale\": [[0.0, \"#0d0887\"], [0.1111111111111111, \"#46039f\"], [0.2222222222222222, \"#7201a8\"], [0.3333333333333333, \"#9c179e\"], [0.4444444444444444, \"#bd3786\"], [0.5555555555555556, \"#d8576b\"], [0.6666666666666666, \"#ed7953\"], [0.7777777777777778, \"#fb9f3a\"], [0.8888888888888888, \"#fdca26\"], [1.0, \"#f0f921\"]], \"type\": \"heatmap\"}], \"heatmapgl\": [{\"colorbar\": {\"outlinewidth\": 0, \"ticks\": \"\"}, \"colorscale\": [[0.0, \"#0d0887\"], [0.1111111111111111, \"#46039f\"], [0.2222222222222222, \"#7201a8\"], [0.3333333333333333, \"#9c179e\"], [0.4444444444444444, \"#bd3786\"], [0.5555555555555556, \"#d8576b\"], [0.6666666666666666, \"#ed7953\"], [0.7777777777777778, \"#fb9f3a\"], [0.8888888888888888, \"#fdca26\"], [1.0, \"#f0f921\"]], \"type\": \"heatmapgl\"}], \"histogram\": [{\"marker\": {\"colorbar\": {\"outlinewidth\": 0, \"ticks\": \"\"}}, \"type\": \"histogram\"}], \"histogram2d\": [{\"colorbar\": {\"outlinewidth\": 0, \"ticks\": \"\"}, \"colorscale\": [[0.0, \"#0d0887\"], [0.1111111111111111, \"#46039f\"], [0.2222222222222222, \"#7201a8\"], [0.3333333333333333, \"#9c179e\"], [0.4444444444444444, \"#bd3786\"], [0.5555555555555556, \"#d8576b\"], [0.6666666666666666, \"#ed7953\"], [0.7777777777777778, \"#fb9f3a\"], [0.8888888888888888, \"#fdca26\"], [1.0, \"#f0f921\"]], \"type\": \"histogram2d\"}], \"histogram2dcontour\": [{\"colorbar\": {\"outlinewidth\": 0, \"ticks\": \"\"}, \"colorscale\": [[0.0, \"#0d0887\"], [0.1111111111111111, \"#46039f\"], [0.2222222222222222, \"#7201a8\"], [0.3333333333333333, \"#9c179e\"], [0.4444444444444444, \"#bd3786\"], [0.5555555555555556, \"#d8576b\"], [0.6666666666666666, \"#ed7953\"], [0.7777777777777778, \"#fb9f3a\"], [0.8888888888888888, \"#fdca26\"], [1.0, \"#f0f921\"]], \"type\": \"histogram2dcontour\"}], \"mesh3d\": [{\"colorbar\": {\"outlinewidth\": 0, \"ticks\": \"\"}, \"type\": \"mesh3d\"}], \"parcoords\": [{\"line\": {\"colorbar\": {\"outlinewidth\": 0, \"ticks\": \"\"}}, \"type\": \"parcoords\"}], \"pie\": [{\"automargin\": true, \"type\": \"pie\"}], \"scatter\": [{\"marker\": {\"colorbar\": {\"outlinewidth\": 0, \"ticks\": \"\"}}, \"type\": \"scatter\"}], \"scatter3d\": [{\"line\": {\"colorbar\": {\"outlinewidth\": 0, \"ticks\": \"\"}}, \"marker\": {\"colorbar\": {\"outlinewidth\": 0, \"ticks\": \"\"}}, \"type\": \"scatter3d\"}], \"scattercarpet\": [{\"marker\": {\"colorbar\": {\"outlinewidth\": 0, \"ticks\": \"\"}}, \"type\": \"scattercarpet\"}], \"scattergeo\": [{\"marker\": {\"colorbar\": {\"outlinewidth\": 0, \"ticks\": \"\"}}, \"type\": \"scattergeo\"}], \"scattergl\": [{\"marker\": {\"colorbar\": {\"outlinewidth\": 0, \"ticks\": \"\"}}, \"type\": \"scattergl\"}], \"scattermapbox\": [{\"marker\": {\"colorbar\": {\"outlinewidth\": 0, \"ticks\": \"\"}}, \"type\": \"scattermapbox\"}], \"scatterpolar\": [{\"marker\": {\"colorbar\": {\"outlinewidth\": 0, \"ticks\": \"\"}}, \"type\": \"scatterpolar\"}], \"scatterpolargl\": [{\"marker\": {\"colorbar\": {\"outlinewidth\": 0, \"ticks\": \"\"}}, \"type\": \"scatterpolargl\"}], \"scatterternary\": [{\"marker\": {\"colorbar\": {\"outlinewidth\": 0, \"ticks\": \"\"}}, \"type\": \"scatterternary\"}], \"surface\": [{\"colorbar\": {\"outlinewidth\": 0, \"ticks\": \"\"}, \"colorscale\": [[0.0, \"#0d0887\"], [0.1111111111111111, \"#46039f\"], [0.2222222222222222, \"#7201a8\"], [0.3333333333333333, \"#9c179e\"], [0.4444444444444444, \"#bd3786\"], [0.5555555555555556, \"#d8576b\"], [0.6666666666666666, \"#ed7953\"], [0.7777777777777778, \"#fb9f3a\"], [0.8888888888888888, \"#fdca26\"], [1.0, \"#f0f921\"]], \"type\": \"surface\"}], \"table\": [{\"cells\": {\"fill\": {\"color\": \"#EBF0F8\"}, \"line\": {\"color\": \"white\"}}, \"header\": {\"fill\": {\"color\": \"#C8D4E3\"}, \"line\": {\"color\": \"white\"}}, \"type\": \"table\"}]}, \"layout\": {\"annotationdefaults\": {\"arrowcolor\": \"#2a3f5f\", \"arrowhead\": 0, \"arrowwidth\": 1}, \"coloraxis\": {\"colorbar\": {\"outlinewidth\": 0, \"ticks\": \"\"}}, \"colorscale\": {\"diverging\": [[0, \"#8e0152\"], [0.1, \"#c51b7d\"], [0.2, \"#de77ae\"], [0.3, \"#f1b6da\"], [0.4, \"#fde0ef\"], [0.5, \"#f7f7f7\"], [0.6, \"#e6f5d0\"], [0.7, \"#b8e186\"], [0.8, \"#7fbc41\"], [0.9, \"#4d9221\"], [1, \"#276419\"]], \"sequential\": [[0.0, \"#0d0887\"], [0.1111111111111111, \"#46039f\"], [0.2222222222222222, \"#7201a8\"], [0.3333333333333333, \"#9c179e\"], [0.4444444444444444, \"#bd3786\"], [0.5555555555555556, \"#d8576b\"], [0.6666666666666666, \"#ed7953\"], [0.7777777777777778, \"#fb9f3a\"], [0.8888888888888888, \"#fdca26\"], [1.0, \"#f0f921\"]], \"sequentialminus\": [[0.0, \"#0d0887\"], [0.1111111111111111, \"#46039f\"], [0.2222222222222222, \"#7201a8\"], [0.3333333333333333, \"#9c179e\"], [0.4444444444444444, \"#bd3786\"], [0.5555555555555556, \"#d8576b\"], [0.6666666666666666, \"#ed7953\"], [0.7777777777777778, \"#fb9f3a\"], [0.8888888888888888, \"#fdca26\"], [1.0, \"#f0f921\"]]}, \"colorway\": [\"#636efa\", \"#EF553B\", \"#00cc96\", \"#ab63fa\", \"#FFA15A\", \"#19d3f3\", \"#FF6692\", \"#B6E880\", \"#FF97FF\", \"#FECB52\"], \"font\": {\"color\": \"#2a3f5f\"}, \"geo\": {\"bgcolor\": \"white\", \"lakecolor\": \"white\", \"landcolor\": \"#E5ECF6\", \"showlakes\": true, \"showland\": true, \"subunitcolor\": \"white\"}, \"hoverlabel\": {\"align\": \"left\"}, \"hovermode\": \"closest\", \"mapbox\": {\"style\": \"light\"}, \"paper_bgcolor\": \"white\", \"plot_bgcolor\": \"#E5ECF6\", \"polar\": {\"angularaxis\": {\"gridcolor\": \"white\", \"linecolor\": \"white\", \"ticks\": \"\"}, \"bgcolor\": \"#E5ECF6\", \"radialaxis\": {\"gridcolor\": \"white\", \"linecolor\": \"white\", \"ticks\": \"\"}}, \"scene\": {\"xaxis\": {\"backgroundcolor\": \"#E5ECF6\", \"gridcolor\": \"white\", \"gridwidth\": 2, \"linecolor\": \"white\", \"showbackground\": true, \"ticks\": \"\", \"zerolinecolor\": \"white\"}, \"yaxis\": {\"backgroundcolor\": \"#E5ECF6\", \"gridcolor\": \"white\", \"gridwidth\": 2, \"linecolor\": \"white\", \"showbackground\": true, \"ticks\": \"\", \"zerolinecolor\": \"white\"}, \"zaxis\": {\"backgroundcolor\": \"#E5ECF6\", \"gridcolor\": \"white\", \"gridwidth\": 2, \"linecolor\": \"white\", \"showbackground\": true, \"ticks\": \"\", \"zerolinecolor\": \"white\"}}, \"shapedefaults\": {\"line\": {\"color\": \"#2a3f5f\"}}, \"ternary\": {\"aaxis\": {\"gridcolor\": \"white\", \"linecolor\": \"white\", \"ticks\": \"\"}, \"baxis\": {\"gridcolor\": \"white\", \"linecolor\": \"white\", \"ticks\": \"\"}, \"bgcolor\": \"#E5ECF6\", \"caxis\": {\"gridcolor\": \"white\", \"linecolor\": \"white\", \"ticks\": \"\"}}, \"title\": {\"x\": 0.05}, \"xaxis\": {\"automargin\": true, \"gridcolor\": \"white\", \"linecolor\": \"white\", \"ticks\": \"\", \"title\": {\"standoff\": 15}, \"zerolinecolor\": \"white\", \"zerolinewidth\": 2}, \"yaxis\": {\"automargin\": true, \"gridcolor\": \"white\", \"linecolor\": \"white\", \"ticks\": \"\", \"title\": {\"standoff\": 15}, \"zerolinecolor\": \"white\", \"zerolinewidth\": 2}}}, \"xaxis\": {\"anchor\": \"y\", \"domain\": [0.0, 1.0], \"title\": {\"text\": \"x\"}}, \"yaxis\": {\"anchor\": \"x\", \"domain\": [0.0, 1.0], \"title\": {\"text\": \"y\"}}},\n",
              "                        {\"responsive\": true}\n",
              "                    ).then(function(){\n",
              "                            \n",
              "var gd = document.getElementById('1193b657-f179-47eb-a65d-4a6775d65f75');\n",
              "var x = new MutationObserver(function (mutations, observer) {{\n",
              "        var display = window.getComputedStyle(gd).display;\n",
              "        if (!display || display === 'none') {{\n",
              "            console.log([gd, 'removed!']);\n",
              "            Plotly.purge(gd);\n",
              "            observer.disconnect();\n",
              "        }}\n",
              "}});\n",
              "\n",
              "// Listen for the removal of the full notebook cells\n",
              "var notebookContainer = gd.closest('#notebook-container');\n",
              "if (notebookContainer) {{\n",
              "    x.observe(notebookContainer, {childList: true});\n",
              "}}\n",
              "\n",
              "// Listen for the clearing of the current output cell\n",
              "var outputEl = gd.closest('.output');\n",
              "if (outputEl) {{\n",
              "    x.observe(outputEl, {childList: true});\n",
              "}}\n",
              "\n",
              "                        })\n",
              "                };\n",
              "                \n",
              "            </script>\n",
              "        </div>\n",
              "</body>\n",
              "</html>"
            ]
          },
          "metadata": {
            "tags": []
          }
        }
      ]
    },
    {
      "cell_type": "code",
      "metadata": {
        "colab": {
          "base_uri": "https://localhost:8080/"
        },
        "id": "hwtzkqWcQxpQ",
        "outputId": "78a7828b-6af8-4970-8561-f7e702889fb8"
      },
      "source": [
        "df['topic'].value_counts()"
      ],
      "execution_count": 31,
      "outputs": [
        {
          "output_type": "execute_result",
          "data": {
            "text/plain": [
              "football     265\n",
              "rugby        147\n",
              "cricket      124\n",
              "athletics    101\n",
              "tennis       100\n",
              "Name: topic, dtype: int64"
            ]
          },
          "metadata": {
            "tags": []
          },
          "execution_count": 31
        }
      ]
    },
    {
      "cell_type": "code",
      "metadata": {
        "colab": {
          "base_uri": "https://localhost:8080/"
        },
        "id": "DOg1qiZ4RDP9",
        "outputId": "be8ab1b8-3e6f-448f-f316-94056b87164f"
      },
      "source": [
        "df['kmeans_labels'].value_counts()"
      ],
      "execution_count": 29,
      "outputs": [
        {
          "output_type": "execute_result",
          "data": {
            "text/plain": [
              "1    245\n",
              "4    185\n",
              "3    116\n",
              "2     96\n",
              "0     95\n",
              "Name: kmeans_labels, dtype: int64"
            ]
          },
          "metadata": {
            "tags": []
          },
          "execution_count": 29
        }
      ]
    },
    {
      "cell_type": "code",
      "metadata": {
        "id": "aVpJ2EnVRG7M"
      },
      "source": [
        "df['tokenize'] = hero.tokenize(df['clean_data'])"
      ],
      "execution_count": 32,
      "outputs": []
    },
    {
      "cell_type": "code",
      "metadata": {
        "colab": {
          "base_uri": "https://localhost:8080/",
          "height": 289
        },
        "id": "_oa8qU7hRwuf",
        "outputId": "57a5aa55-7a66-4b63-c817-a44082f16161"
      },
      "source": [
        "df.head()"
      ],
      "execution_count": 33,
      "outputs": [
        {
          "output_type": "execute_result",
          "data": {
            "text/html": [
              "<div>\n",
              "<style scoped>\n",
              "    .dataframe tbody tr th:only-of-type {\n",
              "        vertical-align: middle;\n",
              "    }\n",
              "\n",
              "    .dataframe tbody tr th {\n",
              "        vertical-align: top;\n",
              "    }\n",
              "\n",
              "    .dataframe thead th {\n",
              "        text-align: right;\n",
              "    }\n",
              "</style>\n",
              "<table border=\"1\" class=\"dataframe\">\n",
              "  <thead>\n",
              "    <tr style=\"text-align: right;\">\n",
              "      <th></th>\n",
              "      <th>text</th>\n",
              "      <th>topic</th>\n",
              "      <th>clean_data</th>\n",
              "      <th>pca</th>\n",
              "      <th>kmeans_labels</th>\n",
              "      <th>tokenize</th>\n",
              "    </tr>\n",
              "  </thead>\n",
              "  <tbody>\n",
              "    <tr>\n",
              "      <th>0</th>\n",
              "      <td>Claxton hunting first major medal\\n\\nBritish h...</td>\n",
              "      <td>athletics</td>\n",
              "      <td>claxton hunting first major medal british hurd...</td>\n",
              "      <td>[-0.09098341139255824, 0.10349818483091999]</td>\n",
              "      <td>2</td>\n",
              "      <td>[claxton, hunting, first, major, medal, britis...</td>\n",
              "    </tr>\n",
              "    <tr>\n",
              "      <th>1</th>\n",
              "      <td>O'Sullivan could run in Worlds\\n\\nSonia O'Sull...</td>\n",
              "      <td>athletics</td>\n",
              "      <td>sullivan could run worlds sonia sullivan indic...</td>\n",
              "      <td>[-0.00040331415693195137, 0.024597213258187912]</td>\n",
              "      <td>1</td>\n",
              "      <td>[sullivan, could, run, worlds, sonia, sullivan...</td>\n",
              "    </tr>\n",
              "    <tr>\n",
              "      <th>2</th>\n",
              "      <td>Greene sets sights on world title\\n\\nMaurice G...</td>\n",
              "      <td>athletics</td>\n",
              "      <td>greene sets sights world title maurice greene ...</td>\n",
              "      <td>[-0.11765357712279555, 0.12871763983780504]</td>\n",
              "      <td>2</td>\n",
              "      <td>[greene, sets, sights, world, title, maurice, ...</td>\n",
              "    </tr>\n",
              "    <tr>\n",
              "      <th>3</th>\n",
              "      <td>IAAF launches fight against drugs\\n\\nThe IAAF ...</td>\n",
              "      <td>athletics</td>\n",
              "      <td>iaaf launches fight drugs iaaf athletics world...</td>\n",
              "      <td>[-0.09137806647329501, 0.1540147100579918]</td>\n",
              "      <td>2</td>\n",
              "      <td>[iaaf, launches, fight, drugs, iaaf, athletics...</td>\n",
              "    </tr>\n",
              "    <tr>\n",
              "      <th>4</th>\n",
              "      <td>Dibaba breaks 5,000m world record\\n\\nEthiopia'...</td>\n",
              "      <td>athletics</td>\n",
              "      <td>dibaba breaks 000m world record ethiopia tirun...</td>\n",
              "      <td>[-0.09122883447935112, 0.13490398713504895]</td>\n",
              "      <td>2</td>\n",
              "      <td>[dibaba, breaks, 000m, world, record, ethiopia...</td>\n",
              "    </tr>\n",
              "  </tbody>\n",
              "</table>\n",
              "</div>"
            ],
            "text/plain": [
              "                                                text  ...                                           tokenize\n",
              "0  Claxton hunting first major medal\\n\\nBritish h...  ...  [claxton, hunting, first, major, medal, britis...\n",
              "1  O'Sullivan could run in Worlds\\n\\nSonia O'Sull...  ...  [sullivan, could, run, worlds, sonia, sullivan...\n",
              "2  Greene sets sights on world title\\n\\nMaurice G...  ...  [greene, sets, sights, world, title, maurice, ...\n",
              "3  IAAF launches fight against drugs\\n\\nThe IAAF ...  ...  [iaaf, launches, fight, drugs, iaaf, athletics...\n",
              "4  Dibaba breaks 5,000m world record\\n\\nEthiopia'...  ...  [dibaba, breaks, 000m, world, record, ethiopia...\n",
              "\n",
              "[5 rows x 6 columns]"
            ]
          },
          "metadata": {
            "tags": []
          },
          "execution_count": 33
        }
      ]
    },
    {
      "cell_type": "code",
      "metadata": {
        "colab": {
          "base_uri": "https://localhost:8080/"
        },
        "id": "mLKotY-TRxzS",
        "outputId": "a20d3754-d396-44af-a559-807f25216bc6"
      },
      "source": [
        "hero.top_words(df['clean_data'])"
      ],
      "execution_count": 35,
      "outputs": [
        {
          "output_type": "execute_result",
          "data": {
            "text/plain": [
              "said               1338\n",
              "first               790\n",
              "england             749\n",
              "game                681\n",
              "one                 671\n",
              "                   ... \n",
              "canny                 1\n",
              "recapturing           1\n",
              "kung                  1\n",
              "physiotherapist       1\n",
              "titanium              1\n",
              "Name: clean_data, Length: 12796, dtype: int64"
            ]
          },
          "metadata": {
            "tags": []
          },
          "execution_count": 35
        }
      ]
    },
    {
      "cell_type": "code",
      "metadata": {
        "id": "yLf7MM8tSJfN"
      },
      "source": [
        "df['dbscan_labels'] = (\n",
        "    hero.tfidf(df['clean_data'])\n",
        "    .pipe(hero.dbscan)\n",
        "    .astype(str)\n",
        ")"
      ],
      "execution_count": 40,
      "outputs": []
    },
    {
      "cell_type": "code",
      "metadata": {
        "colab": {
          "base_uri": "https://localhost:8080/",
          "height": 289
        },
        "id": "vlIwcC7ESjbq",
        "outputId": "e38ba733-1941-4e36-b224-6383ef907911"
      },
      "source": [
        "df.head()"
      ],
      "execution_count": 41,
      "outputs": [
        {
          "output_type": "execute_result",
          "data": {
            "text/html": [
              "<div>\n",
              "<style scoped>\n",
              "    .dataframe tbody tr th:only-of-type {\n",
              "        vertical-align: middle;\n",
              "    }\n",
              "\n",
              "    .dataframe tbody tr th {\n",
              "        vertical-align: top;\n",
              "    }\n",
              "\n",
              "    .dataframe thead th {\n",
              "        text-align: right;\n",
              "    }\n",
              "</style>\n",
              "<table border=\"1\" class=\"dataframe\">\n",
              "  <thead>\n",
              "    <tr style=\"text-align: right;\">\n",
              "      <th></th>\n",
              "      <th>text</th>\n",
              "      <th>topic</th>\n",
              "      <th>clean_data</th>\n",
              "      <th>pca</th>\n",
              "      <th>kmeans_labels</th>\n",
              "      <th>tokenize</th>\n",
              "      <th>dbscan_labels</th>\n",
              "    </tr>\n",
              "  </thead>\n",
              "  <tbody>\n",
              "    <tr>\n",
              "      <th>0</th>\n",
              "      <td>Claxton hunting first major medal\\n\\nBritish h...</td>\n",
              "      <td>athletics</td>\n",
              "      <td>claxton hunting first major medal british hurd...</td>\n",
              "      <td>[-0.09098341139255824, 0.10349818483091999]</td>\n",
              "      <td>2</td>\n",
              "      <td>[claxton, hunting, first, major, medal, britis...</td>\n",
              "      <td>-1</td>\n",
              "    </tr>\n",
              "    <tr>\n",
              "      <th>1</th>\n",
              "      <td>O'Sullivan could run in Worlds\\n\\nSonia O'Sull...</td>\n",
              "      <td>athletics</td>\n",
              "      <td>sullivan could run worlds sonia sullivan indic...</td>\n",
              "      <td>[-0.00040331415693195137, 0.024597213258187912]</td>\n",
              "      <td>1</td>\n",
              "      <td>[sullivan, could, run, worlds, sonia, sullivan...</td>\n",
              "      <td>-1</td>\n",
              "    </tr>\n",
              "    <tr>\n",
              "      <th>2</th>\n",
              "      <td>Greene sets sights on world title\\n\\nMaurice G...</td>\n",
              "      <td>athletics</td>\n",
              "      <td>greene sets sights world title maurice greene ...</td>\n",
              "      <td>[-0.11765357712279555, 0.12871763983780504]</td>\n",
              "      <td>2</td>\n",
              "      <td>[greene, sets, sights, world, title, maurice, ...</td>\n",
              "      <td>-1</td>\n",
              "    </tr>\n",
              "    <tr>\n",
              "      <th>3</th>\n",
              "      <td>IAAF launches fight against drugs\\n\\nThe IAAF ...</td>\n",
              "      <td>athletics</td>\n",
              "      <td>iaaf launches fight drugs iaaf athletics world...</td>\n",
              "      <td>[-0.09137806647329501, 0.1540147100579918]</td>\n",
              "      <td>2</td>\n",
              "      <td>[iaaf, launches, fight, drugs, iaaf, athletics...</td>\n",
              "      <td>-1</td>\n",
              "    </tr>\n",
              "    <tr>\n",
              "      <th>4</th>\n",
              "      <td>Dibaba breaks 5,000m world record\\n\\nEthiopia'...</td>\n",
              "      <td>athletics</td>\n",
              "      <td>dibaba breaks 000m world record ethiopia tirun...</td>\n",
              "      <td>[-0.09122883447935112, 0.13490398713504895]</td>\n",
              "      <td>2</td>\n",
              "      <td>[dibaba, breaks, 000m, world, record, ethiopia...</td>\n",
              "      <td>-1</td>\n",
              "    </tr>\n",
              "  </tbody>\n",
              "</table>\n",
              "</div>"
            ],
            "text/plain": [
              "                                                text  ... dbscan_labels\n",
              "0  Claxton hunting first major medal\\n\\nBritish h...  ...            -1\n",
              "1  O'Sullivan could run in Worlds\\n\\nSonia O'Sull...  ...            -1\n",
              "2  Greene sets sights on world title\\n\\nMaurice G...  ...            -1\n",
              "3  IAAF launches fight against drugs\\n\\nThe IAAF ...  ...            -1\n",
              "4  Dibaba breaks 5,000m world record\\n\\nEthiopia'...  ...            -1\n",
              "\n",
              "[5 rows x 7 columns]"
            ]
          },
          "metadata": {
            "tags": []
          },
          "execution_count": 41
        }
      ]
    },
    {
      "cell_type": "code",
      "metadata": {
        "colab": {
          "base_uri": "https://localhost:8080/"
        },
        "id": "OEVCH9wsSrkG",
        "outputId": "6ff8d087-10fd-42af-f968-e1ab695e192c"
      },
      "source": [
        "df['dbscan_labels'].value_counts()"
      ],
      "execution_count": 42,
      "outputs": [
        {
          "output_type": "execute_result",
          "data": {
            "text/plain": [
              "-1    737\n",
              "Name: dbscan_labels, dtype: int64"
            ]
          },
          "metadata": {
            "tags": []
          },
          "execution_count": 42
        }
      ]
    },
    {
      "cell_type": "code",
      "metadata": {
        "id": "JytX4KgoSwdB"
      },
      "source": [
        "df['tsne'] = hero.tsne(hero.tfidf(df['clean_data']))"
      ],
      "execution_count": 43,
      "outputs": []
    },
    {
      "cell_type": "code",
      "metadata": {
        "colab": {
          "base_uri": "https://localhost:8080/",
          "height": 374
        },
        "id": "ZqNrZvMzTPTT",
        "outputId": "10d8e598-7ca6-4d73-b39d-0637b6adff4c"
      },
      "source": [
        "df.head()"
      ],
      "execution_count": 44,
      "outputs": [
        {
          "output_type": "execute_result",
          "data": {
            "text/html": [
              "<div>\n",
              "<style scoped>\n",
              "    .dataframe tbody tr th:only-of-type {\n",
              "        vertical-align: middle;\n",
              "    }\n",
              "\n",
              "    .dataframe tbody tr th {\n",
              "        vertical-align: top;\n",
              "    }\n",
              "\n",
              "    .dataframe thead th {\n",
              "        text-align: right;\n",
              "    }\n",
              "</style>\n",
              "<table border=\"1\" class=\"dataframe\">\n",
              "  <thead>\n",
              "    <tr style=\"text-align: right;\">\n",
              "      <th></th>\n",
              "      <th>text</th>\n",
              "      <th>topic</th>\n",
              "      <th>clean_data</th>\n",
              "      <th>pca</th>\n",
              "      <th>kmeans_labels</th>\n",
              "      <th>tokenize</th>\n",
              "      <th>dbscan_labels</th>\n",
              "      <th>tsne</th>\n",
              "    </tr>\n",
              "  </thead>\n",
              "  <tbody>\n",
              "    <tr>\n",
              "      <th>0</th>\n",
              "      <td>Claxton hunting first major medal\\n\\nBritish h...</td>\n",
              "      <td>athletics</td>\n",
              "      <td>claxton hunting first major medal british hurd...</td>\n",
              "      <td>[-0.09098341139255824, 0.10349818483091999]</td>\n",
              "      <td>2</td>\n",
              "      <td>[claxton, hunting, first, major, medal, britis...</td>\n",
              "      <td>-1</td>\n",
              "      <td>[1.0782663822174072, -32.1010627746582]</td>\n",
              "    </tr>\n",
              "    <tr>\n",
              "      <th>1</th>\n",
              "      <td>O'Sullivan could run in Worlds\\n\\nSonia O'Sull...</td>\n",
              "      <td>athletics</td>\n",
              "      <td>sullivan could run worlds sonia sullivan indic...</td>\n",
              "      <td>[-0.00040331415693195137, 0.024597213258187912]</td>\n",
              "      <td>1</td>\n",
              "      <td>[sullivan, could, run, worlds, sonia, sullivan...</td>\n",
              "      <td>-1</td>\n",
              "      <td>[2.246330976486206, -21.730745315551758]</td>\n",
              "    </tr>\n",
              "    <tr>\n",
              "      <th>2</th>\n",
              "      <td>Greene sets sights on world title\\n\\nMaurice G...</td>\n",
              "      <td>athletics</td>\n",
              "      <td>greene sets sights world title maurice greene ...</td>\n",
              "      <td>[-0.11765357712279555, 0.12871763983780504]</td>\n",
              "      <td>2</td>\n",
              "      <td>[greene, sets, sights, world, title, maurice, ...</td>\n",
              "      <td>-1</td>\n",
              "      <td>[0.39670515060424805, -40.77918243408203]</td>\n",
              "    </tr>\n",
              "    <tr>\n",
              "      <th>3</th>\n",
              "      <td>IAAF launches fight against drugs\\n\\nThe IAAF ...</td>\n",
              "      <td>athletics</td>\n",
              "      <td>iaaf launches fight drugs iaaf athletics world...</td>\n",
              "      <td>[-0.09137806647329501, 0.1540147100579918]</td>\n",
              "      <td>2</td>\n",
              "      <td>[iaaf, launches, fight, drugs, iaaf, athletics...</td>\n",
              "      <td>-1</td>\n",
              "      <td>[25.29105567932129, 30.035545349121094]</td>\n",
              "    </tr>\n",
              "    <tr>\n",
              "      <th>4</th>\n",
              "      <td>Dibaba breaks 5,000m world record\\n\\nEthiopia'...</td>\n",
              "      <td>athletics</td>\n",
              "      <td>dibaba breaks 000m world record ethiopia tirun...</td>\n",
              "      <td>[-0.09122883447935112, 0.13490398713504895]</td>\n",
              "      <td>2</td>\n",
              "      <td>[dibaba, breaks, 000m, world, record, ethiopia...</td>\n",
              "      <td>-1</td>\n",
              "      <td>[2.4762985706329346, -37.64107131958008]</td>\n",
              "    </tr>\n",
              "  </tbody>\n",
              "</table>\n",
              "</div>"
            ],
            "text/plain": [
              "                                                text  ...                                       tsne\n",
              "0  Claxton hunting first major medal\\n\\nBritish h...  ...    [1.0782663822174072, -32.1010627746582]\n",
              "1  O'Sullivan could run in Worlds\\n\\nSonia O'Sull...  ...   [2.246330976486206, -21.730745315551758]\n",
              "2  Greene sets sights on world title\\n\\nMaurice G...  ...  [0.39670515060424805, -40.77918243408203]\n",
              "3  IAAF launches fight against drugs\\n\\nThe IAAF ...  ...    [25.29105567932129, 30.035545349121094]\n",
              "4  Dibaba breaks 5,000m world record\\n\\nEthiopia'...  ...   [2.4762985706329346, -37.64107131958008]\n",
              "\n",
              "[5 rows x 8 columns]"
            ]
          },
          "metadata": {
            "tags": []
          },
          "execution_count": 44
        }
      ]
    },
    {
      "cell_type": "code",
      "metadata": {
        "colab": {
          "base_uri": "https://localhost:8080/",
          "height": 542
        },
        "id": "od2JUpJaTUUT",
        "outputId": "30ee03a8-cb95-4264-e2d9-cf3a5dcaea8c"
      },
      "source": [
        "hero.scatterplot(df,'tsne',color= 'topic')"
      ],
      "execution_count": 45,
      "outputs": [
        {
          "output_type": "display_data",
          "data": {
            "text/html": [
              "<html>\n",
              "<head><meta charset=\"utf-8\" /></head>\n",
              "<body>\n",
              "    <div>\n",
              "            <script src=\"https://cdnjs.cloudflare.com/ajax/libs/mathjax/2.7.5/MathJax.js?config=TeX-AMS-MML_SVG\"></script><script type=\"text/javascript\">if (window.MathJax) {MathJax.Hub.Config({SVG: {font: \"STIX-Web\"}});}</script>\n",
              "                <script type=\"text/javascript\">window.PlotlyConfig = {MathJaxConfig: 'local'};</script>\n",
              "        <script src=\"https://cdn.plot.ly/plotly-latest.min.js\"></script>    \n",
              "            <div id=\"7a0606e6-cc9b-4d22-afdb-168f436e17a1\" class=\"plotly-graph-div\" style=\"height:525px; width:100%;\"></div>\n",
              "            <script type=\"text/javascript\">\n",
              "                \n",
              "                    window.PLOTLYENV=window.PLOTLYENV || {};\n",
              "                    \n",
              "                if (document.getElementById(\"7a0606e6-cc9b-4d22-afdb-168f436e17a1\")) {\n",
              "                    Plotly.newPlot(\n",
              "                        '7a0606e6-cc9b-4d22-afdb-168f436e17a1',\n",
              "                        [{\"hoverlabel\": {\"namelength\": 0}, \"hovertemplate\": \"topic=athletics<br>x=%{x}<br>y=%{y}\", \"legendgroup\": \"topic=athletics\", \"marker\": {\"color\": \"#636efa\", \"symbol\": \"circle\"}, \"mode\": \"markers\", \"name\": \"topic=athletics\", \"showlegend\": true, \"type\": \"scatter\", \"x\": [1.0782663822174072, 2.246330976486206, 0.39670515060424805, 25.29105567932129, 2.4762985706329346, 2.1541836261749268, 2.2083828449249268, 8.978952407836914, -1.14255690574646, -0.23254545032978058, 9.02242374420166, -6.074210166931152, 11.819845199584961, -1.6009925603866577, 16.828248977661133, 28.95760726928711, 29.662057876586914, 1.8790374994277954, 11.198476791381836, -6.074209690093994, 11.954134941101074, -7.448526382446289, 29.776290893554688, 9.996532440185547, 3.818026304244995, 21.261747360229492, -6.366401672363281, -1.964998483657837, 2.705631971359253, 2.3096017837524414, 3.302311420440674, 1.5629738569259644, 28.698389053344727, 6.129455089569092, 21.182689666748047, 24.697620391845703, -0.8883135914802551, 7.106775760650635, 25.0820255279541, 9.22719669342041, -5.7540740966796875, 10.158117294311523, 18.38567352294922, 21.040267944335938, 20.85348892211914, 11.768839836120605, 31.194509506225586, 30.185382843017578, 23.49131202697754, 26.98189926147461, 27.85689926147461, -7.643477439880371, 8.09597110748291, 29.99847412109375, -5.640809535980225, -2.6908469200134277, -6.174006462097168, -0.5615414381027222, 0.4548046588897705, -0.31989479064941406, -1.2671704292297363, 0.570243239402771, -5.39910364151001, -1.5831046104431152, 9.147440910339355, 4.821753978729248, -1.4595006704330444, -8.378609657287598, 0.6784875988960266, 1.779571533203125, -1.9232168197631836, 9.534760475158691, -2.8863608837127686, 6.152379035949707, 0.040391962975263596, 8.994173049926758, 7.520240783691406, 8.996561050415039, 28.379383087158203, 27.47914695739746, 27.026775360107422, 28.486318588256836, 10.088311195373535, -7.643157005310059, 5.049496173858643, 19.26427459716797, 6.5632734298706055, 23.491273880004883, 27.261289596557617, -2.1345362663269043, 20.906150817871094, 19.560935974121094, 6.701641082763672, -2.6689579486846924, 0.5743289589881897, -3.201144218444824, -0.35642874240875244, -1.7083244323730469, -6.690755367279053, -3.112388849258423, 16.528255462646484], \"xaxis\": \"x\", \"y\": [-32.1010627746582, -21.730745315551758, -40.77918243408203, 30.035545349121094, -37.64107131958008, -40.61375427246094, -22.76833724975586, -18.880325317382812, -35.0403938293457, -39.1532096862793, -36.648773193359375, -31.113557815551758, -35.61323165893555, -28.542436599731445, 18.128646850585938, 32.494598388671875, 30.12967300415039, -36.32550811767578, -36.65762710571289, -31.113554000854492, -35.696937561035156, -38.623695373535156, 29.01714324951172, -34.54741668701172, -35.78654098510742, 20.782245635986328, -40.405357360839844, -43.72416305541992, -41.267494201660156, -28.576663970947266, -28.31586265563965, -37.85185623168945, 31.396825790405273, -37.72124099731445, 20.724897384643555, 24.19823455810547, -44.230831146240234, -37.817649841308594, 23.639320373535156, -38.15364074707031, -41.93351745605469, -37.97247314453125, 18.673511505126953, 25.424108505249023, 23.453046798706055, -39.289093017578125, 30.380701065063477, 28.41166114807129, 25.175321578979492, 31.184406280517578, 31.180801391601562, -37.342674255371094, -40.00338363647461, 31.514789581298828, -37.80844497680664, -33.622798919677734, -38.41350555419922, -32.855201721191406, -33.14433670043945, -30.695804595947266, -32.59674835205078, -29.46862030029297, -36.56761169433594, -28.732526779174805, -39.04623031616211, -37.9537353515625, -40.7723274230957, -35.312801361083984, -35.84956741333008, -34.516971588134766, -38.06766891479492, -40.63755416870117, -31.95761489868164, -32.31141662597656, -34.93192672729492, -33.84302520751953, -31.270957946777344, -32.83979415893555, 28.563385009765625, 32.678035736083984, 29.9370059967041, 29.708335876464844, -32.497962951660156, -37.34246826171875, -34.77989196777344, 10.111218452453613, -32.107177734375, 25.175138473510742, 28.861122131347656, -42.167015075683594, 23.549293518066406, 19.302921295166016, -26.787137985229492, -40.43141174316406, -39.932498931884766, -34.56745147705078, -36.59485626220703, -39.87748718261719, -36.208091735839844, -44.90422439575195, 17.987916946411133], \"yaxis\": \"y\"}, {\"hoverlabel\": {\"namelength\": 0}, \"hovertemplate\": \"topic=cricket<br>x=%{x}<br>y=%{y}\", \"legendgroup\": \"topic=cricket\", \"marker\": {\"color\": \"#EF553B\", \"symbol\": \"circle\"}, \"mode\": \"markers\", \"name\": \"topic=cricket\", \"showlegend\": true, \"type\": \"scatter\", \"x\": [47.0267333984375, 36.9202880859375, 43.195472717285156, 48.557838439941406, 31.842288970947266, 24.655216217041016, 50.82796859741211, 49.3997688293457, 45.244102478027344, 46.86809158325195, 47.381282806396484, 37.79938888549805, 37.57461166381836, 41.52145004272461, 45.103355407714844, 33.55498123168945, 34.63734817504883, 41.338645935058594, 45.30167770385742, 36.9749641418457, 34.63578414916992, 51.58501052856445, 44.18000411987305, 49.46197509765625, 54.03014373779297, 48.7402229309082, 42.66770935058594, 48.25154113769531, 44.18316650390625, 33.81797790527344, 41.97029113769531, 49.46158218383789, 54.029911041259766, 51.083133697509766, 41.16789627075195, 41.416961669921875, 44.80819320678711, 50.07953643798828, 44.42609405517578, 29.930709838867188, 43.53525161743164, 31.118371963500977, 31.13600730895996, 46.91742706298828, 47.076786041259766, 45.60892105102539, 35.651878356933594, 39.86001205444336, 45.218833923339844, 38.97160720825195, 30.93267059326172, 38.6245231628418, 38.638187408447266, 51.324039459228516, 39.20364761352539, 47.388702392578125, 46.596866607666016, 46.80133819580078, 46.55458450317383, 49.081905364990234, 49.082454681396484, 49.17009735107422, 33.816307067871094, 32.502174377441406, 49.267494201660156, 41.5752067565918, 37.121761322021484, 34.2900390625, 36.828617095947266, 49.99066162109375, 32.8193473815918, 46.50529479980469, 33.124900817871094, 50.39088439941406, 33.63132095336914, 31.638139724731445, 50.348175048828125, 41.42753219604492, 32.76317596435547, 35.43869400024414, 49.08433532714844, 50.56333541870117, 34.197723388671875, 34.36494827270508, 39.00349807739258, 52.30299758911133, 52.61287307739258, 52.602359771728516, 37.358211517333984, 47.634910583496094, -19.53249740600586, 37.94740676879883, 35.489749908447266, 37.7606201171875, 34.13655471801758, 35.67450714111328, 30.971086502075195, 46.76284408569336, 43.581851959228516, 46.514305114746094, 33.64521026611328, 35.29443359375, 38.018943786621094, 41.31956100463867, 41.03834915161133, 32.29522705078125, 34.63277053833008, 37.4600944519043, 37.54627990722656, 38.466949462890625, 45.252193450927734, 32.230560302734375, 40.07059860229492, 43.53617858886719, 44.9829216003418, -7.043970108032227, 36.39347457885742, 38.298606872558594, 31.2453556060791, 38.5234489440918, 39.678165435791016, 30.634872436523438, 30.5714168548584, 48.28358840942383], \"xaxis\": \"x\", \"y\": [-10.93394947052002, 10.8265962600708, 11.260364532470703, -0.7291955947875977, 5.801286697387695, 9.077739715576172, 2.1812918186187744, -11.114446640014648, 1.0766493082046509, -13.874353408813477, 1.8696327209472656, -12.194265365600586, 10.056218147277832, 6.6365203857421875, -10.76591968536377, 0.6056177020072937, -4.023634910583496, 7.9890947341918945, -11.377613067626953, 6.780660152435303, -4.026293754577637, -1.0353071689605713, -1.6495211124420166, 2.650747299194336, 4.247021198272705, -0.5209465026855469, 11.258280754089355, -7.50519323348999, -1.6486073732376099, 0.30530253052711487, 10.760929107666016, 2.650803565979004, 4.246981143951416, -1.1922186613082886, 0.8964269161224365, 6.894402503967285, 1.3373651504516602, -3.104231595993042, 6.584304332733154, 9.056300163269043, -7.252706050872803, 10.294853210449219, 9.955053329467773, -5.342613220214844, -5.247382640838623, -4.865221977233887, -8.503828048706055, 6.724375247955322, -12.937283515930176, 10.692293167114258, -4.703391075134277, 14.277007102966309, 14.278502464294434, -3.1869678497314453, -7.323846817016602, -10.459583282470703, 5.39837646484375, 5.341608047485352, -9.702587127685547, 8.849946022033691, 8.852460861206055, -7.622707366943359, 7.422546863555908, 12.59697437286377, 7.592101573944092, -9.973956108093262, 14.265877723693848, 8.963616371154785, 1.399621844291687, -6.165623188018799, 8.34158992767334, -13.621074676513672, 10.833126068115234, -5.68177604675293, 10.029784202575684, 3.5670783519744873, 7.948151588439941, 1.5108468532562256, 5.39279842376709, 11.314512252807617, -9.300857543945312, -4.791522026062012, 11.663270950317383, 10.582612037658691, -5.608999729156494, -5.06439733505249, -6.317547798156738, -6.323115825653076, 8.4981050491333, 9.886555671691895, 21.876155853271484, 5.72501277923584, 8.968589782714844, -6.328943729400635, 4.047205448150635, 4.000067710876465, 2.7607421875, -0.9885600209236145, -11.571969032287598, -0.3670148253440857, -9.194945335388184, -8.61073112487793, -0.4962552487850189, -3.817350387573242, 0.039591431617736816, -7.726438999176025, 12.945770263671875, -3.2321550846099854, 8.052075386047363, -0.7046329379081726, 10.611978530883789, -8.123903274536133, -6.248300552368164, -7.25173807144165, 6.220458030700684, 0.7776210308074951, 2.5653438568115234, -11.264707565307617, 8.331059455871582, -4.991161346435547, -5.09226655960083, -2.7307486534118652, -3.2966785430908203, -2.0038933753967285], \"yaxis\": \"y\"}, {\"hoverlabel\": {\"namelength\": 0}, \"hovertemplate\": \"topic=football<br>x=%{x}<br>y=%{y}\", \"legendgroup\": \"topic=football\", \"marker\": {\"color\": \"#00cc96\", \"symbol\": \"circle\"}, \"mode\": \"markers\", \"name\": \"topic=football\", \"showlegend\": true, \"type\": \"scatter\", \"x\": [-34.87236785888672, -28.142017364501953, -43.08406448364258, -41.98081588745117, -10.446861267089844, -16.801559448242188, -32.22110366821289, -35.529788970947266, -31.22162437438965, -32.124874114990234, -29.972959518432617, -35.87911605834961, -32.91209030151367, -19.079086303710938, -8.937064170837402, -26.000049591064453, -29.91410255432129, -38.003475189208984, -30.268268585205078, -25.671241760253906, -18.134990692138672, -33.866188049316406, -18.504104614257812, -38.99240493774414, -11.843208312988281, -29.211101531982422, -37.99748992919922, -20.567041397094727, -30.568344116210938, -44.27295684814453, -23.1490478515625, -22.518726348876953, -33.50276565551758, -10.074698448181152, -17.1318359375, -38.291229248046875, -22.284832000732422, -9.539299011230469, -10.893820762634277, -9.633844375610352, -11.273416519165039, -9.006104469299316, -38.45782470703125, -22.087602615356445, -31.25651741027832, -25.116683959960938, -37.938716888427734, -29.789226531982422, -41.671260833740234, -25.300458908081055, -12.00442123413086, -17.867143630981445, -9.65371036529541, -46.5278205871582, -30.174692153930664, -17.92201805114746, -28.631183624267578, -29.878135681152344, -42.43879318237305, -26.758153915405273, -39.0022087097168, -25.198360443115234, -38.57038116455078, -30.506656646728516, -27.530277252197266, -18.646480560302734, 6.0742411613464355, -46.77864456176758, -35.93617248535156, -30.601194381713867, -35.95814514160156, -48.274024963378906, -25.98076629638672, -31.88875961303711, -26.61798858642578, -27.84937858581543, -10.843442916870117, -31.189998626708984, -18.777833938598633, -28.609195709228516, -44.09263229370117, -34.77036666870117, -36.34632110595703, -35.91900634765625, -22.050609588623047, -20.789627075195312, -28.788022994995117, -28.786558151245117, -30.093875885009766, -20.009498596191406, -28.985681533813477, -36.92577362060547, -21.195064544677734, -35.10413360595703, -18.920547485351562, -7.29244327545166, -18.97661018371582, -18.737730026245117, -28.48552703857422, -40.68458938598633, -13.938048362731934, -41.10294723510742, -23.57842445373535, -37.418888092041016, -19.775508880615234, -35.38243103027344, -19.545827865600586, -34.10350799560547, -18.936229705810547, -14.495304107666016, -18.308454513549805, -42.433040618896484, -34.17174530029297, -8.334128379821777, -29.619901657104492, -17.123640060424805, -37.7819709777832, -8.234210014343262, -23.41154670715332, 19.130090713500977, -6.54270601272583, -26.697345733642578, -11.973068237304688, -29.0792179107666, -9.727684020996094, -37.7494010925293, -17.75229263305664, -12.070022583007812, -37.51359176635742, -28.454248428344727, 12.419317245483398, -50.66371536254883, -40.124454498291016, -40.62025451660156, -12.789047241210938, -46.16062927246094, -26.28531265258789, -50.65301513671875, -48.851585388183594, -23.913942337036133, -36.890357971191406, -37.16847229003906, -31.23723602294922, -31.24173355102539, -25.7540225982666, -35.51126480102539, -20.057371139526367, -39.74638748168945, -37.631622314453125, -34.49727249145508, -25.5843505859375, -28.935279846191406, -25.51831817626953, -27.550670623779297, -25.95342445373535, -33.593849182128906, -5.3490166664123535, -33.151790618896484, -17.24727439880371, -42.4161491394043, -33.15198516845703, -38.35783004760742, -28.308683395385742, -28.30906867980957, -39.31296157836914, -21.345169067382812, -12.275986671447754, -33.50938034057617, -6.173289775848389, -46.04322814941406, -23.965211868286133, -41.33906936645508, -12.732810020446777, -29.58641815185547, -34.20207977294922, -49.689334869384766, -20.54609489440918, -41.37709045410156, -24.286663055419922, -38.5286750793457, -24.96628189086914, -13.627440452575684, -14.95160961151123, -30.387331008911133, -23.97761344909668, -28.272369384765625, -38.408206939697266, -19.46847152709961, -16.01312828063965, -26.21226692199707, -26.788644790649414, -37.03447341918945, -19.60015869140625, -12.299031257629395, -24.202930450439453, -11.943763732910156, -16.638805389404297, -18.770112991333008, -24.158260345458984, -24.829181671142578, -23.664701461791992, -35.54816818237305, -21.377037048339844, -21.589353561401367, -16.089298248291016, -14.742829322814941, -27.96953582763672, -24.192007064819336, -28.861780166625977, -43.084129333496094, -29.03337287902832, -15.780496597290039, -15.82583236694336, -24.035831451416016, -41.14949417114258, -19.617549896240234, -34.970375061035156, -14.651652336120605, -13.5089693069458, -12.840847969055176, -21.74251365661621, -20.292665481567383, -32.03078842163086, -17.214155197143555, -15.417683601379395, -34.07405090332031, -22.7128849029541, -28.547639846801758, -22.50437355041504, -31.366539001464844, -20.388500213623047, -46.29436111450195, -18.490636825561523, -29.36751937866211, -22.034095764160156, -42.99647903442383, -39.72489547729492, -16.953125, -22.83677101135254, -21.72256851196289, -31.448524475097656, -42.904972076416016, -28.109758377075195, -48.34526443481445, -28.479337692260742, -28.872756958007812, -31.089941024780273, -20.89725112915039, -35.78511428833008, -26.203155517578125, -15.989350318908691, -42.51966094970703, -30.505416870117188, -44.713741302490234, -35.5760612487793, -20.08359718322754, -9.656198501586914, -21.698373794555664, -38.43678283691406, -35.43801498413086, -39.120880126953125, -27.889650344848633, -38.524940490722656, -22.58004379272461, -31.883609771728516], \"xaxis\": \"x\", \"y\": [-0.2481454312801361, 6.90185546875, -19.047956466674805, 3.414625406265259, 0.42611613869667053, 10.932866096496582, -14.986936569213867, -5.140766620635986, -7.962770938873291, -9.361443519592285, -15.525835037231445, -12.892659187316895, -0.9796760678291321, -16.823928833007812, 4.68773078918457, 2.5987699031829834, -5.459958553314209, -3.2849788665771484, -20.444868087768555, 3.8729538917541504, -6.3242268562316895, -18.907316207885742, -22.243518829345703, -3.2678537368774414, 1.0124142169952393, 15.065659523010254, -3.2797603607177734, 7.058749198913574, -21.2313232421875, 2.973045587539673, -0.911413848400116, -3.9489493370056152, -5.502884387969971, -0.03454187884926796, -7.254241466522217, -23.674327850341797, 1.3466060161590576, -6.802453994750977, -5.589572429656982, -5.712274551391602, 20.31073760986328, 21.048274993896484, 2.2257025241851807, -16.7771053314209, -12.31605052947998, -3.0052084922790527, -7.395136833190918, 12.395992279052734, 6.8559794425964355, -16.02800178527832, 12.382158279418945, -18.462377548217773, 5.5669145584106445, 4.257907390594482, 25.24428367614746, 10.850159645080566, 13.041015625, 6.699883937835693, -8.71444034576416, 13.623266220092773, -8.398479461669922, -16.248178482055664, 11.25948429107666, 5.873508453369141, -2.3309736251831055, -0.6474653482437134, -22.249221801757812, -13.875344276428223, 13.02352237701416, 25.154258728027344, -9.39496898651123, -0.6257593035697937, 3.2804789543151855, -3.3168535232543945, -3.0940802097320557, -28.59004783630371, 12.967576026916504, -0.9009815454483032, -23.466569900512695, -6.49290132522583, -18.125574111938477, -17.117555618286133, -4.618587970733643, 11.419867515563965, 5.335273265838623, 5.637447834014893, 2.956071376800537, 2.9566946029663086, -0.14543302357196808, 7.16478157043457, -15.975229263305664, -16.328594207763672, -16.55470848083496, 4.475290775299072, -21.215410232543945, 10.439949035644531, 11.320550918579102, 6.925328731536865, 16.84123992919922, 12.41272258758545, -13.452008247375488, 7.537420749664307, -7.369279384613037, 5.298845291137695, -10.679142951965332, 7.077339172363281, -10.946382522583008, 24.993146896362305, -11.382068634033203, 5.4546027183532715, 7.0360565185546875, -0.8086392879486084, 24.509963989257812, -0.2903706431388855, -3.171868324279785, 16.006134033203125, 5.251933574676514, -0.3715401887893677, 5.541332721710205, 26.382131576538086, 10.808455467224121, -27.752681732177734, -6.43925666809082, -1.8925331830978394, 6.263204097747803, -15.71930980682373, -19.732210159301758, 11.095096588134766, -8.161871910095215, -20.032339096069336, -23.239891052246094, -7.0198211669921875, 10.148870468139648, -6.517676830291748, 12.199689865112305, -12.564087867736816, -4.605397701263428, -7.045395851135254, -2.5983970165252686, -7.698416709899902, 7.751052379608154, -6.402158260345459, 8.801131248474121, 8.092287063598633, 12.19750690460205, 0.01639937423169613, 29.57587432861328, 9.638875007629395, -5.069024562835693, -17.911054611206055, 15.35096549987793, -10.567216873168945, 15.101099014282227, -10.639887809753418, 7.655132293701172, -17.18415641784668, 19.39284896850586, 6.412760257720947, -18.7846622467041, -0.9092034697532654, 6.4130330085754395, -23.563262939453125, -27.424959182739258, -27.425004959106445, -8.949329376220703, -16.105655670166016, 10.736406326293945, 23.392738342285156, -2.8241333961486816, -13.103279113769531, -12.123941421508789, -4.493164539337158, 4.4464006423950195, -11.34152603149414, -10.75743293762207, -2.6194753646850586, 28.233535766601562, -5.026109218597412, -11.492547988891602, -5.619836807250977, 11.632482528686523, -13.400750160217285, -14.267596244812012, -10.27468490600586, -18.095590591430664, -3.519094944000244, 9.10155200958252, -5.035804748535156, -2.862393617630005, -4.871677398681641, -1.4401617050170898, 9.281017303466797, -21.1162052154541, -6.561587810516357, -18.42921257019043, -12.788537979125977, 23.717357635498047, 2.454080104827881, 10.877215385437012, 10.705758094787598, 12.211191177368164, -6.0226545333862305, 19.620670318603516, 19.3549747467041, -2.8491172790527344, -3.0587408542633057, -0.006305295508354902, 23.81279182434082, 11.089316368103027, -19.047998428344727, 12.619769096374512, 2.685173749923706, 0.8796082139015198, 24.079069137573242, 10.94221305847168, 2.7946112155914307, 24.927297592163086, 4.718087196350098, 20.19315528869629, 20.328622817993164, 2.679088830947876, 14.669608116149902, 2.8383612632751465, 15.94699764251709, -20.243383407592773, 12.912934303283691, 25.615896224975586, 16.971834182739258, 0.3269013464450836, 1.875037670135498, 28.646757125854492, 4.146727085113525, -6.087971210479736, -26.472606658935547, 7.731084823608398, 11.946746826171875, 7.675046443939209, 1.729187250137329, -0.5766770243644714, -1.348120927810669, 1.8357549905776978, 8.654048919677734, -1.7973754405975342, -3.0347344875335693, -7.183014869689941, -8.773208618164062, -15.324406623840332, 25.59186363220215, -12.474419593811035, -0.7179737687110901, 3.8010265827178955, -5.0919623374938965, -9.782317161560059, -13.768425941467285, 14.727046012878418, 21.46886444091797, -20.56728172302246, 26.030271530151367, 12.366718292236328, 13.244543075561523, -12.62411880493164, 6.951643943786621, 2.1572861671447754, -8.146852493286133, 17.61655616760254], \"yaxis\": \"y\"}, {\"hoverlabel\": {\"namelength\": 0}, \"hovertemplate\": \"topic=rugby<br>x=%{x}<br>y=%{y}\", \"legendgroup\": \"topic=rugby\", \"marker\": {\"color\": \"#ab63fa\", \"symbol\": \"circle\"}, \"mode\": \"markers\", \"name\": \"topic=rugby\", \"showlegend\": true, \"type\": \"scatter\", \"x\": [8.21684455871582, 5.424159049987793, 8.551888465881348, 15.905095100402832, 9.574013710021973, 10.01746654510498, 5.034575462341309, 10.497465133666992, 9.15627384185791, 2.9698972702026367, -1.2514137029647827, 15.211809158325195, 13.675261497497559, 4.756447792053223, 11.950102806091309, 7.464941024780273, 6.300487995147705, 2.8802108764648438, 3.817707061767578, 6.847203254699707, 6.43075704574585, 12.987297058105469, 15.00304126739502, 4.633893013000488, 6.608792781829834, 2.3346352577209473, 7.4599289894104, 5.6988091468811035, 9.51319408416748, 6.359227657318115, 3.81101131439209, 6.6450700759887695, 4.018556594848633, -0.17183959484100342, 11.829917907714844, 21.3863468170166, 7.722938060760498, -2.8531594276428223, 13.250907897949219, 6.17013692855835, -2.6291561126708984, -1.249037504196167, 8.876944541931152, 12.22844123840332, 20.513578414916992, 20.50555419921875, 10.83896255493164, 18.057266235351562, 16.542816162109375, 6.977303504943848, 4.450623512268066, 16.15196418762207, 10.31344223022461, 5.595386981964111, 6.138120651245117, 18.179893493652344, 12.574361801147461, 9.019036293029785, 10.473125457763672, 20.327402114868164, 16.54231071472168, 13.919276237487793, 19.94162940979004, 9.165446281433105, 10.714365005493164, 12.459881782531738, 14.0699462890625, 3.8999125957489014, 9.31710433959961, 15.717901229858398, 2.237919569015503, 6.1099629402160645, 2.2447428703308105, 0.5157544016838074, 13.086997032165527, 3.552502155303955, 13.532329559326172, 6.364263534545898, 13.494443893432617, 13.616215705871582, 2.0507185459136963, 13.032285690307617, 21.17877197265625, 20.590835571289062, 10.827199935913086, 22.890016555786133, 10.684924125671387, 23.572418212890625, 13.735797882080078, 12.73505687713623, 21.274532318115234, 17.360191345214844, -1.4985095262527466, 5.653353691101074, 1.03981614112854, 0.7791863679885864, 5.928067207336426, 21.42192840576172, 24.656810760498047, 3.794118642807007, 3.161860942840576, 17.108827590942383, 20.639354705810547, 17.112071990966797, 13.890308380126953, 17.95972442626953, 0.8538325428962708, -2.8418867588043213, 20.496458053588867, 14.880101203918457, -1.4234485626220703, -7.40883207321167, -7.404849052429199, 27.690383911132812, 24.612661361694336, -1.1241110563278198, 14.051687240600586, 23.51618766784668, 1.666433334350586, 1.2187583446502686, 2.150907516479492, 11.017727851867676, 9.700780868530273, -0.2552224099636078, -2.3788681030273438, -2.4385435581207275, 21.749412536621094, 8.073797225952148, 21.24856185913086, 9.997254371643066, 8.084898948669434, 6.402689456939697, 10.018759727478027, 12.843693733215332, 16.151966094970703, 16.928789138793945, 15.159384727478027, 4.452602386474609, 15.711433410644531, 4.569759845733643, 7.496718406677246, 12.509243965148926, 9.521564483642578, -0.49567294120788574, -0.46774035692214966, 1.7516074180603027, -1.7038756608963013], \"xaxis\": \"x\", \"y\": [-8.653806686401367, -3.4336307048797607, -8.964688301086426, -18.484373092651367, -12.91965103149414, -11.500043869018555, -11.277074813842773, 1.3940744400024414, 0.8155241012573242, -8.185538291931152, -8.267918586730957, 2.5891098976135254, -15.72905445098877, 7.6631646156311035, 9.935967445373535, -6.233457088470459, -4.234180927276611, -11.826868057250977, -13.377767562866211, 2.2239747047424316, 2.9419069290161133, -11.550209999084473, -16.8769474029541, 3.3757457733154297, 0.5920161008834839, -11.015036582946777, 5.874169826507568, -13.026653289794922, 4.463188648223877, -2.12418794631958, -13.399550437927246, -4.256246089935303, 4.580665111541748, -17.4561710357666, 7.893576145172119, -13.69311237335205, 5.552144527435303, -19.17717170715332, 5.927351474761963, -10.147945404052734, -10.915522575378418, -11.357006072998047, -5.80318546295166, -15.595373153686523, -2.837895154953003, -2.8431003093719482, -9.773964881896973, 0.5404258966445923, -17.657800674438477, 8.222551345825195, -5.602637767791748, -11.609217643737793, -6.8246307373046875, 0.8529050946235657, -7.111083984375, 0.5790442228317261, -15.077367782592773, 7.863051891326904, -5.870301246643066, -12.862812995910645, -17.657257080078125, -7.265180587768555, -12.496490478515625, -17.739959716796875, 2.312572717666626, -11.32107162475586, 6.573267936706543, -5.870576858520508, -1.3502100706100464, 4.311679840087891, -19.98138427734375, 6.848013401031494, -5.285531997680664, 6.130819797515869, -3.6547164916992188, 4.648608684539795, -2.255967617034912, 9.859932899475098, -0.5221989154815674, 11.392409324645996, -18.31283187866211, 10.901018142700195, -8.39953899383545, -7.549036026000977, -2.0822248458862305, 3.437847375869751, -4.7185797691345215, -3.395350456237793, -1.4872655868530273, -5.636319160461426, 1.7035695314407349, -5.259162425994873, -7.057019233703613, -14.06447696685791, -14.209508895874023, -16.85364532470703, -15.067039489746094, 3.779177665710449, -3.3683228492736816, -6.856079578399658, -17.237403869628906, -3.042742967605591, -4.881412029266357, -3.0405592918395996, -6.14109468460083, -4.877911567687988, -5.29241943359375, -6.56027889251709, -6.936365604400635, -6.501298904418945, -6.366915225982666, -11.267160415649414, -11.271718978881836, 5.312960624694824, -9.062161445617676, -5.402982711791992, -7.817688941955566, -3.9053122997283936, 0.9895449876785278, -0.4034072458744049, -1.8006205558776855, 0.4804103970527649, 7.753415584564209, 6.033308029174805, 5.063146591186523, 5.166496276855469, 3.357734441757202, 2.8742692470550537, -1.5615323781967163, -0.5787115693092346, -12.168729782104492, -11.056405067443848, -11.491873741149902, 5.2444233894348145, -11.609217643737793, -7.973270416259766, 2.929351568222046, -2.966887950897217, -15.78027057647705, 6.7224650382995605, -9.85016918182373, -7.58990478515625, 4.468648910522461, -13.13641357421875, -13.592036247253418, -1.3999460935592651, -14.156815528869629], \"yaxis\": \"y\"}, {\"hoverlabel\": {\"namelength\": 0}, \"hovertemplate\": \"topic=tennis<br>x=%{x}<br>y=%{y}\", \"legendgroup\": \"topic=tennis\", \"marker\": {\"color\": \"#FFA15A\", \"symbol\": \"circle\"}, \"mode\": \"markers\", \"name\": \"topic=tennis\", \"showlegend\": true, \"type\": \"scatter\", \"x\": [7.7326226234436035, 1.2053531408309937, 0.02884805202484131, -5.83700704574585, 2.7280306816101074, -6.239107608795166, -3.9658875465393066, 1.5198211669921875, 3.4871816635131836, 7.013559341430664, -4.4233479499816895, -8.79511833190918, 2.7522459030151367, 6.276669025421143, 8.721222877502441, 7.013415813446045, -5.05029296875, -8.79508113861084, 8.879705429077148, 8.860286712646484, 3.138617515563965, -13.667607307434082, -12.204682350158691, -0.7117300629615784, 3.418543815612793, 5.177548408508301, 7.756466388702393, 13.126855850219727, -4.305659770965576, -1.4907467365264893, -8.64561939239502, 0.4419744312763214, -1.8606151342391968, -13.685081481933594, -3.2094273567199707, 5.929404258728027, 0.1453346461057663, -0.7959568500518799, 2.759913444519043, 4.205997467041016, 8.862756729125977, -3.978557586669922, -1.7468409538269043, 0.9993772506713867, 1.8104283809661865, -6.5192131996154785, 3.1184451580047607, 6.0849127769470215, -6.561576843261719, -6.561480522155762, 3.1070127487182617, -4.992606163024902, 3.0125889778137207, 8.210455894470215, -3.5351786613464355, 4.553268909454346, -2.355790853500366, -11.487893104553223, -11.477739334106445, -1.5128452777862549, -7.160367965698242, -7.931430339813232, -2.111318826675415, 0.9896214604377747, -1.020870327949524, -2.603022336959839, -2.4729573726654053, 5.300274848937988, 1.0187945365905762, 1.0172851085662842, -5.838798522949219, 6.0300774574279785, 0.9957889914512634, 3.857809066772461, 3.8767967224121094, -0.7280685305595398, -3.1474430561065674, -0.7359540462493896, -7.1150031089782715, -3.4971911907196045, 0.33799681067466736, 13.046180725097656, 0.8437227606773376, 9.904372215270996, 0.24945023655891418, 1.835998773574829, -5.3684892654418945, 4.869973659515381, -4.050085544586182, 7.92094087600708, -5.832695007324219, 11.6152925491333, -11.427428245544434, -6.2050347328186035, 6.067227840423584, -0.18365755677223206, 7.669565200805664, 3.4842355251312256, -3.677793025970459, 9.381102561950684], \"xaxis\": \"x\", \"y\": [42.3049430847168, 38.602317810058594, 43.108848571777344, 39.07374954223633, 40.79179382324219, 41.92036437988281, 42.934242248535156, 42.01662063598633, 46.52202606201172, 33.260986328125, 20.82512855529785, -21.666507720947266, 40.786651611328125, 43.63557434082031, 28.98695945739746, 33.26201248168945, 22.484394073486328, -21.666454315185547, 29.87813377380371, 33.094146728515625, 34.67313766479492, 34.386905670166016, 41.218379974365234, 46.295066833496094, 33.41632843017578, 34.120155334472656, 28.399688720703125, 26.984088897705078, 22.48571014404297, 34.80115509033203, 31.381250381469727, 48.05181884765625, 47.32904815673828, 34.38845443725586, 27.672393798828125, 30.917924880981445, 29.71687126159668, 46.09552764892578, 43.05093765258789, 31.679866790771484, 42.236026763916016, 29.924245834350586, 38.709739685058594, 18.254093170166016, 29.99288558959961, 31.723737716674805, 26.766115188598633, 40.65024185180664, 33.02665710449219, 33.02685546875, 26.80209732055664, 31.057348251342773, 37.26182556152344, 36.74785232543945, 41.32530975341797, 35.27143096923828, 39.46467971801758, 39.919673919677734, 39.911094665527344, 40.847076416015625, 35.94894027709961, 35.83027267456055, 35.94889450073242, 30.259288787841797, 23.550443649291992, 35.53774642944336, 33.870967864990234, 32.18367004394531, 35.558067321777344, 35.56028747558594, 35.39537811279297, 39.83094787597656, 18.322765350341797, 38.71493148803711, 36.07715606689453, 28.8028564453125, 27.85162925720215, 47.681854248046875, 30.782634735107422, 22.506519317626953, 33.39173126220703, 27.00929832458496, 36.788299560546875, 32.60798263549805, 40.13131332397461, 44.68001174926758, 42.5362434387207, 46.09947967529297, 42.9366340637207, 28.219406127929688, 38.97942352294922, 36.320098876953125, 41.7816276550293, 37.449974060058594, 43.753292083740234, 42.08285140991211, 36.763694763183594, 41.75130844116211, 20.44862174987793, 36.966468811035156], \"yaxis\": \"y\"}],\n",
              "                        {\"legend\": {\"tracegroupgap\": 0}, \"margin\": {\"t\": 60}, \"template\": {\"data\": {\"bar\": [{\"error_x\": {\"color\": \"#2a3f5f\"}, \"error_y\": {\"color\": \"#2a3f5f\"}, \"marker\": {\"line\": {\"color\": \"#E5ECF6\", \"width\": 0.5}}, \"type\": \"bar\"}], \"barpolar\": [{\"marker\": {\"line\": {\"color\": \"#E5ECF6\", \"width\": 0.5}}, \"type\": \"barpolar\"}], \"carpet\": [{\"aaxis\": {\"endlinecolor\": \"#2a3f5f\", \"gridcolor\": \"white\", \"linecolor\": \"white\", \"minorgridcolor\": \"white\", \"startlinecolor\": \"#2a3f5f\"}, \"baxis\": {\"endlinecolor\": \"#2a3f5f\", \"gridcolor\": \"white\", \"linecolor\": \"white\", \"minorgridcolor\": \"white\", \"startlinecolor\": \"#2a3f5f\"}, \"type\": \"carpet\"}], \"choropleth\": [{\"colorbar\": {\"outlinewidth\": 0, \"ticks\": \"\"}, \"type\": \"choropleth\"}], \"contour\": [{\"colorbar\": {\"outlinewidth\": 0, \"ticks\": \"\"}, \"colorscale\": [[0.0, \"#0d0887\"], [0.1111111111111111, \"#46039f\"], [0.2222222222222222, \"#7201a8\"], [0.3333333333333333, \"#9c179e\"], [0.4444444444444444, \"#bd3786\"], [0.5555555555555556, \"#d8576b\"], [0.6666666666666666, \"#ed7953\"], [0.7777777777777778, \"#fb9f3a\"], [0.8888888888888888, \"#fdca26\"], [1.0, \"#f0f921\"]], \"type\": \"contour\"}], \"contourcarpet\": [{\"colorbar\": {\"outlinewidth\": 0, \"ticks\": \"\"}, \"type\": \"contourcarpet\"}], \"heatmap\": [{\"colorbar\": {\"outlinewidth\": 0, \"ticks\": \"\"}, \"colorscale\": [[0.0, \"#0d0887\"], [0.1111111111111111, \"#46039f\"], [0.2222222222222222, \"#7201a8\"], [0.3333333333333333, \"#9c179e\"], [0.4444444444444444, \"#bd3786\"], [0.5555555555555556, \"#d8576b\"], [0.6666666666666666, \"#ed7953\"], [0.7777777777777778, \"#fb9f3a\"], [0.8888888888888888, \"#fdca26\"], [1.0, \"#f0f921\"]], \"type\": \"heatmap\"}], \"heatmapgl\": [{\"colorbar\": {\"outlinewidth\": 0, \"ticks\": \"\"}, \"colorscale\": [[0.0, \"#0d0887\"], [0.1111111111111111, \"#46039f\"], [0.2222222222222222, \"#7201a8\"], [0.3333333333333333, \"#9c179e\"], [0.4444444444444444, \"#bd3786\"], [0.5555555555555556, \"#d8576b\"], [0.6666666666666666, \"#ed7953\"], [0.7777777777777778, \"#fb9f3a\"], [0.8888888888888888, \"#fdca26\"], [1.0, \"#f0f921\"]], \"type\": \"heatmapgl\"}], \"histogram\": [{\"marker\": {\"colorbar\": {\"outlinewidth\": 0, \"ticks\": \"\"}}, \"type\": \"histogram\"}], \"histogram2d\": [{\"colorbar\": {\"outlinewidth\": 0, \"ticks\": \"\"}, \"colorscale\": [[0.0, \"#0d0887\"], [0.1111111111111111, \"#46039f\"], [0.2222222222222222, \"#7201a8\"], [0.3333333333333333, \"#9c179e\"], [0.4444444444444444, \"#bd3786\"], [0.5555555555555556, \"#d8576b\"], [0.6666666666666666, \"#ed7953\"], [0.7777777777777778, \"#fb9f3a\"], [0.8888888888888888, \"#fdca26\"], [1.0, \"#f0f921\"]], \"type\": \"histogram2d\"}], \"histogram2dcontour\": [{\"colorbar\": {\"outlinewidth\": 0, \"ticks\": \"\"}, \"colorscale\": [[0.0, \"#0d0887\"], [0.1111111111111111, \"#46039f\"], [0.2222222222222222, \"#7201a8\"], [0.3333333333333333, \"#9c179e\"], [0.4444444444444444, \"#bd3786\"], [0.5555555555555556, \"#d8576b\"], [0.6666666666666666, \"#ed7953\"], [0.7777777777777778, \"#fb9f3a\"], [0.8888888888888888, \"#fdca26\"], [1.0, \"#f0f921\"]], \"type\": \"histogram2dcontour\"}], \"mesh3d\": [{\"colorbar\": {\"outlinewidth\": 0, \"ticks\": \"\"}, \"type\": \"mesh3d\"}], \"parcoords\": [{\"line\": {\"colorbar\": {\"outlinewidth\": 0, \"ticks\": \"\"}}, \"type\": \"parcoords\"}], \"pie\": [{\"automargin\": true, \"type\": \"pie\"}], \"scatter\": [{\"marker\": {\"colorbar\": {\"outlinewidth\": 0, \"ticks\": \"\"}}, \"type\": \"scatter\"}], \"scatter3d\": [{\"line\": {\"colorbar\": {\"outlinewidth\": 0, \"ticks\": \"\"}}, \"marker\": {\"colorbar\": {\"outlinewidth\": 0, \"ticks\": \"\"}}, \"type\": \"scatter3d\"}], \"scattercarpet\": [{\"marker\": {\"colorbar\": {\"outlinewidth\": 0, \"ticks\": \"\"}}, \"type\": \"scattercarpet\"}], \"scattergeo\": [{\"marker\": {\"colorbar\": {\"outlinewidth\": 0, \"ticks\": \"\"}}, \"type\": \"scattergeo\"}], \"scattergl\": [{\"marker\": {\"colorbar\": {\"outlinewidth\": 0, \"ticks\": \"\"}}, \"type\": \"scattergl\"}], \"scattermapbox\": [{\"marker\": {\"colorbar\": {\"outlinewidth\": 0, \"ticks\": \"\"}}, \"type\": \"scattermapbox\"}], \"scatterpolar\": [{\"marker\": {\"colorbar\": {\"outlinewidth\": 0, \"ticks\": \"\"}}, \"type\": \"scatterpolar\"}], \"scatterpolargl\": [{\"marker\": {\"colorbar\": {\"outlinewidth\": 0, \"ticks\": \"\"}}, \"type\": \"scatterpolargl\"}], \"scatterternary\": [{\"marker\": {\"colorbar\": {\"outlinewidth\": 0, \"ticks\": \"\"}}, \"type\": \"scatterternary\"}], \"surface\": [{\"colorbar\": {\"outlinewidth\": 0, \"ticks\": \"\"}, \"colorscale\": [[0.0, \"#0d0887\"], [0.1111111111111111, \"#46039f\"], [0.2222222222222222, \"#7201a8\"], [0.3333333333333333, \"#9c179e\"], [0.4444444444444444, \"#bd3786\"], [0.5555555555555556, \"#d8576b\"], [0.6666666666666666, \"#ed7953\"], [0.7777777777777778, \"#fb9f3a\"], [0.8888888888888888, \"#fdca26\"], [1.0, \"#f0f921\"]], \"type\": \"surface\"}], \"table\": [{\"cells\": {\"fill\": {\"color\": \"#EBF0F8\"}, \"line\": {\"color\": \"white\"}}, \"header\": {\"fill\": {\"color\": \"#C8D4E3\"}, \"line\": {\"color\": \"white\"}}, \"type\": \"table\"}]}, \"layout\": {\"annotationdefaults\": {\"arrowcolor\": \"#2a3f5f\", \"arrowhead\": 0, \"arrowwidth\": 1}, \"coloraxis\": {\"colorbar\": {\"outlinewidth\": 0, \"ticks\": \"\"}}, \"colorscale\": {\"diverging\": [[0, \"#8e0152\"], [0.1, \"#c51b7d\"], [0.2, \"#de77ae\"], [0.3, \"#f1b6da\"], [0.4, \"#fde0ef\"], [0.5, \"#f7f7f7\"], [0.6, \"#e6f5d0\"], [0.7, \"#b8e186\"], [0.8, \"#7fbc41\"], [0.9, \"#4d9221\"], [1, \"#276419\"]], \"sequential\": [[0.0, \"#0d0887\"], [0.1111111111111111, \"#46039f\"], [0.2222222222222222, \"#7201a8\"], [0.3333333333333333, \"#9c179e\"], [0.4444444444444444, \"#bd3786\"], [0.5555555555555556, \"#d8576b\"], [0.6666666666666666, \"#ed7953\"], [0.7777777777777778, \"#fb9f3a\"], [0.8888888888888888, \"#fdca26\"], [1.0, \"#f0f921\"]], \"sequentialminus\": [[0.0, \"#0d0887\"], [0.1111111111111111, \"#46039f\"], [0.2222222222222222, \"#7201a8\"], [0.3333333333333333, \"#9c179e\"], [0.4444444444444444, \"#bd3786\"], [0.5555555555555556, \"#d8576b\"], [0.6666666666666666, \"#ed7953\"], [0.7777777777777778, \"#fb9f3a\"], [0.8888888888888888, \"#fdca26\"], [1.0, \"#f0f921\"]]}, \"colorway\": [\"#636efa\", \"#EF553B\", \"#00cc96\", \"#ab63fa\", \"#FFA15A\", \"#19d3f3\", \"#FF6692\", \"#B6E880\", \"#FF97FF\", \"#FECB52\"], \"font\": {\"color\": \"#2a3f5f\"}, \"geo\": {\"bgcolor\": \"white\", \"lakecolor\": \"white\", \"landcolor\": \"#E5ECF6\", \"showlakes\": true, \"showland\": true, \"subunitcolor\": \"white\"}, \"hoverlabel\": {\"align\": \"left\"}, \"hovermode\": \"closest\", \"mapbox\": {\"style\": \"light\"}, \"paper_bgcolor\": \"white\", \"plot_bgcolor\": \"#E5ECF6\", \"polar\": {\"angularaxis\": {\"gridcolor\": \"white\", \"linecolor\": \"white\", \"ticks\": \"\"}, \"bgcolor\": \"#E5ECF6\", \"radialaxis\": {\"gridcolor\": \"white\", \"linecolor\": \"white\", \"ticks\": \"\"}}, \"scene\": {\"xaxis\": {\"backgroundcolor\": \"#E5ECF6\", \"gridcolor\": \"white\", \"gridwidth\": 2, \"linecolor\": \"white\", \"showbackground\": true, \"ticks\": \"\", \"zerolinecolor\": \"white\"}, \"yaxis\": {\"backgroundcolor\": \"#E5ECF6\", \"gridcolor\": \"white\", \"gridwidth\": 2, \"linecolor\": \"white\", \"showbackground\": true, \"ticks\": \"\", \"zerolinecolor\": \"white\"}, \"zaxis\": {\"backgroundcolor\": \"#E5ECF6\", \"gridcolor\": \"white\", \"gridwidth\": 2, \"linecolor\": \"white\", \"showbackground\": true, \"ticks\": \"\", \"zerolinecolor\": \"white\"}}, \"shapedefaults\": {\"line\": {\"color\": \"#2a3f5f\"}}, \"ternary\": {\"aaxis\": {\"gridcolor\": \"white\", \"linecolor\": \"white\", \"ticks\": \"\"}, \"baxis\": {\"gridcolor\": \"white\", \"linecolor\": \"white\", \"ticks\": \"\"}, \"bgcolor\": \"#E5ECF6\", \"caxis\": {\"gridcolor\": \"white\", \"linecolor\": \"white\", \"ticks\": \"\"}}, \"title\": {\"x\": 0.05}, \"xaxis\": {\"automargin\": true, \"gridcolor\": \"white\", \"linecolor\": \"white\", \"ticks\": \"\", \"title\": {\"standoff\": 15}, \"zerolinecolor\": \"white\", \"zerolinewidth\": 2}, \"yaxis\": {\"automargin\": true, \"gridcolor\": \"white\", \"linecolor\": \"white\", \"ticks\": \"\", \"title\": {\"standoff\": 15}, \"zerolinecolor\": \"white\", \"zerolinewidth\": 2}}}, \"xaxis\": {\"anchor\": \"y\", \"domain\": [0.0, 1.0], \"title\": {\"text\": \"x\"}}, \"yaxis\": {\"anchor\": \"x\", \"domain\": [0.0, 1.0], \"title\": {\"text\": \"y\"}}},\n",
              "                        {\"responsive\": true}\n",
              "                    ).then(function(){\n",
              "                            \n",
              "var gd = document.getElementById('7a0606e6-cc9b-4d22-afdb-168f436e17a1');\n",
              "var x = new MutationObserver(function (mutations, observer) {{\n",
              "        var display = window.getComputedStyle(gd).display;\n",
              "        if (!display || display === 'none') {{\n",
              "            console.log([gd, 'removed!']);\n",
              "            Plotly.purge(gd);\n",
              "            observer.disconnect();\n",
              "        }}\n",
              "}});\n",
              "\n",
              "// Listen for the removal of the full notebook cells\n",
              "var notebookContainer = gd.closest('#notebook-container');\n",
              "if (notebookContainer) {{\n",
              "    x.observe(notebookContainer, {childList: true});\n",
              "}}\n",
              "\n",
              "// Listen for the clearing of the current output cell\n",
              "var outputEl = gd.closest('.output');\n",
              "if (outputEl) {{\n",
              "    x.observe(outputEl, {childList: true});\n",
              "}}\n",
              "\n",
              "                        })\n",
              "                };\n",
              "                \n",
              "            </script>\n",
              "        </div>\n",
              "</body>\n",
              "</html>"
            ]
          },
          "metadata": {
            "tags": []
          }
        }
      ]
    },
    {
      "cell_type": "code",
      "metadata": {
        "id": "lIhjctzZTbQg"
      },
      "source": [
        ""
      ],
      "execution_count": null,
      "outputs": []
    }
  ]
}